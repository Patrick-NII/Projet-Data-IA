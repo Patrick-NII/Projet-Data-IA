{
 "cells": [
  {
   "cell_type": "markdown",
   "metadata": {},
   "source": [
    "# <center> **CONSTRUCTION D'UNE APPLICATION DE SYSTEME DE RECOMMANDATIONS DE FILMS**"
   ]
  },
  {
   "cell_type": "markdown",
   "metadata": {},
   "source": [
    "## Objectif du Projet"
   ]
  },
  {
   "cell_type": "markdown",
   "metadata": {},
   "source": [
    "L'objectif de ce projet est de construire une application de système de recommandations de films. L'utilisateur de cette application renseigne les informations relatives à un film donné et l'application lui retourne les n films les plus similaires à ce film donné."
   ]
  },
  {
   "cell_type": "markdown",
   "metadata": {},
   "source": [
    "La technique de la \"cosine similarity\" (similarité cosinus) opté pour notre projet, est une méthode couramment utilisée dans le domaine de la recommandation de films et d'autres systèmes de recommandation. Elle est particulièrement populaire dans le contexte du filtrage collaboratif. La similarité cosinus mesure l'angle entre deux vecteurs dans un espace multidimensionnel, et elle est souvent utilisée pour évaluer la similarité entre des utilisateurs ou des articles.\n",
    "\n",
    "Voici une explication simple de la \"cosine similarity\" :\n",
    "\n",
    "1. **Représentation vectorielle :** Chaque utilisateur et chaque film sont représentés comme des vecteurs dans un espace multidimensionnel. Chaque dimension correspond à une caractéristique particulière (par exemple, le genre du film, l'année de sortie, etc.).\n",
    "\n",
    "2. **Calcul des similarités :** La similarité cosinus mesure l'angle entre deux vecteurs. Plus l'angle est petit, plus les vecteurs sont similaires. La formule de la similarité cosinus entre deux vecteurs \\(A\\) et \\(B\\) est donnée par la formule suivante :\n",
    "\n"
   ]
  },
  {
   "cell_type": "markdown",
   "metadata": {
    "vscode": {
     "languageId": "plaintext"
    }
   },
   "source": [
    "La similarité cosinus renvoie une valeur comprise entre -1 et 1, où 1 indique une similarité totale, 0 une absence de similarité, et -1 une dissimilarité totale.\n",
    "\n",
    "3. **Application à la recommandation de films :** Une fois que les utilisateurs et les films sont représentés comme des vecteurs, la similarité cosinus peut être utilisée pour mesurer la similarité entre les préférences d'un utilisateur et les caractéristiques d'un film. Plus la similarité cosinus entre l'utilisateur et le film est élevée, plus il est probable que l'utilisateur apprécie ce film.\n",
    "\n",
    "4. **Recommandation :** Pour recommander des films à un utilisateur donné, le système peut calculer la similarité cosinus entre le vecteur représentant l'utilisateur et les vecteurs représentant les films non visionnés. Les films avec les valeurs de similarité les plus élevées sont alors recommandés à l'utilisateur.\n",
    "\n",
    "Cette approche simple de la \"cosine similarity\" offre une méthode intuitive pour évaluer la similarité entre utilisateurs et articles dans un espace multidimensionnel, facilitant ainsi la recommandation de films basée sur les préférences passées des utilisateurs."
   ]
  },
  {
   "cell_type": "code",
   "execution_count": 2,
   "metadata": {},
   "outputs": [],
   "source": [
    "import pandas as pd"
   ]
  },
  {
   "cell_type": "code",
   "execution_count": 5,
   "metadata": {},
   "outputs": [
    {
     "data": {
      "text/html": [
       "<div>\n",
       "<style scoped>\n",
       "    .dataframe tbody tr th:only-of-type {\n",
       "        vertical-align: middle;\n",
       "    }\n",
       "\n",
       "    .dataframe tbody tr th {\n",
       "        vertical-align: top;\n",
       "    }\n",
       "\n",
       "    .dataframe thead th {\n",
       "        text-align: right;\n",
       "    }\n",
       "</style>\n",
       "<table border=\"1\" class=\"dataframe\">\n",
       "  <thead>\n",
       "    <tr style=\"text-align: right;\">\n",
       "      <th></th>\n",
       "      <th>titleId</th>\n",
       "      <th>title</th>\n",
       "      <th>averageRating</th>\n",
       "      <th>numVotes</th>\n",
       "      <th>startYear</th>\n",
       "      <th>runtimeMinutes</th>\n",
       "      <th>genre1</th>\n",
       "      <th>genre2</th>\n",
       "      <th>production_companies_name</th>\n",
       "      <th>Director_name</th>\n",
       "      <th>Actors_Actresses</th>\n",
       "    </tr>\n",
       "  </thead>\n",
       "  <tbody>\n",
       "    <tr>\n",
       "      <th>0</th>\n",
       "      <td>tt0035423</td>\n",
       "      <td>Kate et Léopold</td>\n",
       "      <td>6.4</td>\n",
       "      <td>88939.0</td>\n",
       "      <td>2001.0</td>\n",
       "      <td>118.0</td>\n",
       "      <td>Comedy</td>\n",
       "      <td>Fantasy</td>\n",
       "      <td>Miramax, Konrad Pictures</td>\n",
       "      <td>James Mangold</td>\n",
       "      <td>['Matthew Sussman', ' Bradley Whitford', ' Pax...</td>\n",
       "    </tr>\n",
       "    <tr>\n",
       "      <th>1</th>\n",
       "      <td>tt0081455</td>\n",
       "      <td>Scanners</td>\n",
       "      <td>6.7</td>\n",
       "      <td>61542.0</td>\n",
       "      <td>1981.0</td>\n",
       "      <td>103.0</td>\n",
       "      <td>Horror</td>\n",
       "      <td>Sci-Fi</td>\n",
       "      <td>Montreal Trust Company of Canada, Filmplan Int...</td>\n",
       "      <td>David Cronenberg</td>\n",
       "      <td>['Adam Ludwig', ' Lawrence Dane', ' Stephen La...</td>\n",
       "    </tr>\n",
       "    <tr>\n",
       "      <th>2</th>\n",
       "      <td>tt0081633</td>\n",
       "      <td>Bandits, bandits...</td>\n",
       "      <td>6.9</td>\n",
       "      <td>68140.0</td>\n",
       "      <td>1981.0</td>\n",
       "      <td>110.0</td>\n",
       "      <td>Adventure</td>\n",
       "      <td>Comedy</td>\n",
       "      <td>HandMade Films</td>\n",
       "      <td>Terry Gilliam</td>\n",
       "      <td>['Sean Connery', ' Ian Holm', ' John Cleese', ...</td>\n",
       "    </tr>\n",
       "    <tr>\n",
       "      <th>3</th>\n",
       "      <td>tt0082010</td>\n",
       "      <td>Le Loup-garou de Londres</td>\n",
       "      <td>7.5</td>\n",
       "      <td>120045.0</td>\n",
       "      <td>1981.0</td>\n",
       "      <td>97.0</td>\n",
       "      <td>Comedy</td>\n",
       "      <td>Horror</td>\n",
       "      <td>Universal Pictures, Guber/Peters Company, Amer...</td>\n",
       "      <td>John Landis</td>\n",
       "      <td>['Lila Kaye', ' Griffin Dunne', ' David Schofi...</td>\n",
       "    </tr>\n",
       "    <tr>\n",
       "      <th>4</th>\n",
       "      <td>tt0082031</td>\n",
       "      <td>Arthur</td>\n",
       "      <td>6.9</td>\n",
       "      <td>31034.0</td>\n",
       "      <td>1981.0</td>\n",
       "      <td>97.0</td>\n",
       "      <td>Comedy</td>\n",
       "      <td>Romance</td>\n",
       "      <td>Orion Pictures, Jack Rollins &amp; Charles H. Joff...</td>\n",
       "      <td>Steve Gordon</td>\n",
       "      <td>['Ted Ross', ' Liza Minnelli', ' Dudley Moore'...</td>\n",
       "    </tr>\n",
       "  </tbody>\n",
       "</table>\n",
       "</div>"
      ],
      "text/plain": [
       "     titleId                     title  averageRating  numVotes  startYear  \\\n",
       "0  tt0035423           Kate et Léopold            6.4   88939.0     2001.0   \n",
       "1  tt0081455                  Scanners            6.7   61542.0     1981.0   \n",
       "2  tt0081633       Bandits, bandits...            6.9   68140.0     1981.0   \n",
       "3  tt0082010  Le Loup-garou de Londres            7.5  120045.0     1981.0   \n",
       "4  tt0082031                    Arthur            6.9   31034.0     1981.0   \n",
       "\n",
       "   runtimeMinutes     genre1   genre2  \\\n",
       "0           118.0     Comedy  Fantasy   \n",
       "1           103.0     Horror   Sci-Fi   \n",
       "2           110.0  Adventure   Comedy   \n",
       "3            97.0     Comedy   Horror   \n",
       "4            97.0     Comedy  Romance   \n",
       "\n",
       "                           production_companies_name     Director_name  \\\n",
       "0                           Miramax, Konrad Pictures     James Mangold   \n",
       "1  Montreal Trust Company of Canada, Filmplan Int...  David Cronenberg   \n",
       "2                                     HandMade Films     Terry Gilliam   \n",
       "3  Universal Pictures, Guber/Peters Company, Amer...       John Landis   \n",
       "4  Orion Pictures, Jack Rollins & Charles H. Joff...      Steve Gordon   \n",
       "\n",
       "                                    Actors_Actresses  \n",
       "0  ['Matthew Sussman', ' Bradley Whitford', ' Pax...  \n",
       "1  ['Adam Ludwig', ' Lawrence Dane', ' Stephen La...  \n",
       "2  ['Sean Connery', ' Ian Holm', ' John Cleese', ...  \n",
       "3  ['Lila Kaye', ' Griffin Dunne', ' David Schofi...  \n",
       "4  ['Ted Ross', ' Liza Minnelli', ' Dudley Moore'...  "
      ]
     },
     "execution_count": 5,
     "metadata": {},
     "output_type": "execute_result"
    }
   ],
   "source": [
    "df = pd.read_csv('D:\\\\Projo\\\\Projet-Data-IA\\\\Merged_all_tables\\\\merged_all_cleaned.csv')\n",
    "df.head()"
   ]
  }
 ],
 "metadata": {
  "kernelspec": {
   "display_name": "Python 3",
   "language": "python",
   "name": "python3"
  },
  "language_info": {
   "codemirror_mode": {
    "name": "ipython",
    "version": 3
   },
   "file_extension": ".py",
   "mimetype": "text/x-python",
   "name": "python",
   "nbconvert_exporter": "python",
   "pygments_lexer": "ipython3",
   "version": "3.12.2"
  }
 },
 "nbformat": 4,
 "nbformat_minor": 2
}
