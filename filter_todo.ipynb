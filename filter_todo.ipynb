{
 "cells": [
  {
   "cell_type": "code",
   "execution_count": null,
   "metadata": {},
   "outputs": [],
   "source": [
    "title_basics_path = \"D:\\\\Projo\\\\Projet-Data-IA\\\\BDD_creuse\\\\title.basics.tsv\"\n",
    "df = pd.read_csv(title_basics_path, sep='\\t')\n",
    "df = df.drop(columns=['titleType', 'endYear', 'runtimeMinutes'])\n",
    "df.head()"
   ]
  },
  {
   "cell_type": "code",
   "execution_count": null,
   "metadata": {},
   "outputs": [],
   "source": [
    "title_crew_path = \"D:\\\\Projo\\\\Projet-Data-IA\\\\BDD_creuse\\\\title.crew.tsv\"\n",
    "df = pd.read_csv(title_crew_path, sep='\\t')\n",
    "# df = df.drop(columns=['directors'])\n",
    "df.head()"
   ]
  },
  {
   "cell_type": "code",
   "execution_count": null,
   "metadata": {},
   "outputs": [],
   "source": [
    "title_episode_path = \"D:\\\\Projo\\\\Projet-Data-IA\\\\BDD_creuse\\\\title.episode.tsv\"\n",
    "df = pd.read_csv(title_episode_path, sep='\\t')\n",
    "# df = df.drop(columns=['seasonNumber', 'episodeNumber'])\n",
    "df.head()"
   ]
  },
  {
   "cell_type": "code",
   "execution_count": null,
   "metadata": {},
   "outputs": [],
   "source": [
    "title_principals_path = \"D:\\\\Projo\\\\Projet-Data-IA\\\\BDD_creuse\\\\title.principals.tsv\"\n",
    "df = pd.read_csv(title_principals_path, sep='\\t')\n",
    "# df = df.drop(columns=['ordering', 'category', 'job', 'characters'])\n",
    "df.head()"
   ]
  },
  {
   "cell_type": "code",
   "execution_count": null,
   "metadata": {},
   "outputs": [],
   "source": [
    "title_ratings_path = \"D:\\\\Projo\\\\Projet-Data-IA\\\\BDD_creuse\\\\title.ratings.tsv\"\n",
    "df = pd.read_csv(title_ratings_path, sep='\\t')\n",
    "df.head()"
   ]
  },
  {
   "cell_type": "code",
   "execution_count": null,
   "metadata": {},
   "outputs": [],
   "source": [
    "tmdb_full_path = \"D:\\\\Projo\\\\Projet-Data-IA\\\\BDD_creuse\\\\tmdb_full.csv\"\n",
    "df = pd.read_csv(tmdb_full_path)\n",
    "# df = df.drop(columns=['Unnamed: 0', 'homepage', 'original_language', 'original_title', 'popularity', 'video'])\n",
    "df.head()"
   ]
  }
 ],
 "metadata": {
  "language_info": {
   "name": "python"
  }
 },
 "nbformat": 4,
 "nbformat_minor": 2
}
