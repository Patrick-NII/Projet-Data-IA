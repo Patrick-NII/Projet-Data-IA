{
 "cells": [
  {
   "cell_type": "code",
   "execution_count": null,
   "metadata": {},
   "outputs": [],
   "source": [
    "title_akas_path = \"D:\\\\Projo\\\\Projet-Data-IA\\\\BDD_creuse\\\\title.akas.tsv\"\n",
    "df = pd.read_csv(title_akas_path, sep='\\t')\n",
    "# df = df.drop(columns=['title', 'region', 'isOriginalTitle'])\n",
    "df.head()"
   ]
  }
 ],
 "metadata": {
  "language_info": {
   "name": "python"
  }
 },
 "nbformat": 4,
 "nbformat_minor": 2
}
