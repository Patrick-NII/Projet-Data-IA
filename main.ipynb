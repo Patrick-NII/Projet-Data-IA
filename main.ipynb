{
 "cells": [
  {
   "cell_type": "code",
   "execution_count": 1,
   "metadata": {},
   "outputs": [],
   "source": [
    "import pandas as pd"
   ]
  },
  {
   "cell_type": "code",
   "execution_count": null,
   "metadata": {},
   "outputs": [],
   "source": [
    "name_basics_path = \"D:\\\\Projo\\\\Projet-Data-IA\\\\BDD_creuse\\\\name.basics.tsv\"\n",
    "df = pd.read_csv(name_basics_path, sep='\\t')\n",
    "df = df.drop(columns=['birthYear', 'deathYear', 'knownForTitles'])\n",
    "df.head()"
   ]
  },
  {
   "cell_type": "code",
   "execution_count": null,
   "metadata": {},
   "outputs": [],
   "source": [
    "title_akas_path = \"D:\\\\Projo\\\\Projet-Data-IA\\\\BDD_creuse\\\\title.akas.tsv\"\n",
    "df = pd.read_csv(title_akas_path, sep='\\t')\n",
    "# df = df.drop(columns=['title', 'region', 'isOriginalTitle'])\n",
    "df.head()"
   ]
  },
  {
   "cell_type": "code",
   "execution_count": null,
   "metadata": {},
   "outputs": [],
   "source": [
    "title_basics_path = \"D:\\\\Projo\\\\Projet-Data-IA\\\\BDD_creuse\\\\title.basics.tsv\"\n",
    "df = pd.read_csv(title_basics_path, sep='\\t')\n",
    "df = df.drop(columns=['titleType', 'endYear', 'runtimeMinutes'])\n",
    "df.head()"
   ]
  },
  {
   "cell_type": "code",
   "execution_count": null,
   "metadata": {},
   "outputs": [],
   "source": [
    "title_crew_path = \"D:\\\\Projo\\\\Projet-Data-IA\\\\BDD_creuse\\\\title.crew.tsv\"\n",
    "df = pd.read_csv(title_crew_path, sep='\\t')\n",
    "# df = df.drop(columns=['directors'])\n",
    "df.head()"
   ]
  },
  {
   "cell_type": "code",
   "execution_count": null,
   "metadata": {},
   "outputs": [],
   "source": [
    "title_episode_path = \"D:\\\\Projo\\\\Projet-Data-IA\\\\BDD_creuse\\\\title.episode.tsv\"\n",
    "df = pd.read_csv(title_episode_path, sep='\\t')\n",
    "# df = df.drop(columns=['seasonNumber', 'episodeNumber'])\n",
    "df.head()"
   ]
  },
  {
   "cell_type": "code",
   "execution_count": null,
   "metadata": {},
   "outputs": [],
   "source": [
    "title_principals_path = \"D:\\\\Projo\\\\Projet-Data-IA\\\\BDD_creuse\\\\title.principals.tsv\"\n",
    "df = pd.read_csv(title_principals_path, sep='\\t')\n",
    "# df = df.drop(columns=['ordering', 'category', 'job', 'characters'])\n",
    "df.head()"
   ]
  },
  {
   "cell_type": "code",
   "execution_count": null,
   "metadata": {},
   "outputs": [],
   "source": [
    "title_ratings_path = \"D:\\\\Projo\\\\Projet-Data-IA\\\\BDD_creuse\\\\title.ratings.tsv\"\n",
    "df = pd.read_csv(title_ratings_path, sep='\\t')\n",
    "df.head()"
   ]
  },
  {
   "cell_type": "code",
   "execution_count": null,
   "metadata": {},
   "outputs": [],
   "source": [
    "tmdb_full_path = \"D:\\\\Projo\\\\Projet-Data-IA\\\\BDD_creuse\\\\tmdb_full.csv\"\n",
    "df = pd.read_csv(tmdb_full_path)\n",
    "# df = df.drop(columns=['Unnamed: 0', 'adult', 'original_language', 'original_title', 'popularity', 'video'])\n",
    "df.head()"
   ]
  }
 ],
 "metadata": {
  "kernelspec": {
   "display_name": "Python 3",
   "language": "python",
   "name": "python3"
  },
  "language_info": {
   "codemirror_mode": {
    "name": "ipython",
    "version": 3
   },
   "file_extension": ".py",
   "mimetype": "text/x-python",
   "name": "python",
   "nbconvert_exporter": "python",
   "pygments_lexer": "ipython3",
   "version": "3.12.2"
  }
 },
 "nbformat": 4,
 "nbformat_minor": 2
}
