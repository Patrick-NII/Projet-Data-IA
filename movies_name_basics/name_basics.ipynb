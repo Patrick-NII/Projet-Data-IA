{
 "cells": [
  {
   "cell_type": "markdown",
   "metadata": {},
   "source": [
    "## **Phase 1:** Nettoyage\n",
    "\n",
    "**Gestion des valeurs manquantes :**\n",
    "Identifier les valeurs manquantes dans les colonnes clés.\n",
    "Déterminer si les valeurs manquantes peuvent être remplacées par des valeurs par défaut, interpolées à partir d'autres données ou si elles doivent être supprimées.\n",
    "\n",
    "**Nettoyage des doublons :**\n",
    "Identifier et supprimer les entrées en double, conserver l'entrée la plus pertinente ou la plus récente en fonction des critères de sélection.\n",
    "\n",
    "**Validation des données :**\n",
    "Vérifier la cohérence des données.\n",
    "Examiner les champs tels que les durées des films, les budgets, les notes des utilisateurs, etc., pour détecter les valeurs aberrantes ou incohérentes.\n",
    "\n",
    "**Normalisation des données :**\n",
    "Harmoniser les valeurs des champs tels que les noms des genres, les noms des réalisateurs, etc., pour éviter les variations et les erreurs orthographiques.\n",
    "\n",
    "**Gestion des formats de données :**\n",
    "Convertir les données dans des formats appropriés, par exemple en convertissant les dates en objets de date/heure, en normalisant les noms de fichiers d'images, etc.\n",
    "\n",
    "**Traitement des données textuelles :**\n",
    "Prétraiter les données textuelles comme les descriptions de films, les critiques, etc., en supprimant la ponctuation, en normalisant la casse, en supprimant les mots vides, etc., pour faciliter l'analyse de texte.\n",
    "\n",
    "**Gestion des données non structurées :**\n",
    "Utiliser des techniques d'apprentissage automatique pour extraire des informations pertinentes et les intégrer dans votre analyse.\n",
    "\n",
    "**Sécurité des données :**\n",
    "Respecter les réglementations en matière de confidentialité des données, notamment en anonymisant les données personnelles des utilisateurs si nécessaire."
   ]
  },
  {
   "cell_type": "code",
   "execution_count": 90,
   "metadata": {},
   "outputs": [],
   "source": [
    "import pandas as pd\n",
    "import numpy as np\n",
    "import matplotlib.pyplot as plt\n",
    "import seaborn as sns"
   ]
  },
  {
   "cell_type": "code",
   "execution_count": 91,
   "metadata": {},
   "outputs": [],
   "source": [
    "# Chargement du DataFrame\n",
    "name_basics_path = 'D:\\\\Projo\\\\Projet-Data-IA\\\\movies_name_basics\\\\movies_name_basics.csv'\n",
    "df_nameBasics = pd.read_csv(name_basics_path, sep=',', na_values='\\\\N')"
   ]
  },
  {
   "cell_type": "code",
   "execution_count": 92,
   "metadata": {},
   "outputs": [
    {
     "data": {
      "text/plain": [
       "(9211668, 6)"
      ]
     },
     "execution_count": 92,
     "metadata": {},
     "output_type": "execute_result"
    }
   ],
   "source": [
    "#forme du dataframe\n",
    "df_nameBasics.shape"
   ]
  },
  {
   "cell_type": "code",
   "execution_count": 93,
   "metadata": {},
   "outputs": [
    {
     "name": "stdout",
     "output_type": "stream",
     "text": [
      "<class 'pandas.core.frame.DataFrame'>\n",
      "RangeIndex: 9211668 entries, 0 to 9211667\n",
      "Data columns (total 6 columns):\n",
      " #   Column             Dtype  \n",
      "---  ------             -----  \n",
      " 0   nconst             object \n",
      " 1   primaryName        object \n",
      " 2   birthYear          float64\n",
      " 3   deathYear          float64\n",
      " 4   primaryProfession  object \n",
      " 5   knownForTitles     object \n",
      "dtypes: float64(2), object(4)\n",
      "memory usage: 421.7+ MB\n"
     ]
    }
   ],
   "source": [
    "df_nameBasics.info()"
   ]
  },
  {
   "cell_type": "code",
   "execution_count": 94,
   "metadata": {},
   "outputs": [
    {
     "data": {
      "text/plain": [
       "nconst                0.000000\n",
       "primaryName           0.000000\n",
       "birthYear            88.475399\n",
       "deathYear            95.222440\n",
       "primaryProfession     3.279916\n",
       "knownForTitles        0.000000\n",
       "dtype: float64"
      ]
     },
     "execution_count": 94,
     "metadata": {},
     "output_type": "execute_result"
    }
   ],
   "source": [
    "# Proportion (%) des valeurs nulles\n",
    "df_nameBasics.isna().sum() / len(df_nameBasics) * 100"
   ]
  },
  {
   "cell_type": "code",
   "execution_count": 95,
   "metadata": {},
   "outputs": [
    {
     "data": {
      "text/plain": [
       "nconst                object\n",
       "primaryName           object\n",
       "birthYear            float64\n",
       "deathYear            float64\n",
       "primaryProfession     object\n",
       "knownForTitles        object\n",
       "dtype: object"
      ]
     },
     "execution_count": 95,
     "metadata": {},
     "output_type": "execute_result"
    }
   ],
   "source": [
    "df_nameBasics.dtypes"
   ]
  },
  {
   "cell_type": "code",
   "execution_count": 96,
   "metadata": {},
   "outputs": [],
   "source": [
    "# Supprimer les deux premiers caractères de chaque valeur dans la colonne nconst\n",
    "df_nameBasics['nconst'] = df_nameBasics['nconst'].str[2:]\n",
    "\n",
    "# Convertir la colonne nconst en int16\n",
    "df_nameBasics['nconst'] = df_nameBasics['nconst'].astype('int16')"
   ]
  },
  {
   "cell_type": "code",
   "execution_count": 97,
   "metadata": {},
   "outputs": [],
   "source": [
    "# # Supprimer les deux premiers caractères de chaque valeur dans la colonne knownForTitles\n",
    "# df_nameBasics['knownForTitles'] = df_nameBasics['knownForTitles'].str[2:]\n",
    "\n",
    "# # Convertir la colonne knownForTitles en int32\n",
    "# df_nameBasics['knownForTitles'] = df_nameBasics['knownForTitles'].astype('int64')\n"
   ]
  },
  {
   "cell_type": "code",
   "execution_count": 98,
   "metadata": {},
   "outputs": [],
   "source": [
    "# Suppression des colonnes birthYear et deathYear\n",
    "df_nameBasics.drop(columns=['birthYear', 'deathYear'], inplace=True)"
   ]
  },
  {
   "cell_type": "code",
   "execution_count": 99,
   "metadata": {},
   "outputs": [],
   "source": [
    "# Suppression des lignes avec des valeurs nulles dans les colonnes primaryProfession et knownForTitles\n",
    "df_nameBasics.dropna(subset=['primaryProfession', 'knownForTitles'], inplace=True)"
   ]
  },
  {
   "cell_type": "code",
   "execution_count": 100,
   "metadata": {},
   "outputs": [],
   "source": [
    "# Convertir les valeurs non-chaînes en une liste vide\n",
    "df_nameBasics['primaryProfession'] = df_nameBasics['primaryProfession'].apply(lambda x: [] if isinstance(x, float) else x)\n",
    "\n",
    "# Diviser la chaîne en une liste et retirer les virgules\n",
    "df_nameBasics['primaryProfession'] = df_nameBasics['primaryProfession'].apply(lambda x: [profession.strip() for profession in x.split(',')] if isinstance(x, str) else [])\n"
   ]
  },
  {
   "cell_type": "code",
   "execution_count": 101,
   "metadata": {},
   "outputs": [],
   "source": [
    "# Convertir les valeurs non-chaînes en une liste vide\n",
    "df_nameBasics['knownForTitles'] = df_nameBasics['knownForTitles'].apply(lambda x: [] if isinstance(x, float) else x)\n",
    "\n",
    "# Diviser la chaîne en une liste et retirer les virgules\n",
    "df_nameBasics['knownForTitles'] = df_nameBasics['knownForTitles'].apply(lambda x: [title.strip() for title in x.split(',')] if isinstance(x, str) else [])\n"
   ]
  },
  {
   "cell_type": "code",
   "execution_count": 102,
   "metadata": {},
   "outputs": [
    {
     "data": {
      "text/plain": [
       "nconst               0.0\n",
       "primaryName          0.0\n",
       "primaryProfession    0.0\n",
       "knownForTitles       0.0\n",
       "dtype: float64"
      ]
     },
     "execution_count": 102,
     "metadata": {},
     "output_type": "execute_result"
    }
   ],
   "source": [
    "# Proportion (%) des valeurs nulles\n",
    "df_nameBasics.isna().sum() / len(df_nameBasics) * 100"
   ]
  },
  {
   "cell_type": "code",
   "execution_count": 103,
   "metadata": {},
   "outputs": [
    {
     "data": {
      "text/html": [
       "<div>\n",
       "<style scoped>\n",
       "    .dataframe tbody tr th:only-of-type {\n",
       "        vertical-align: middle;\n",
       "    }\n",
       "\n",
       "    .dataframe tbody tr th {\n",
       "        vertical-align: top;\n",
       "    }\n",
       "\n",
       "    .dataframe thead th {\n",
       "        text-align: right;\n",
       "    }\n",
       "</style>\n",
       "<table border=\"1\" class=\"dataframe\">\n",
       "  <thead>\n",
       "    <tr style=\"text-align: right;\">\n",
       "      <th></th>\n",
       "      <th>nconst</th>\n",
       "      <th>primaryName</th>\n",
       "      <th>primaryProfession</th>\n",
       "      <th>knownForTitles</th>\n",
       "    </tr>\n",
       "  </thead>\n",
       "  <tbody>\n",
       "    <tr>\n",
       "      <th>0</th>\n",
       "      <td>1</td>\n",
       "      <td>Fred Astaire</td>\n",
       "      <td>[actor, miscellaneous, producer]</td>\n",
       "      <td>[tt0072308]</td>\n",
       "    </tr>\n",
       "    <tr>\n",
       "      <th>1</th>\n",
       "      <td>1</td>\n",
       "      <td>Fred Astaire</td>\n",
       "      <td>[actor, miscellaneous, producer]</td>\n",
       "      <td>[tt0050419]</td>\n",
       "    </tr>\n",
       "    <tr>\n",
       "      <th>2</th>\n",
       "      <td>1</td>\n",
       "      <td>Fred Astaire</td>\n",
       "      <td>[actor, miscellaneous, producer]</td>\n",
       "      <td>[tt0053137]</td>\n",
       "    </tr>\n",
       "    <tr>\n",
       "      <th>3</th>\n",
       "      <td>1</td>\n",
       "      <td>Fred Astaire</td>\n",
       "      <td>[actor, miscellaneous, producer]</td>\n",
       "      <td>[tt0027125]</td>\n",
       "    </tr>\n",
       "    <tr>\n",
       "      <th>4</th>\n",
       "      <td>2</td>\n",
       "      <td>Lauren Bacall</td>\n",
       "      <td>[actress, soundtrack, archive_footage]</td>\n",
       "      <td>[tt0037382]</td>\n",
       "    </tr>\n",
       "    <tr>\n",
       "      <th>5</th>\n",
       "      <td>2</td>\n",
       "      <td>Lauren Bacall</td>\n",
       "      <td>[actress, soundtrack, archive_footage]</td>\n",
       "      <td>[tt0075213]</td>\n",
       "    </tr>\n",
       "    <tr>\n",
       "      <th>6</th>\n",
       "      <td>2</td>\n",
       "      <td>Lauren Bacall</td>\n",
       "      <td>[actress, soundtrack, archive_footage]</td>\n",
       "      <td>[tt0117057]</td>\n",
       "    </tr>\n",
       "    <tr>\n",
       "      <th>7</th>\n",
       "      <td>2</td>\n",
       "      <td>Lauren Bacall</td>\n",
       "      <td>[actress, soundtrack, archive_footage]</td>\n",
       "      <td>[tt0038355]</td>\n",
       "    </tr>\n",
       "    <tr>\n",
       "      <th>8</th>\n",
       "      <td>3</td>\n",
       "      <td>Brigitte Bardot</td>\n",
       "      <td>[actress, music_department, producer]</td>\n",
       "      <td>[tt0057345]</td>\n",
       "    </tr>\n",
       "    <tr>\n",
       "      <th>9</th>\n",
       "      <td>3</td>\n",
       "      <td>Brigitte Bardot</td>\n",
       "      <td>[actress, music_department, producer]</td>\n",
       "      <td>[tt0049189]</td>\n",
       "    </tr>\n",
       "    <tr>\n",
       "      <th>10</th>\n",
       "      <td>3</td>\n",
       "      <td>Brigitte Bardot</td>\n",
       "      <td>[actress, music_department, producer]</td>\n",
       "      <td>[tt0056404]</td>\n",
       "    </tr>\n",
       "    <tr>\n",
       "      <th>11</th>\n",
       "      <td>3</td>\n",
       "      <td>Brigitte Bardot</td>\n",
       "      <td>[actress, music_department, producer]</td>\n",
       "      <td>[tt0054452]</td>\n",
       "    </tr>\n",
       "    <tr>\n",
       "      <th>12</th>\n",
       "      <td>4</td>\n",
       "      <td>John Belushi</td>\n",
       "      <td>[actor, writer, music_department]</td>\n",
       "      <td>[tt0077975]</td>\n",
       "    </tr>\n",
       "    <tr>\n",
       "      <th>13</th>\n",
       "      <td>4</td>\n",
       "      <td>John Belushi</td>\n",
       "      <td>[actor, writer, music_department]</td>\n",
       "      <td>[tt0080455]</td>\n",
       "    </tr>\n",
       "    <tr>\n",
       "      <th>14</th>\n",
       "      <td>4</td>\n",
       "      <td>John Belushi</td>\n",
       "      <td>[actor, writer, music_department]</td>\n",
       "      <td>[tt0078723]</td>\n",
       "    </tr>\n",
       "    <tr>\n",
       "      <th>15</th>\n",
       "      <td>5</td>\n",
       "      <td>Ingmar Bergman</td>\n",
       "      <td>[writer, director, actor]</td>\n",
       "      <td>[tt0050986]</td>\n",
       "    </tr>\n",
       "    <tr>\n",
       "      <th>16</th>\n",
       "      <td>5</td>\n",
       "      <td>Ingmar Bergman</td>\n",
       "      <td>[writer, director, actor]</td>\n",
       "      <td>[tt0083922]</td>\n",
       "    </tr>\n",
       "    <tr>\n",
       "      <th>17</th>\n",
       "      <td>5</td>\n",
       "      <td>Ingmar Bergman</td>\n",
       "      <td>[writer, director, actor]</td>\n",
       "      <td>[tt0050976]</td>\n",
       "    </tr>\n",
       "    <tr>\n",
       "      <th>18</th>\n",
       "      <td>5</td>\n",
       "      <td>Ingmar Bergman</td>\n",
       "      <td>[writer, director, actor]</td>\n",
       "      <td>[tt0069467]</td>\n",
       "    </tr>\n",
       "    <tr>\n",
       "      <th>19</th>\n",
       "      <td>6</td>\n",
       "      <td>Ingrid Bergman</td>\n",
       "      <td>[actress, producer, soundtrack]</td>\n",
       "      <td>[tt0034583]</td>\n",
       "    </tr>\n",
       "  </tbody>\n",
       "</table>\n",
       "</div>"
      ],
      "text/plain": [
       "    nconst      primaryName                       primaryProfession  \\\n",
       "0        1     Fred Astaire        [actor, miscellaneous, producer]   \n",
       "1        1     Fred Astaire        [actor, miscellaneous, producer]   \n",
       "2        1     Fred Astaire        [actor, miscellaneous, producer]   \n",
       "3        1     Fred Astaire        [actor, miscellaneous, producer]   \n",
       "4        2    Lauren Bacall  [actress, soundtrack, archive_footage]   \n",
       "5        2    Lauren Bacall  [actress, soundtrack, archive_footage]   \n",
       "6        2    Lauren Bacall  [actress, soundtrack, archive_footage]   \n",
       "7        2    Lauren Bacall  [actress, soundtrack, archive_footage]   \n",
       "8        3  Brigitte Bardot   [actress, music_department, producer]   \n",
       "9        3  Brigitte Bardot   [actress, music_department, producer]   \n",
       "10       3  Brigitte Bardot   [actress, music_department, producer]   \n",
       "11       3  Brigitte Bardot   [actress, music_department, producer]   \n",
       "12       4     John Belushi       [actor, writer, music_department]   \n",
       "13       4     John Belushi       [actor, writer, music_department]   \n",
       "14       4     John Belushi       [actor, writer, music_department]   \n",
       "15       5   Ingmar Bergman               [writer, director, actor]   \n",
       "16       5   Ingmar Bergman               [writer, director, actor]   \n",
       "17       5   Ingmar Bergman               [writer, director, actor]   \n",
       "18       5   Ingmar Bergman               [writer, director, actor]   \n",
       "19       6   Ingrid Bergman         [actress, producer, soundtrack]   \n",
       "\n",
       "   knownForTitles  \n",
       "0     [tt0072308]  \n",
       "1     [tt0050419]  \n",
       "2     [tt0053137]  \n",
       "3     [tt0027125]  \n",
       "4     [tt0037382]  \n",
       "5     [tt0075213]  \n",
       "6     [tt0117057]  \n",
       "7     [tt0038355]  \n",
       "8     [tt0057345]  \n",
       "9     [tt0049189]  \n",
       "10    [tt0056404]  \n",
       "11    [tt0054452]  \n",
       "12    [tt0077975]  \n",
       "13    [tt0080455]  \n",
       "14    [tt0078723]  \n",
       "15    [tt0050986]  \n",
       "16    [tt0083922]  \n",
       "17    [tt0050976]  \n",
       "18    [tt0069467]  \n",
       "19    [tt0034583]  "
      ]
     },
     "execution_count": 103,
     "metadata": {},
     "output_type": "execute_result"
    }
   ],
   "source": [
    "# Afficher les premières lignes pour vérifier le résultat\n",
    "df_nameBasics.head(20)"
   ]
  },
  {
   "cell_type": "code",
   "execution_count": 104,
   "metadata": {},
   "outputs": [],
   "source": [
    "# Supprimer les doublons dans le DataFrame df_nameBasics\n",
    "df_nameBasics.drop_duplicates(subset=['nconst'], inplace=True)\n"
   ]
  },
  {
   "cell_type": "code",
   "execution_count": 105,
   "metadata": {},
   "outputs": [
    {
     "data": {
      "text/html": [
       "<div>\n",
       "<style scoped>\n",
       "    .dataframe tbody tr th:only-of-type {\n",
       "        vertical-align: middle;\n",
       "    }\n",
       "\n",
       "    .dataframe tbody tr th {\n",
       "        vertical-align: top;\n",
       "    }\n",
       "\n",
       "    .dataframe thead th {\n",
       "        text-align: right;\n",
       "    }\n",
       "</style>\n",
       "<table border=\"1\" class=\"dataframe\">\n",
       "  <thead>\n",
       "    <tr style=\"text-align: right;\">\n",
       "      <th></th>\n",
       "      <th>nconst</th>\n",
       "      <th>primaryName</th>\n",
       "      <th>primaryProfession</th>\n",
       "      <th>knownForTitles</th>\n",
       "    </tr>\n",
       "  </thead>\n",
       "  <tbody>\n",
       "    <tr>\n",
       "      <th>0</th>\n",
       "      <td>1</td>\n",
       "      <td>Fred Astaire</td>\n",
       "      <td>[actor, miscellaneous, producer]</td>\n",
       "      <td>[tt0072308]</td>\n",
       "    </tr>\n",
       "    <tr>\n",
       "      <th>4</th>\n",
       "      <td>2</td>\n",
       "      <td>Lauren Bacall</td>\n",
       "      <td>[actress, soundtrack, archive_footage]</td>\n",
       "      <td>[tt0037382]</td>\n",
       "    </tr>\n",
       "    <tr>\n",
       "      <th>8</th>\n",
       "      <td>3</td>\n",
       "      <td>Brigitte Bardot</td>\n",
       "      <td>[actress, music_department, producer]</td>\n",
       "      <td>[tt0057345]</td>\n",
       "    </tr>\n",
       "    <tr>\n",
       "      <th>12</th>\n",
       "      <td>4</td>\n",
       "      <td>John Belushi</td>\n",
       "      <td>[actor, writer, music_department]</td>\n",
       "      <td>[tt0077975]</td>\n",
       "    </tr>\n",
       "    <tr>\n",
       "      <th>15</th>\n",
       "      <td>5</td>\n",
       "      <td>Ingmar Bergman</td>\n",
       "      <td>[writer, director, actor]</td>\n",
       "      <td>[tt0050986]</td>\n",
       "    </tr>\n",
       "    <tr>\n",
       "      <th>19</th>\n",
       "      <td>6</td>\n",
       "      <td>Ingrid Bergman</td>\n",
       "      <td>[actress, producer, soundtrack]</td>\n",
       "      <td>[tt0034583]</td>\n",
       "    </tr>\n",
       "    <tr>\n",
       "      <th>23</th>\n",
       "      <td>7</td>\n",
       "      <td>Humphrey Bogart</td>\n",
       "      <td>[actor, producer, miscellaneous]</td>\n",
       "      <td>[tt0034583]</td>\n",
       "    </tr>\n",
       "    <tr>\n",
       "      <th>27</th>\n",
       "      <td>8</td>\n",
       "      <td>Marlon Brando</td>\n",
       "      <td>[actor, director, writer]</td>\n",
       "      <td>[tt0078788]</td>\n",
       "    </tr>\n",
       "    <tr>\n",
       "      <th>31</th>\n",
       "      <td>9</td>\n",
       "      <td>Richard Burton</td>\n",
       "      <td>[actor, producer, director]</td>\n",
       "      <td>[tt0061184]</td>\n",
       "    </tr>\n",
       "    <tr>\n",
       "      <th>35</th>\n",
       "      <td>10</td>\n",
       "      <td>James Cagney</td>\n",
       "      <td>[actor, director, producer]</td>\n",
       "      <td>[tt0029870]</td>\n",
       "    </tr>\n",
       "    <tr>\n",
       "      <th>39</th>\n",
       "      <td>11</td>\n",
       "      <td>Gary Cooper</td>\n",
       "      <td>[actor, stunts, producer]</td>\n",
       "      <td>[tt0044706]</td>\n",
       "    </tr>\n",
       "    <tr>\n",
       "      <th>43</th>\n",
       "      <td>12</td>\n",
       "      <td>Bette Davis</td>\n",
       "      <td>[actress, make_up_department, producer]</td>\n",
       "      <td>[tt0042192]</td>\n",
       "    </tr>\n",
       "    <tr>\n",
       "      <th>47</th>\n",
       "      <td>13</td>\n",
       "      <td>Doris Day</td>\n",
       "      <td>[actress, producer, miscellaneous]</td>\n",
       "      <td>[tt0048317]</td>\n",
       "    </tr>\n",
       "    <tr>\n",
       "      <th>51</th>\n",
       "      <td>14</td>\n",
       "      <td>Olivia de Havilland</td>\n",
       "      <td>[actress, soundtrack, archive_footage]</td>\n",
       "      <td>[tt0031381]</td>\n",
       "    </tr>\n",
       "    <tr>\n",
       "      <th>55</th>\n",
       "      <td>15</td>\n",
       "      <td>James Dean</td>\n",
       "      <td>[actor, miscellaneous, archive_footage]</td>\n",
       "      <td>[tt0048028]</td>\n",
       "    </tr>\n",
       "    <tr>\n",
       "      <th>58</th>\n",
       "      <td>16</td>\n",
       "      <td>Georges Delerue</td>\n",
       "      <td>[composer, music_department, actor]</td>\n",
       "      <td>[tt0091763]</td>\n",
       "    </tr>\n",
       "    <tr>\n",
       "      <th>62</th>\n",
       "      <td>17</td>\n",
       "      <td>Marlene Dietrich</td>\n",
       "      <td>[actress, music_department, soundtrack]</td>\n",
       "      <td>[tt0051201]</td>\n",
       "    </tr>\n",
       "    <tr>\n",
       "      <th>66</th>\n",
       "      <td>18</td>\n",
       "      <td>Kirk Douglas</td>\n",
       "      <td>[actor, producer, director]</td>\n",
       "      <td>[tt0080736]</td>\n",
       "    </tr>\n",
       "    <tr>\n",
       "      <th>70</th>\n",
       "      <td>19</td>\n",
       "      <td>Federico Fellini</td>\n",
       "      <td>[writer, director, actor]</td>\n",
       "      <td>[tt0056801]</td>\n",
       "    </tr>\n",
       "    <tr>\n",
       "      <th>74</th>\n",
       "      <td>20</td>\n",
       "      <td>Henry Fonda</td>\n",
       "      <td>[actor, producer, miscellaneous]</td>\n",
       "      <td>[tt0050083]</td>\n",
       "    </tr>\n",
       "  </tbody>\n",
       "</table>\n",
       "</div>"
      ],
      "text/plain": [
       "    nconst          primaryName                        primaryProfession  \\\n",
       "0        1         Fred Astaire         [actor, miscellaneous, producer]   \n",
       "4        2        Lauren Bacall   [actress, soundtrack, archive_footage]   \n",
       "8        3      Brigitte Bardot    [actress, music_department, producer]   \n",
       "12       4         John Belushi        [actor, writer, music_department]   \n",
       "15       5       Ingmar Bergman                [writer, director, actor]   \n",
       "19       6       Ingrid Bergman          [actress, producer, soundtrack]   \n",
       "23       7      Humphrey Bogart         [actor, producer, miscellaneous]   \n",
       "27       8        Marlon Brando                [actor, director, writer]   \n",
       "31       9       Richard Burton              [actor, producer, director]   \n",
       "35      10         James Cagney              [actor, director, producer]   \n",
       "39      11          Gary Cooper                [actor, stunts, producer]   \n",
       "43      12          Bette Davis  [actress, make_up_department, producer]   \n",
       "47      13            Doris Day       [actress, producer, miscellaneous]   \n",
       "51      14  Olivia de Havilland   [actress, soundtrack, archive_footage]   \n",
       "55      15           James Dean  [actor, miscellaneous, archive_footage]   \n",
       "58      16      Georges Delerue      [composer, music_department, actor]   \n",
       "62      17     Marlene Dietrich  [actress, music_department, soundtrack]   \n",
       "66      18         Kirk Douglas              [actor, producer, director]   \n",
       "70      19     Federico Fellini                [writer, director, actor]   \n",
       "74      20          Henry Fonda         [actor, producer, miscellaneous]   \n",
       "\n",
       "   knownForTitles  \n",
       "0     [tt0072308]  \n",
       "4     [tt0037382]  \n",
       "8     [tt0057345]  \n",
       "12    [tt0077975]  \n",
       "15    [tt0050986]  \n",
       "19    [tt0034583]  \n",
       "23    [tt0034583]  \n",
       "27    [tt0078788]  \n",
       "31    [tt0061184]  \n",
       "35    [tt0029870]  \n",
       "39    [tt0044706]  \n",
       "43    [tt0042192]  \n",
       "47    [tt0048317]  \n",
       "51    [tt0031381]  \n",
       "55    [tt0048028]  \n",
       "58    [tt0091763]  \n",
       "62    [tt0051201]  \n",
       "66    [tt0080736]  \n",
       "70    [tt0056801]  \n",
       "74    [tt0050083]  "
      ]
     },
     "execution_count": 105,
     "metadata": {},
     "output_type": "execute_result"
    }
   ],
   "source": [
    "# Afficher les premières lignes pour vérifier le résultat\n",
    "df_nameBasics.head(20)"
   ]
  },
  {
   "cell_type": "code",
   "execution_count": 107,
   "metadata": {},
   "outputs": [
    {
     "data": {
      "text/plain": [
       "(65536, 4)"
      ]
     },
     "execution_count": 107,
     "metadata": {},
     "output_type": "execute_result"
    }
   ],
   "source": [
    "df_nameBasics.shape"
   ]
  },
  {
   "cell_type": "markdown",
   "metadata": {},
   "source": [
    "#### **Export du DataFrame nettoyé**"
   ]
  },
  {
   "cell_type": "code",
   "execution_count": 106,
   "metadata": {},
   "outputs": [],
   "source": [
    "# Enregistrement du DataFrame nettoyé dans un nouveau fichier\n",
    "movies_cleaned_name_basics = df_nameBasics.to_csv('cleaned_name_basics.csv', index=False)"
   ]
  }
 ],
 "metadata": {
  "kernelspec": {
   "display_name": "Python 3",
   "language": "python",
   "name": "python3"
  },
  "language_info": {
   "codemirror_mode": {
    "name": "ipython",
    "version": 3
   },
   "file_extension": ".py",
   "mimetype": "text/x-python",
   "name": "python",
   "nbconvert_exporter": "python",
   "pygments_lexer": "ipython3",
   "version": "3.12.2"
  }
 },
 "nbformat": 4,
 "nbformat_minor": 2
}
