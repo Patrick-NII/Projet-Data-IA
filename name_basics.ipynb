{
 "cells": [
  {
   "cell_type": "code",
   "execution_count": 2,
   "metadata": {},
   "outputs": [],
   "source": [
    "import pandas as pd\n",
    "import numpy as np\n",
    "import matplotlib.pyplot as plt\n",
    "import seaborn as sns"
   ]
  },
  {
   "cell_type": "code",
   "execution_count": 4,
   "metadata": {},
   "outputs": [
    {
     "name": "stdout",
     "output_type": "stream",
     "text": [
      "      nconst     primaryName                   primaryProfession  \\\n",
      "0  nm0000001    Fred Astaire        actor,miscellaneous,producer   \n",
      "1  nm0000002   Lauren Bacall  actress,soundtrack,archive_footage   \n",
      "3  nm0000004    John Belushi       actor,writer,music_department   \n",
      "4  nm0000005  Ingmar Bergman               writer,director,actor   \n",
      "5  nm0000006  Ingrid Bergman         actress,producer,soundtrack   \n",
      "\n",
      "                            knownForTitles  \n",
      "0  tt0072308,tt0050419,tt0053137,tt0027125  \n",
      "1  tt0037382,tt0075213,tt0117057,tt0038355  \n",
      "3  tt0072562,tt0077975,tt0080455,tt0078723  \n",
      "4  tt0050986,tt0083922,tt0050976,tt0069467  \n",
      "5  tt0034583,tt0036855,tt0038109,tt0038787  \n"
     ]
    }
   ],
   "source": [
    "# Chemin vers le fichier TSV\n",
    "name_basics_path = \"D:\\\\Projo\\\\Projet-Data-IA\\\\BDD_creuse\\\\name.basics.tsv\"\n",
    "\n",
    "# Chargement des données et suppression separateur tabulations\n",
    "df_nameBasics = pd.read_csv(name_basics_path, sep='\\t')\n",
    "\n",
    "# Remplacer '\\N' par NaN dans les colonnes 'birthYear' et 'deathYear'\n",
    "df_nameBasics['birthYear'] = df_nameBasics['birthYear'].replace('\\\\N', pd.NA)\n",
    "df_nameBasics['deathYear'] = df_nameBasics['deathYear'].replace('\\\\N', pd.NA)\n",
    "\n",
    "# Suppression des lignes avec des valeurs manquantes dans les colonnes 'birthYear' et 'deathYear'\n",
    "df_clear = df_nameBasics.dropna(subset=['birthYear', 'deathYear'])\n",
    "\n",
    "#  Suppression des doublons\n",
    "df_clear = df_clear.drop_duplicates(subset=['primaryName', 'birthYear', 'deathYear'])\n",
    "\n",
    "# Suppression des colonnes 'birthYear' et 'deathYear'\n",
    "df_nBasics_clear = df_clear.drop(columns=['birthYear', 'deathYear'])\n",
    "\n",
    "# Affichage des premières lignes\n",
    "print(df_nBasics_clear.head())\n",
    "\n",
    "\n"
   ]
  }
 ],
 "metadata": {
  "kernelspec": {
   "display_name": "Python 3",
   "language": "python",
   "name": "python3"
  },
  "language_info": {
   "codemirror_mode": {
    "name": "ipython",
    "version": 3
   },
   "file_extension": ".py",
   "mimetype": "text/x-python",
   "name": "python",
   "nbconvert_exporter": "python",
   "pygments_lexer": "ipython3",
   "version": "3.12.2"
  }
 },
 "nbformat": 4,
 "nbformat_minor": 2
}
