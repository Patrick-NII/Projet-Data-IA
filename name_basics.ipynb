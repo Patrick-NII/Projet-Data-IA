{
 "cells": [
  {
   "cell_type": "code",
   "execution_count": 1,
   "metadata": {},
   "outputs": [],
   "source": [
    "import pandas as pd"
   ]
  },
  {
   "cell_type": "code",
   "execution_count": 12,
   "metadata": {},
   "outputs": [
    {
     "name": "stdout",
     "output_type": "stream",
     "text": [
      "primaryName\n",
      "Alex               482\n",
      "Michael Smith      432\n",
      "Chris              419\n",
      "Michael            418\n",
      "David Smith        418\n",
      "David              413\n",
      "Mike               380\n",
      "John               377\n",
      "Michael Johnson    357\n",
      "Chris Smith        353\n",
      "Name: count, dtype: int64\n",
      "primaryName\n",
      "Stuart Shanks       1\n",
      "Omoshola Oburoh     1\n",
      "Adeyeye Emmanuel    1\n",
      "Samira Ramal        1\n",
      "Calista Nwadike     1\n",
      "Success Effiom      1\n",
      "Nifemi Ekezie       1\n",
      "Pelumi Matthew      1\n",
      "Mark Shimm          1\n",
      "Aayush Nair         1\n",
      "Name: count, dtype: int64\n"
     ]
    }
   ],
   "source": [
    "name_basics_path = \"D:\\\\Projo\\\\Projet-Data-IA\\\\BDD_creuse\\\\name.basics.tsv\"\n",
    "df = pd.read_csv(name_basics_path, sep='\\t')\n",
    "df = df.drop(columns=['birthYear', 'deathYear', 'knownForTitles'])\n",
    "# df.head(50)\n",
    "# Occurences des noms des acteurs\n",
    "actors_names = df['primaryName'].value_counts()\n",
    "# Affichage des 10 premiers et 10 derniers\n",
    "print(actors_names.head(10))\n",
    "print(actors_names.tail(10))"
   ]
  }
 ],
 "metadata": {
  "kernelspec": {
   "display_name": "Python 3",
   "language": "python",
   "name": "python3"
  },
  "language_info": {
   "codemirror_mode": {
    "name": "ipython",
    "version": 3
   },
   "file_extension": ".py",
   "mimetype": "text/x-python",
   "name": "python",
   "nbconvert_exporter": "python",
   "pygments_lexer": "ipython3",
   "version": "3.12.2"
  }
 },
 "nbformat": 4,
 "nbformat_minor": 2
}
