{
 "cells": [
  {
   "cell_type": "code",
   "execution_count": 2,
   "metadata": {},
   "outputs": [],
   "source": [
    "import pandas as pd\n",
    "import numpy as np\n",
    "import matplotlib.pyplot as plt\n",
    "import seaborn as sns"
   ]
  },
  {
   "cell_type": "code",
   "execution_count": 16,
   "metadata": {},
   "outputs": [
    {
     "name": "stdout",
     "output_type": "stream",
     "text": [
      "       nconst      primaryName birthYear                   primaryProfession  \\\n",
      "0   nm0000001     Fred Astaire      1899        actor,miscellaneous,producer   \n",
      "1   nm0000002    Lauren Bacall      1924  actress,soundtrack,archive_footage   \n",
      "3   nm0000004     John Belushi      1949       actor,writer,music_department   \n",
      "4   nm0000005   Ingmar Bergman      1918               writer,director,actor   \n",
      "5   nm0000006   Ingrid Bergman      1915         actress,producer,soundtrack   \n",
      "6   nm0000007  Humphrey Bogart      1899        actor,producer,miscellaneous   \n",
      "7   nm0000008    Marlon Brando      1924               actor,director,writer   \n",
      "8   nm0000009   Richard Burton      1925             actor,producer,director   \n",
      "9   nm0000010     James Cagney      1899             actor,director,producer   \n",
      "10  nm0000011      Gary Cooper      1901               actor,stunts,producer   \n",
      "\n",
      "                             knownForTitles  \n",
      "0   tt0072308,tt0050419,tt0053137,tt0027125  \n",
      "1   tt0037382,tt0075213,tt0117057,tt0038355  \n",
      "3   tt0072562,tt0077975,tt0080455,tt0078723  \n",
      "4   tt0050986,tt0083922,tt0050976,tt0069467  \n",
      "5   tt0034583,tt0036855,tt0038109,tt0038787  \n",
      "6   tt0034583,tt0042593,tt0043265,tt0037382  \n",
      "7   tt0078788,tt0068646,tt0047296,tt0070849  \n",
      "8   tt0061184,tt0087803,tt0059749,tt0057877  \n",
      "9   tt0029870,tt0031867,tt0042041,tt0035575  \n",
      "10  tt0044706,tt0034167,tt0035896,tt0027996  \n"
     ]
    }
   ],
   "source": [
    "name_basics_path = 'D:\\\\Projo\\\\Projet-Data-IA\\\\BDD_creuse\\\\name.basics.tsv'\n",
    "df_nameBasics = pd.read_csv(name_basics_path, sep='\\t')\n",
    "\n",
    "# Remplacer '\\N' par NaN dans les colonnes 'birthYear' et 'deathYear'\n",
    "df_nameBasics['nconst'] = df_nameBasics['nconst'].replace('\\\\N', pd.NA)\n",
    "df_nameBasics['primaryName'] = df_nameBasics['primaryName'].replace('\\\\N', pd.NA)\n",
    "df_nameBasics['deathYear'] = df_nameBasics['deathYear'].replace('\\\\N', pd.NA)\n",
    "df_nameBasics['deathYear'] = df_nameBasics['deathYear'].replace('\\\\N', pd.NA)\n",
    "df_nameBasics['primaryProfession'] = df_nameBasics['primaryProfession'].replace('\\\\N', pd.NA)\n",
    "df_nameBasics['knownForTitles'] = df_nameBasics['knownForTitles'].replace('\\\\N', pd.NA)\n",
    "\n",
    "# Suppression des lignes avec des valeurs manquantes dans les colonnes 'birthYear' et 'deathYear'\n",
    "df_clear = df_nameBasics.dropna(subset=['nconst', 'primaryName','birthYear', 'deathYear', 'primaryProfession', 'knownForTitles'])\n",
    "\n",
    "#  Suppression des doublons\n",
    "df_clear = df_clear.drop_duplicates(subset=['nconst', 'primaryName','birthYear', 'deathYear', 'primaryProfession', 'knownForTitles'])\n",
    "\n",
    "# Suppression des colonnes 'birthYear' et 'deathYear'\n",
    "df_nBasics_clear = df_clear.drop(columns=['deathYear'])\n",
    "\n",
    "print(df_nBasics_clear.head(10))\n",
    "\n",
    "# # Filtrer les résultats à partir de 1980 ou supprimer les valeurs avant 1980\n",
    "# df_nBasics_clear_sorted = df_nBasics_clear.sort_values(by='birthYear')\n",
    "# df_nBasics_clear_sorted_1980 = df_nBasics_clear_sorted[df_nBasics_clear_sorted['birthYear'] >= '1980']\n",
    "\n",
    "# print(df_nBasics_clear_sorted_1980.head(10))\n",
    "\n",
    "# df_nBasics_clear.info\n"
   ]
  },
  {
   "cell_type": "markdown",
   "metadata": {},
   "source": [
    "# Verifier la taille du fichier\n",
    "df.info\n"
   ]
  }
 ],
 "metadata": {
  "kernelspec": {
   "display_name": "Python 3",
   "language": "python",
   "name": "python3"
  },
  "language_info": {
   "codemirror_mode": {
    "name": "ipython",
    "version": 3
   },
   "file_extension": ".py",
   "mimetype": "text/x-python",
   "name": "python",
   "nbconvert_exporter": "python",
   "pygments_lexer": "ipython3",
   "version": "3.12.2"
  }
 },
 "nbformat": 4,
 "nbformat_minor": 2
}
