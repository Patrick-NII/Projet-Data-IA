{
 "cells": [
  {
   "cell_type": "code",
   "execution_count": 2,
   "metadata": {},
   "outputs": [],
   "source": [
    "import pandas as pd"
   ]
  },
  {
   "cell_type": "code",
   "execution_count": 24,
   "metadata": {},
   "outputs": [
    {
     "name": "stdout",
     "output_type": "stream",
     "text": [
      "      nconst     primaryName birthYear deathYear  \\\n",
      "0  nm0000001    Fred Astaire      1899      1987   \n",
      "1  nm0000002   Lauren Bacall      1924      2014   \n",
      "3  nm0000004    John Belushi      1949      1982   \n",
      "4  nm0000005  Ingmar Bergman      1918      2007   \n",
      "5  nm0000006  Ingrid Bergman      1915      1982   \n",
      "\n",
      "                    primaryProfession                           knownForTitles  \n",
      "0        actor,miscellaneous,producer  tt0072308,tt0050419,tt0053137,tt0027125  \n",
      "1  actress,soundtrack,archive_footage  tt0037382,tt0075213,tt0117057,tt0038355  \n",
      "3       actor,writer,music_department  tt0072562,tt0077975,tt0080455,tt0078723  \n",
      "4               writer,director,actor  tt0050986,tt0083922,tt0050976,tt0069467  \n",
      "5         actress,producer,soundtrack  tt0034583,tt0036855,tt0038109,tt0038787  \n"
     ]
    }
   ],
   "source": [
    "# Chemin vers le fichier TSV\n",
    "name_basics_path = \"D:\\\\Projo\\\\Projet-Data-IA\\\\BDD_creuse\\\\name.basics.tsv\"\n",
    "\n",
    "# Chargement des données et suppression separateur tabulations\n",
    "df = pd.read_csv(name_basics_path, sep='\\t')\n",
    "\n",
    "# Remplacer '\\N' par NaN dans les colonnes 'birthYear' et 'deathYear'\n",
    "df['birthYear'] = df['birthYear'].replace('\\\\N', pd.NA)\n",
    "df['deathYear'] = df['deathYear'].replace('\\\\N', pd.NA)\n",
    "\n",
    "# Suppression des lignes avec des valeurs manquantes dans les colonnes 'birthYear' et 'deathYear'\n",
    "df_clear = df.dropna(subset=['birthYear', 'deathYear'])\n",
    "\n",
    "#  Suppression des doublons\n",
    "df_clear = df_clear.drop_duplicates(subset=['primaryName', 'birthYear', 'deathYear'])\n",
    "\n",
    "# Affichage des premières lignes\n",
    "print(df_clear.head())\n",
    "\n",
    "\n"
   ]
  }
 ],
 "metadata": {
  "kernelspec": {
   "display_name": "Python 3",
   "language": "python",
   "name": "python3"
  },
  "language_info": {
   "codemirror_mode": {
    "name": "ipython",
    "version": 3
   },
   "file_extension": ".py",
   "mimetype": "text/x-python",
   "name": "python",
   "nbconvert_exporter": "python",
   "pygments_lexer": "ipython3",
   "version": "3.12.2"
  }
 },
 "nbformat": 4,
 "nbformat_minor": 2
}
