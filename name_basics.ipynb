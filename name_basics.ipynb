{
 "cells": [
  {
   "cell_type": "markdown",
   "metadata": {},
   "source": [
    "## **Phase 1:** Nettoyage\n",
    "\n",
    "**Gestion des valeurs manquantes :**\n",
    "Identifier les valeurs manquantes dans les colonnes clés.\n",
    "Déterminer si les valeurs manquantes peuvent être remplacées par des valeurs par défaut, interpolées à partir d'autres données ou si elles doivent être supprimées.\n",
    "\n",
    "**Nettoyage des doublons :**\n",
    "Identifier et supprimer les entrées en double, conserver l'entrée la plus pertinente ou la plus récente en fonction des critères de sélection.\n",
    "\n",
    "**Validation des données :**\n",
    "Vérifier la cohérence des données.\n",
    "Examiner les champs tels que les durées des films, les budgets, les notes des utilisateurs, etc., pour détecter les valeurs aberrantes ou incohérentes.\n",
    "\n",
    "**Normalisation des données :**\n",
    "Harmoniser les valeurs des champs tels que les noms des genres, les noms des réalisateurs, etc., pour éviter les variations et les erreurs orthographiques.\n",
    "\n",
    "**Gestion des formats de données :**\n",
    "Convertir les données dans des formats appropriés, par exemple en convertissant les dates en objets de date/heure, en normalisant les noms de fichiers d'images, etc.\n",
    "\n",
    "**Traitement des données textuelles :**\n",
    "Prétraiter les données textuelles comme les descriptions de films, les critiques, etc., en supprimant la ponctuation, en normalisant la casse, en supprimant les mots vides, etc., pour faciliter l'analyse de texte.\n",
    "\n",
    "**Gestion des données non structurées :**\n",
    "Utiliser des techniques d'apprentissage automatique pour extraire des informations pertinentes et les intégrer dans votre analyse.\n",
    "\n",
    "**Sécurité des données :**\n",
    "Respecter les réglementations en matière de confidentialité des données, notamment en anonymisant les données personnelles des utilisateurs si nécessaire."
   ]
  },
  {
   "cell_type": "code",
   "execution_count": 36,
   "metadata": {},
   "outputs": [],
   "source": [
    "import pandas as pd\n",
    "import numpy as np\n",
    "import matplotlib.pyplot as plt\n",
    "import seaborn as sns"
   ]
  },
  {
   "cell_type": "code",
   "execution_count": 37,
   "metadata": {},
   "outputs": [],
   "source": [
    "# Chargement du DataFrame\n",
    "name_basics_path = 'D:\\\\Projo\\\\Projet-Data-IA\\\\BDD_creuse\\\\name.basics.tsv'\n",
    "df_nameBasics = pd.read_csv(name_basics_path, sep='\\t', na_values='\\\\N')"
   ]
  },
  {
   "cell_type": "code",
   "execution_count": 38,
   "metadata": {},
   "outputs": [
    {
     "data": {
      "text/plain": [
       "(13387604, 6)"
      ]
     },
     "execution_count": 38,
     "metadata": {},
     "output_type": "execute_result"
    }
   ],
   "source": [
    "#forme du dataframe\n",
    "df_nameBasics.shape"
   ]
  },
  {
   "cell_type": "code",
   "execution_count": 39,
   "metadata": {},
   "outputs": [
    {
     "name": "stdout",
     "output_type": "stream",
     "text": [
      "<class 'pandas.core.frame.DataFrame'>\n",
      "RangeIndex: 13387604 entries, 0 to 13387603\n",
      "Data columns (total 6 columns):\n",
      " #   Column             Dtype  \n",
      "---  ------             -----  \n",
      " 0   nconst             object \n",
      " 1   primaryName        object \n",
      " 2   birthYear          float64\n",
      " 3   deathYear          float64\n",
      " 4   primaryProfession  object \n",
      " 5   knownForTitles     object \n",
      "dtypes: float64(2), object(4)\n",
      "memory usage: 612.8+ MB\n"
     ]
    }
   ],
   "source": [
    "df_nameBasics.info()"
   ]
  },
  {
   "cell_type": "code",
   "execution_count": 40,
   "metadata": {},
   "outputs": [
    {
     "data": {
      "text/plain": [
       "nconst                0.000000\n",
       "primaryName           0.000418\n",
       "birthYear            95.352395\n",
       "deathYear            98.305186\n",
       "primaryProfession    19.148721\n",
       "knownForTitles       10.978529\n",
       "dtype: float64"
      ]
     },
     "execution_count": 40,
     "metadata": {},
     "output_type": "execute_result"
    }
   ],
   "source": [
    "# Proportion (%) des valeurs nulles\n",
    "df_nameBasics.isna().sum() / len(df_nameBasics) * 100"
   ]
  },
  {
   "cell_type": "code",
   "execution_count": 41,
   "metadata": {},
   "outputs": [
    {
     "data": {
      "text/plain": [
       "nconst                object\n",
       "primaryName           object\n",
       "birthYear            float64\n",
       "deathYear            float64\n",
       "primaryProfession     object\n",
       "knownForTitles        object\n",
       "dtype: object"
      ]
     },
     "execution_count": 41,
     "metadata": {},
     "output_type": "execute_result"
    }
   ],
   "source": [
    "df_nameBasics.dtypes"
   ]
  },
  {
   "cell_type": "code",
   "execution_count": 42,
   "metadata": {},
   "outputs": [],
   "source": [
    "# Supprimer les deux premiers caractères de chaque valeur dans la colonne nconst\n",
    "df_nameBasics['nconst'] = df_nameBasics['nconst'].str[2:]\n",
    "\n",
    "# Convertir la colonne nconst en int64\n",
    "df_nameBasics['nconst'] = df_nameBasics['nconst'].astype('int16')"
   ]
  },
  {
   "cell_type": "code",
   "execution_count": 43,
   "metadata": {},
   "outputs": [],
   "source": [
    "df_nameBasics.drop(columns=['birthYear', 'deathYear'], inplace=True)"
   ]
  },
  {
   "cell_type": "code",
   "execution_count": 44,
   "metadata": {},
   "outputs": [],
   "source": [
    "# Convertir les valeurs non-chaînes en une liste vide\n",
    "df_nameBasics['primaryProfession'] = df_nameBasics['primaryProfession'].apply(lambda x: [] if isinstance(x, float) else x)\n",
    "\n",
    "# Diviser la chaîne en une liste et retirer les virgules\n",
    "df_nameBasics['primaryProfession'] = df_nameBasics['primaryProfession'].apply(lambda x: [profession.strip() for profession in x.split(',')] if isinstance(x, str) else [])\n"
   ]
  },
  {
   "cell_type": "code",
   "execution_count": 45,
   "metadata": {},
   "outputs": [],
   "source": [
    "# Convertir les valeurs non-chaînes en une liste vide\n",
    "df_nameBasics['knownForTitles'] = df_nameBasics['knownForTitles'].apply(lambda x: [] if isinstance(x, float) else x)\n",
    "\n",
    "# Diviser la chaîne en une liste et retirer les virgules\n",
    "df_nameBasics['knownForTitles'] = df_nameBasics['knownForTitles'].apply(lambda x: [title.strip() for title in x.split(',')] if isinstance(x, str) else [])\n"
   ]
  },
  {
   "cell_type": "code",
   "execution_count": 46,
   "metadata": {},
   "outputs": [
    {
     "data": {
      "text/html": [
       "<div>\n",
       "<style scoped>\n",
       "    .dataframe tbody tr th:only-of-type {\n",
       "        vertical-align: middle;\n",
       "    }\n",
       "\n",
       "    .dataframe tbody tr th {\n",
       "        vertical-align: top;\n",
       "    }\n",
       "\n",
       "    .dataframe thead th {\n",
       "        text-align: right;\n",
       "    }\n",
       "</style>\n",
       "<table border=\"1\" class=\"dataframe\">\n",
       "  <thead>\n",
       "    <tr style=\"text-align: right;\">\n",
       "      <th></th>\n",
       "      <th>nconst</th>\n",
       "      <th>primaryName</th>\n",
       "      <th>primaryProfession</th>\n",
       "      <th>knownForTitles</th>\n",
       "    </tr>\n",
       "  </thead>\n",
       "  <tbody>\n",
       "    <tr>\n",
       "      <th>0</th>\n",
       "      <td>1</td>\n",
       "      <td>Fred Astaire</td>\n",
       "      <td>[actor, miscellaneous, producer]</td>\n",
       "      <td>[tt0072308, tt0050419, tt0053137, tt0027125]</td>\n",
       "    </tr>\n",
       "    <tr>\n",
       "      <th>1</th>\n",
       "      <td>2</td>\n",
       "      <td>Lauren Bacall</td>\n",
       "      <td>[actress, soundtrack, archive_footage]</td>\n",
       "      <td>[tt0037382, tt0075213, tt0117057, tt0038355]</td>\n",
       "    </tr>\n",
       "    <tr>\n",
       "      <th>2</th>\n",
       "      <td>3</td>\n",
       "      <td>Brigitte Bardot</td>\n",
       "      <td>[actress, music_department, producer]</td>\n",
       "      <td>[tt0057345, tt0049189, tt0056404, tt0054452]</td>\n",
       "    </tr>\n",
       "    <tr>\n",
       "      <th>3</th>\n",
       "      <td>4</td>\n",
       "      <td>John Belushi</td>\n",
       "      <td>[actor, writer, music_department]</td>\n",
       "      <td>[tt0072562, tt0077975, tt0080455, tt0078723]</td>\n",
       "    </tr>\n",
       "    <tr>\n",
       "      <th>4</th>\n",
       "      <td>5</td>\n",
       "      <td>Ingmar Bergman</td>\n",
       "      <td>[writer, director, actor]</td>\n",
       "      <td>[tt0050986, tt0083922, tt0050976, tt0069467]</td>\n",
       "    </tr>\n",
       "    <tr>\n",
       "      <th>5</th>\n",
       "      <td>6</td>\n",
       "      <td>Ingrid Bergman</td>\n",
       "      <td>[actress, producer, soundtrack]</td>\n",
       "      <td>[tt0034583, tt0036855, tt0038109, tt0038787]</td>\n",
       "    </tr>\n",
       "    <tr>\n",
       "      <th>6</th>\n",
       "      <td>7</td>\n",
       "      <td>Humphrey Bogart</td>\n",
       "      <td>[actor, producer, miscellaneous]</td>\n",
       "      <td>[tt0034583, tt0042593, tt0043265, tt0037382]</td>\n",
       "    </tr>\n",
       "    <tr>\n",
       "      <th>7</th>\n",
       "      <td>8</td>\n",
       "      <td>Marlon Brando</td>\n",
       "      <td>[actor, director, writer]</td>\n",
       "      <td>[tt0078788, tt0068646, tt0047296, tt0070849]</td>\n",
       "    </tr>\n",
       "    <tr>\n",
       "      <th>8</th>\n",
       "      <td>9</td>\n",
       "      <td>Richard Burton</td>\n",
       "      <td>[actor, producer, director]</td>\n",
       "      <td>[tt0061184, tt0087803, tt0059749, tt0057877]</td>\n",
       "    </tr>\n",
       "    <tr>\n",
       "      <th>9</th>\n",
       "      <td>10</td>\n",
       "      <td>James Cagney</td>\n",
       "      <td>[actor, director, producer]</td>\n",
       "      <td>[tt0029870, tt0031867, tt0042041, tt0035575]</td>\n",
       "    </tr>\n",
       "    <tr>\n",
       "      <th>10</th>\n",
       "      <td>11</td>\n",
       "      <td>Gary Cooper</td>\n",
       "      <td>[actor, stunts, producer]</td>\n",
       "      <td>[tt0044706, tt0034167, tt0035896, tt0027996]</td>\n",
       "    </tr>\n",
       "    <tr>\n",
       "      <th>11</th>\n",
       "      <td>12</td>\n",
       "      <td>Bette Davis</td>\n",
       "      <td>[actress, make_up_department, producer]</td>\n",
       "      <td>[tt0042192, tt0056687, tt0031210, tt0035140]</td>\n",
       "    </tr>\n",
       "    <tr>\n",
       "      <th>12</th>\n",
       "      <td>13</td>\n",
       "      <td>Doris Day</td>\n",
       "      <td>[actress, producer, miscellaneous]</td>\n",
       "      <td>[tt0048317, tt0045591, tt0053172, tt0049470]</td>\n",
       "    </tr>\n",
       "    <tr>\n",
       "      <th>13</th>\n",
       "      <td>14</td>\n",
       "      <td>Olivia de Havilland</td>\n",
       "      <td>[actress, soundtrack, archive_footage]</td>\n",
       "      <td>[tt0031381, tt0041452, tt0029843, tt0040806]</td>\n",
       "    </tr>\n",
       "    <tr>\n",
       "      <th>14</th>\n",
       "      <td>15</td>\n",
       "      <td>James Dean</td>\n",
       "      <td>[actor, miscellaneous, archive_footage]</td>\n",
       "      <td>[tt0048028, tt0048545, tt0049261, tt0043228]</td>\n",
       "    </tr>\n",
       "    <tr>\n",
       "      <th>15</th>\n",
       "      <td>16</td>\n",
       "      <td>Georges Delerue</td>\n",
       "      <td>[composer, music_department, actor]</td>\n",
       "      <td>[tt0091763, tt0096320, tt0069946, tt8847712]</td>\n",
       "    </tr>\n",
       "    <tr>\n",
       "      <th>16</th>\n",
       "      <td>17</td>\n",
       "      <td>Marlene Dietrich</td>\n",
       "      <td>[actress, music_department, soundtrack]</td>\n",
       "      <td>[tt0051201, tt0055031, tt0052311, tt0021156]</td>\n",
       "    </tr>\n",
       "    <tr>\n",
       "      <th>17</th>\n",
       "      <td>18</td>\n",
       "      <td>Kirk Douglas</td>\n",
       "      <td>[actor, producer, director]</td>\n",
       "      <td>[tt0080736, tt0054331, tt0049456, tt0050825]</td>\n",
       "    </tr>\n",
       "    <tr>\n",
       "      <th>18</th>\n",
       "      <td>19</td>\n",
       "      <td>Federico Fellini</td>\n",
       "      <td>[writer, director, actor]</td>\n",
       "      <td>[tt0056801, tt0050783, tt0053779, tt0071129]</td>\n",
       "    </tr>\n",
       "    <tr>\n",
       "      <th>19</th>\n",
       "      <td>20</td>\n",
       "      <td>Henry Fonda</td>\n",
       "      <td>[actor, producer, miscellaneous]</td>\n",
       "      <td>[tt0050083, tt0082846, tt0032551, tt0051207]</td>\n",
       "    </tr>\n",
       "  </tbody>\n",
       "</table>\n",
       "</div>"
      ],
      "text/plain": [
       "    nconst          primaryName                        primaryProfession  \\\n",
       "0        1         Fred Astaire         [actor, miscellaneous, producer]   \n",
       "1        2        Lauren Bacall   [actress, soundtrack, archive_footage]   \n",
       "2        3      Brigitte Bardot    [actress, music_department, producer]   \n",
       "3        4         John Belushi        [actor, writer, music_department]   \n",
       "4        5       Ingmar Bergman                [writer, director, actor]   \n",
       "5        6       Ingrid Bergman          [actress, producer, soundtrack]   \n",
       "6        7      Humphrey Bogart         [actor, producer, miscellaneous]   \n",
       "7        8        Marlon Brando                [actor, director, writer]   \n",
       "8        9       Richard Burton              [actor, producer, director]   \n",
       "9       10         James Cagney              [actor, director, producer]   \n",
       "10      11          Gary Cooper                [actor, stunts, producer]   \n",
       "11      12          Bette Davis  [actress, make_up_department, producer]   \n",
       "12      13            Doris Day       [actress, producer, miscellaneous]   \n",
       "13      14  Olivia de Havilland   [actress, soundtrack, archive_footage]   \n",
       "14      15           James Dean  [actor, miscellaneous, archive_footage]   \n",
       "15      16      Georges Delerue      [composer, music_department, actor]   \n",
       "16      17     Marlene Dietrich  [actress, music_department, soundtrack]   \n",
       "17      18         Kirk Douglas              [actor, producer, director]   \n",
       "18      19     Federico Fellini                [writer, director, actor]   \n",
       "19      20          Henry Fonda         [actor, producer, miscellaneous]   \n",
       "\n",
       "                                  knownForTitles  \n",
       "0   [tt0072308, tt0050419, tt0053137, tt0027125]  \n",
       "1   [tt0037382, tt0075213, tt0117057, tt0038355]  \n",
       "2   [tt0057345, tt0049189, tt0056404, tt0054452]  \n",
       "3   [tt0072562, tt0077975, tt0080455, tt0078723]  \n",
       "4   [tt0050986, tt0083922, tt0050976, tt0069467]  \n",
       "5   [tt0034583, tt0036855, tt0038109, tt0038787]  \n",
       "6   [tt0034583, tt0042593, tt0043265, tt0037382]  \n",
       "7   [tt0078788, tt0068646, tt0047296, tt0070849]  \n",
       "8   [tt0061184, tt0087803, tt0059749, tt0057877]  \n",
       "9   [tt0029870, tt0031867, tt0042041, tt0035575]  \n",
       "10  [tt0044706, tt0034167, tt0035896, tt0027996]  \n",
       "11  [tt0042192, tt0056687, tt0031210, tt0035140]  \n",
       "12  [tt0048317, tt0045591, tt0053172, tt0049470]  \n",
       "13  [tt0031381, tt0041452, tt0029843, tt0040806]  \n",
       "14  [tt0048028, tt0048545, tt0049261, tt0043228]  \n",
       "15  [tt0091763, tt0096320, tt0069946, tt8847712]  \n",
       "16  [tt0051201, tt0055031, tt0052311, tt0021156]  \n",
       "17  [tt0080736, tt0054331, tt0049456, tt0050825]  \n",
       "18  [tt0056801, tt0050783, tt0053779, tt0071129]  \n",
       "19  [tt0050083, tt0082846, tt0032551, tt0051207]  "
      ]
     },
     "execution_count": 46,
     "metadata": {},
     "output_type": "execute_result"
    }
   ],
   "source": [
    "# Afficher les premières lignes pour vérifier le résultat\n",
    "df_nameBasics.head(20)"
   ]
  },
  {
   "cell_type": "markdown",
   "metadata": {},
   "source": [
    "#### **Export du DataFrame nettoyé**"
   ]
  },
  {
   "cell_type": "code",
   "execution_count": 47,
   "metadata": {},
   "outputs": [],
   "source": [
    "# Enregistrement du DataFrame nettoyé dans un nouveau fichier\n",
    "df_nameBasics.to_csv('cleaned_name_basics.csv', index=False)"
   ]
  },
  {
   "cell_type": "markdown",
   "metadata": {},
   "source": [
    "## **Phase 2:**   Analyse et Visualisation des données"
   ]
  },
  {
   "cell_type": "markdown",
   "metadata": {},
   "source": []
  }
 ],
 "metadata": {
  "kernelspec": {
   "display_name": "Python 3",
   "language": "python",
   "name": "python3"
  },
  "language_info": {
   "codemirror_mode": {
    "name": "ipython",
    "version": 3
   },
   "file_extension": ".py",
   "mimetype": "text/x-python",
   "name": "python",
   "nbconvert_exporter": "python",
   "pygments_lexer": "ipython3",
   "version": "3.12.2"
  }
 },
 "nbformat": 4,
 "nbformat_minor": 2
}
