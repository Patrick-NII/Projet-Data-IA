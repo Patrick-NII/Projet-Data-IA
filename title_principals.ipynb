{
 "cells": [
  {
   "cell_type": "markdown",
   "metadata": {},
   "source": [
    "# Title Principals\n",
    "\n"
   ]
  },
  {
   "cell_type": "markdown",
   "metadata": {},
   "source": [
    "**Phase 1:** Nettoyage\n",
    "\n",
    "**Gestion des valeurs manquantes :**\n",
    "Identifier les valeurs manquantes dans les colonnes clés.\n",
    "Déterminer si les valeurs manquantes peuvent être remplacées par des valeurs par défaut, interpolées à partir d'autres données ou si elles doivent être supprimées.\n",
    "\n",
    "**Nettoyage des doublons :**\n",
    "Identifier et supprimer les entrées en double, conserver l'entrée la plus pertinente ou la plus récente en fonction des critères de sélection.\n",
    "\n",
    "**Validation des données :**\n",
    "Vérifier la cohérence des données.\n",
    "Examiner les champs tels que les durées des films, les budgets, les notes des utilisateurs, etc., pour détecter les valeurs aberrantes ou incohérentes.\n",
    "\n",
    "**Normalisation des données :**\n",
    "Harmoniser les valeurs des champs tels que les noms des genres, les noms des réalisateurs, etc., pour éviter les variations et les erreurs orthographiques.\n",
    "\n",
    "**Gestion des formats de données :**\n",
    "Convertir les données dans des formats appropriés, par exemple en convertissant les dates en objets de date/heure, en normalisant les noms de fichiers d'images, etc.\n",
    "\n",
    "**Traitement des données textuelles :**\n",
    "Prétraiter les données textuelles comme les descriptions de films, les critiques, etc., en supprimant la ponctuation, en normalisant la casse, en supprimant les mots vides, etc., pour faciliter l'analyse de texte.\n",
    "\n",
    "**Gestion des données non structurées :**\n",
    "Utiliser des techniques d'apprentissage automatique pour extraire des informations pertinentes et les intégrer dans votre analyse.\n",
    "\n",
    "**Sécurité des données :**\n",
    "Respecter les réglementations en matière de confidentialité des données, notamment en anonymisant les données personnelles des utilisateurs si nécessaire."
   ]
  },
  {
   "cell_type": "code",
   "execution_count": 1,
   "metadata": {},
   "outputs": [],
   "source": [
    "import pandas as pd\n",
    "import numpy as np\n",
    "import matplotlib.pyplot as plt\n",
    "import seaborn as sns"
   ]
  },
  {
   "cell_type": "code",
   "execution_count": 2,
   "metadata": {},
   "outputs": [
    {
     "data": {
      "text/html": [
       "<div>\n",
       "<style scoped>\n",
       "    .dataframe tbody tr th:only-of-type {\n",
       "        vertical-align: middle;\n",
       "    }\n",
       "\n",
       "    .dataframe tbody tr th {\n",
       "        vertical-align: top;\n",
       "    }\n",
       "\n",
       "    .dataframe thead th {\n",
       "        text-align: right;\n",
       "    }\n",
       "</style>\n",
       "<table border=\"1\" class=\"dataframe\">\n",
       "  <thead>\n",
       "    <tr style=\"text-align: right;\">\n",
       "      <th></th>\n",
       "      <th>tconst</th>\n",
       "      <th>ordering</th>\n",
       "      <th>nconst</th>\n",
       "      <th>category</th>\n",
       "      <th>job</th>\n",
       "      <th>characters</th>\n",
       "    </tr>\n",
       "  </thead>\n",
       "  <tbody>\n",
       "    <tr>\n",
       "      <th>0</th>\n",
       "      <td>tt0000001</td>\n",
       "      <td>1</td>\n",
       "      <td>nm1588970</td>\n",
       "      <td>self</td>\n",
       "      <td>\\N</td>\n",
       "      <td>[\"Self\"]</td>\n",
       "    </tr>\n",
       "    <tr>\n",
       "      <th>1</th>\n",
       "      <td>tt0000001</td>\n",
       "      <td>2</td>\n",
       "      <td>nm0005690</td>\n",
       "      <td>director</td>\n",
       "      <td>\\N</td>\n",
       "      <td>\\N</td>\n",
       "    </tr>\n",
       "    <tr>\n",
       "      <th>2</th>\n",
       "      <td>tt0000001</td>\n",
       "      <td>3</td>\n",
       "      <td>nm0005690</td>\n",
       "      <td>producer</td>\n",
       "      <td>producer</td>\n",
       "      <td>\\N</td>\n",
       "    </tr>\n",
       "    <tr>\n",
       "      <th>3</th>\n",
       "      <td>tt0000001</td>\n",
       "      <td>4</td>\n",
       "      <td>nm0374658</td>\n",
       "      <td>cinematographer</td>\n",
       "      <td>director of photography</td>\n",
       "      <td>\\N</td>\n",
       "    </tr>\n",
       "    <tr>\n",
       "      <th>4</th>\n",
       "      <td>tt0000002</td>\n",
       "      <td>1</td>\n",
       "      <td>nm0721526</td>\n",
       "      <td>director</td>\n",
       "      <td>\\N</td>\n",
       "      <td>\\N</td>\n",
       "    </tr>\n",
       "  </tbody>\n",
       "</table>\n",
       "</div>"
      ],
      "text/plain": [
       "      tconst  ordering     nconst         category                      job  \\\n",
       "0  tt0000001         1  nm1588970             self                       \\N   \n",
       "1  tt0000001         2  nm0005690         director                       \\N   \n",
       "2  tt0000001         3  nm0005690         producer                 producer   \n",
       "3  tt0000001         4  nm0374658  cinematographer  director of photography   \n",
       "4  tt0000002         1  nm0721526         director                       \\N   \n",
       "\n",
       "  characters  \n",
       "0   [\"Self\"]  \n",
       "1         \\N  \n",
       "2         \\N  \n",
       "3         \\N  \n",
       "4         \\N  "
      ]
     },
     "execution_count": 2,
     "metadata": {},
     "output_type": "execute_result"
    }
   ],
   "source": [
    "df_titlePrincipals = pd.read_csv(\"D:/Projo/Projet-Data-IA/BDD_creuse/title.principals.tsv\",  sep='\\t')\n",
    "df_titlePrincipals.head()"
   ]
  },
  {
   "cell_type": "code",
   "execution_count": 3,
   "metadata": {},
   "outputs": [
    {
     "data": {
      "text/plain": [
       "(84893365, 6)"
      ]
     },
     "execution_count": 3,
     "metadata": {},
     "output_type": "execute_result"
    }
   ],
   "source": [
    "# Forme du dataframe\n",
    "df_titlePrincipals.shape"
   ]
  },
  {
   "cell_type": "code",
   "execution_count": 4,
   "metadata": {},
   "outputs": [
    {
     "name": "stdout",
     "output_type": "stream",
     "text": [
      "<class 'pandas.core.frame.DataFrame'>\n",
      "RangeIndex: 84893365 entries, 0 to 84893364\n",
      "Data columns (total 6 columns):\n",
      " #   Column      Dtype \n",
      "---  ------      ----- \n",
      " 0   tconst      object\n",
      " 1   ordering    int64 \n",
      " 2   nconst      object\n",
      " 3   category    object\n",
      " 4   job         object\n",
      " 5   characters  object\n",
      "dtypes: int64(1), object(5)\n",
      "memory usage: 3.8+ GB\n"
     ]
    }
   ],
   "source": [
    "df_titlePrincipals.info()"
   ]
  },
  {
   "cell_type": "code",
   "execution_count": 5,
   "metadata": {},
   "outputs": [
    {
     "data": {
      "text/html": [
       "<div>\n",
       "<style scoped>\n",
       "    .dataframe tbody tr th:only-of-type {\n",
       "        vertical-align: middle;\n",
       "    }\n",
       "\n",
       "    .dataframe tbody tr th {\n",
       "        vertical-align: top;\n",
       "    }\n",
       "\n",
       "    .dataframe thead th {\n",
       "        text-align: right;\n",
       "    }\n",
       "</style>\n",
       "<table border=\"1\" class=\"dataframe\">\n",
       "  <thead>\n",
       "    <tr style=\"text-align: right;\">\n",
       "      <th></th>\n",
       "      <th>ordering</th>\n",
       "    </tr>\n",
       "  </thead>\n",
       "  <tbody>\n",
       "    <tr>\n",
       "      <th>count</th>\n",
       "      <td>8.489336e+07</td>\n",
       "    </tr>\n",
       "    <tr>\n",
       "      <th>mean</th>\n",
       "      <td>6.999683e+00</td>\n",
       "    </tr>\n",
       "    <tr>\n",
       "      <th>std</th>\n",
       "      <td>5.142758e+00</td>\n",
       "    </tr>\n",
       "    <tr>\n",
       "      <th>min</th>\n",
       "      <td>1.000000e+00</td>\n",
       "    </tr>\n",
       "    <tr>\n",
       "      <th>25%</th>\n",
       "      <td>3.000000e+00</td>\n",
       "    </tr>\n",
       "    <tr>\n",
       "      <th>50%</th>\n",
       "      <td>6.000000e+00</td>\n",
       "    </tr>\n",
       "    <tr>\n",
       "      <th>75%</th>\n",
       "      <td>1.000000e+01</td>\n",
       "    </tr>\n",
       "    <tr>\n",
       "      <th>max</th>\n",
       "      <td>7.500000e+01</td>\n",
       "    </tr>\n",
       "  </tbody>\n",
       "</table>\n",
       "</div>"
      ],
      "text/plain": [
       "           ordering\n",
       "count  8.489336e+07\n",
       "mean   6.999683e+00\n",
       "std    5.142758e+00\n",
       "min    1.000000e+00\n",
       "25%    3.000000e+00\n",
       "50%    6.000000e+00\n",
       "75%    1.000000e+01\n",
       "max    7.500000e+01"
      ]
     },
     "execution_count": 5,
     "metadata": {},
     "output_type": "execute_result"
    }
   ],
   "source": [
    "df_titlePrincipals.describe()"
   ]
  },
  {
   "cell_type": "code",
   "execution_count": 6,
   "metadata": {},
   "outputs": [
    {
     "data": {
      "text/plain": [
       "tconst        0.0\n",
       "ordering      0.0\n",
       "nconst        0.0\n",
       "category      0.0\n",
       "job           0.0\n",
       "characters    0.0\n",
       "dtype: float64"
      ]
     },
     "execution_count": 6,
     "metadata": {},
     "output_type": "execute_result"
    }
   ],
   "source": [
    "# Proportion (%) de valeurs nulle\n",
    "df_titlePrincipals.isna().sum() / df_titlePrincipals.shape[0] * 100"
   ]
  },
  {
   "cell_type": "code",
   "execution_count": 7,
   "metadata": {},
   "outputs": [
    {
     "data": {
      "text/plain": [
       "tconst        object\n",
       "ordering       int64\n",
       "nconst        object\n",
       "category      object\n",
       "job           object\n",
       "characters    object\n",
       "dtype: object"
      ]
     },
     "execution_count": 7,
     "metadata": {},
     "output_type": "execute_result"
    }
   ],
   "source": [
    "df_titlePrincipals.dtypes"
   ]
  },
  {
   "cell_type": "code",
   "execution_count": 8,
   "metadata": {},
   "outputs": [
    {
     "data": {
      "text/html": [
       "<div>\n",
       "<style scoped>\n",
       "    .dataframe tbody tr th:only-of-type {\n",
       "        vertical-align: middle;\n",
       "    }\n",
       "\n",
       "    .dataframe tbody tr th {\n",
       "        vertical-align: top;\n",
       "    }\n",
       "\n",
       "    .dataframe thead th {\n",
       "        text-align: right;\n",
       "    }\n",
       "</style>\n",
       "<table border=\"1\" class=\"dataframe\">\n",
       "  <thead>\n",
       "    <tr style=\"text-align: right;\">\n",
       "      <th></th>\n",
       "      <th>tconst</th>\n",
       "      <th>ordering</th>\n",
       "      <th>nconst</th>\n",
       "      <th>category</th>\n",
       "      <th>job</th>\n",
       "      <th>characters</th>\n",
       "    </tr>\n",
       "  </thead>\n",
       "  <tbody>\n",
       "    <tr>\n",
       "      <th>0</th>\n",
       "      <td>1</td>\n",
       "      <td>1</td>\n",
       "      <td>1588970</td>\n",
       "      <td>self</td>\n",
       "      <td>\\N</td>\n",
       "      <td>[\"Self\"]</td>\n",
       "    </tr>\n",
       "    <tr>\n",
       "      <th>1</th>\n",
       "      <td>1</td>\n",
       "      <td>2</td>\n",
       "      <td>5690</td>\n",
       "      <td>director</td>\n",
       "      <td>\\N</td>\n",
       "      <td>\\N</td>\n",
       "    </tr>\n",
       "    <tr>\n",
       "      <th>2</th>\n",
       "      <td>1</td>\n",
       "      <td>3</td>\n",
       "      <td>5690</td>\n",
       "      <td>producer</td>\n",
       "      <td>producer</td>\n",
       "      <td>\\N</td>\n",
       "    </tr>\n",
       "    <tr>\n",
       "      <th>3</th>\n",
       "      <td>1</td>\n",
       "      <td>4</td>\n",
       "      <td>374658</td>\n",
       "      <td>cinematographer</td>\n",
       "      <td>director of photography</td>\n",
       "      <td>\\N</td>\n",
       "    </tr>\n",
       "    <tr>\n",
       "      <th>4</th>\n",
       "      <td>2</td>\n",
       "      <td>1</td>\n",
       "      <td>721526</td>\n",
       "      <td>director</td>\n",
       "      <td>\\N</td>\n",
       "      <td>\\N</td>\n",
       "    </tr>\n",
       "  </tbody>\n",
       "</table>\n",
       "</div>"
      ],
      "text/plain": [
       "   tconst  ordering   nconst         category                      job  \\\n",
       "0       1         1  1588970             self                       \\N   \n",
       "1       1         2     5690         director                       \\N   \n",
       "2       1         3     5690         producer                 producer   \n",
       "3       1         4   374658  cinematographer  director of photography   \n",
       "4       2         1   721526         director                       \\N   \n",
       "\n",
       "  characters  \n",
       "0   [\"Self\"]  \n",
       "1         \\N  \n",
       "2         \\N  \n",
       "3         \\N  \n",
       "4         \\N  "
      ]
     },
     "execution_count": 8,
     "metadata": {},
     "output_type": "execute_result"
    }
   ],
   "source": [
    "# Supprimer les deux premiers caractères de chaque valeur dans la colonne nconst\n",
    "df_titlePrincipals['nconst'] = df_titlePrincipals['nconst'].str[2:]\n",
    "\n",
    "# Convertir la colonne nconst en int64\n",
    "df_titlePrincipals['nconst'] = df_titlePrincipals['nconst'].astype('int32')\n",
    "\n",
    "# Supprimer les deux premiers caractères de chaque valeur dans la colonne nconst\n",
    "df_titlePrincipals['tconst'] = df_titlePrincipals['tconst'].str[2:]\n",
    "\n",
    "# Convertir la colonne nconst en int64\n",
    "df_titlePrincipals['tconst'] = df_titlePrincipals['tconst'].astype('int16')\n",
    "\n",
    "\n",
    "df_titlePrincipals.head()"
   ]
  }
 ],
 "metadata": {
  "kernelspec": {
   "display_name": "Python 3",
   "language": "python",
   "name": "python3"
  },
  "language_info": {
   "codemirror_mode": {
    "name": "ipython",
    "version": 3
   },
   "file_extension": ".py",
   "mimetype": "text/x-python",
   "name": "python",
   "nbconvert_exporter": "python",
   "pygments_lexer": "ipython3",
   "version": "3.12.2"
  }
 },
 "nbformat": 4,
 "nbformat_minor": 2
}
