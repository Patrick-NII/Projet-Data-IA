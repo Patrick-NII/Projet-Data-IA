{
 "cells": [
  {
   "cell_type": "code",
   "execution_count": 1,
   "metadata": {},
   "outputs": [],
   "source": [
    "import pandas as pd"
   ]
  },
  {
   "cell_type": "code",
   "execution_count": 2,
   "metadata": {},
   "outputs": [],
   "source": [
    "df = pd.read_csv(\"D:/Projo/Projet-Data-IA/BDD_creuse/title.principals.tsv\",  delimiter='\\t', low_memory=False)"
   ]
  },
  {
   "cell_type": "code",
   "execution_count": null,
   "metadata": {},
   "outputs": [],
   "source": [
    "df.info()"
   ]
  },
  {
   "cell_type": "code",
   "execution_count": 3,
   "metadata": {},
   "outputs": [
    {
     "data": {
      "text/html": [
       "<div>\n",
       "<style scoped>\n",
       "    .dataframe tbody tr th:only-of-type {\n",
       "        vertical-align: middle;\n",
       "    }\n",
       "\n",
       "    .dataframe tbody tr th {\n",
       "        vertical-align: top;\n",
       "    }\n",
       "\n",
       "    .dataframe thead th {\n",
       "        text-align: right;\n",
       "    }\n",
       "</style>\n",
       "<table border=\"1\" class=\"dataframe\">\n",
       "  <thead>\n",
       "    <tr style=\"text-align: right;\">\n",
       "      <th></th>\n",
       "      <th>tconst</th>\n",
       "      <th>nconst</th>\n",
       "      <th>category</th>\n",
       "      <th>job</th>\n",
       "      <th>characters</th>\n",
       "    </tr>\n",
       "  </thead>\n",
       "  <tbody>\n",
       "    <tr>\n",
       "      <th>0</th>\n",
       "      <td>tt0000001</td>\n",
       "      <td>nm1588970</td>\n",
       "      <td>self</td>\n",
       "      <td>\\N</td>\n",
       "      <td>[\"Self\"]</td>\n",
       "    </tr>\n",
       "    <tr>\n",
       "      <th>1</th>\n",
       "      <td>tt0000001</td>\n",
       "      <td>nm0005690</td>\n",
       "      <td>director</td>\n",
       "      <td>\\N</td>\n",
       "      <td>\\N</td>\n",
       "    </tr>\n",
       "    <tr>\n",
       "      <th>2</th>\n",
       "      <td>tt0000001</td>\n",
       "      <td>nm0005690</td>\n",
       "      <td>producer</td>\n",
       "      <td>producer</td>\n",
       "      <td>\\N</td>\n",
       "    </tr>\n",
       "    <tr>\n",
       "      <th>3</th>\n",
       "      <td>tt0000001</td>\n",
       "      <td>nm0374658</td>\n",
       "      <td>cinematographer</td>\n",
       "      <td>director of photography</td>\n",
       "      <td>\\N</td>\n",
       "    </tr>\n",
       "    <tr>\n",
       "      <th>4</th>\n",
       "      <td>tt0000002</td>\n",
       "      <td>nm0721526</td>\n",
       "      <td>director</td>\n",
       "      <td>\\N</td>\n",
       "      <td>\\N</td>\n",
       "    </tr>\n",
       "  </tbody>\n",
       "</table>\n",
       "</div>"
      ],
      "text/plain": [
       "      tconst     nconst         category                      job characters\n",
       "0  tt0000001  nm1588970             self                       \\N   [\"Self\"]\n",
       "1  tt0000001  nm0005690         director                       \\N         \\N\n",
       "2  tt0000001  nm0005690         producer                 producer         \\N\n",
       "3  tt0000001  nm0374658  cinematographer  director of photography         \\N\n",
       "4  tt0000002  nm0721526         director                       \\N         \\N"
      ]
     },
     "execution_count": 3,
     "metadata": {},
     "output_type": "execute_result"
    }
   ],
   "source": [
    "\n",
    "df_clean = df.dropna()\n",
    "df_clean = df_clean.drop_duplicates()\n",
    "df_clean = df.drop(columns=[\"ordering\"])\n",
    "df_clean.head()"
   ]
  },
  {
   "cell_type": "code",
   "execution_count": 3,
   "metadata": {},
   "outputs": [
    {
     "name": "stdout",
     "output_type": "stream",
     "text": [
      "Empty DataFrame\n",
      "Columns: [tconst, nconst, category, job, characters]\n",
      "Index: []\n"
     ]
    }
   ],
   "source": [
    "\n",
    "dtypes = {'tconst': str, 'nconst': str, 'category': str, 'characters': str, 'job': str}\n",
    "df_title_principals = pd.read_csv(\"D:\\\\Projo\\\\Projet-Data-IA\\\\BDD_creuse\\\\title.principals.tsv\", sep='\\t', dtype=dtypes)\n",
    "\n",
    "# Remplacer '\\N' par NaN dans les colonnes spécifiées\n",
    "df_title_principals.replace({'\\\\N': pd.NA}, inplace=True)\n",
    "\n",
    "# Supprimer les lignes avec des valeurs manquantes dans les colonnes spécifiées\n",
    "df_title_principals.dropna(subset=['tconst', 'nconst', 'category', 'characters', 'job'], inplace=True)\n",
    "\n",
    "# Supprimer les lignes en double en se basant sur les colonnes spécifiées\n",
    "df_title_principals.drop_duplicates(subset=['tconst', 'nconst', 'category', 'characters', 'job'], inplace=True)\n",
    "\n",
    "# Supprimer les colonnes inutiles\n",
    "df_tPrincipals = df_title_principals.drop(columns=['ordering'])\n",
    "\n",
    "print(df_tPrincipals.head(10))\n",
    "\n"
   ]
  },
  {
   "cell_type": "code",
   "execution_count": null,
   "metadata": {},
   "outputs": [],
   "source": [
    "title_principals_path = \"D:\\\\Projo\\\\Projet-Data-IA\\\\BDD_creuse\\\\title.principals.tsv\"\n",
    "df_title_principals = pd.read_csv(title_principals_path, sep='\\t')\n",
    "\n",
    "# Boucle pour remplacer '\\N' par pd.NA\n",
    "for col in df_title_principals.columns:\n",
    "    df_title_principals[col] = df_title_principals[col].replace('\\\\N', pd.NA)\n",
    "\n",
    "# Boucle pour supprimer les lignes avec des valeurs manquantes\n",
    "for index, row in df_title_principals.iterrows():\n",
    "    if row.isnull().any():\n",
    "        df_title_principals.drop(index, inplace=True)\n",
    "        \n",
    "\n",
    "# Suppression des colonnes inutiles\n",
    "df_tPrincipals = df_title_principals_clear.drop(columns=['ordering'])\n",
    "print(df_title_principals.head(10))\n"
   ]
  },
  {
   "cell_type": "code",
   "execution_count": 7,
   "metadata": {},
   "outputs": [
    {
     "name": "stdout",
     "output_type": "stream",
     "text": [
      "Empty DataFrame\n",
      "Columns: [tconst, nconst, category, job, characters]\n",
      "Index: []\n"
     ]
    }
   ],
   "source": [
    "title_principals_path = \"D:\\\\Projo\\\\Projet-Data-IA\\\\BDD_creuse\\\\title.principals.tsv\"\n",
    "\n",
    "# Lecture des premières lignes pour obtenir les noms de colonnes et les types de données\n",
    "sample_size = 10000  # Nombre de lignes à lire pour l'échantillon\n",
    "df_sample = pd.read_csv(title_principals_path, sep='\\t', nrows=sample_size)\n",
    "\n",
    "# Analyse des types de données pour optimiser l'utilisation de la mémoire\n",
    "dtypes = {col: pd.api.types.infer_dtype(df_sample[col], skipna=True) for col in df_sample.columns}\n",
    "\n",
    "# Correction des types de données\n",
    "# Si le type inféré est 'integer' ou 'floating', nous le remplaçons par 'string'\n",
    "for col, dtype in dtypes.items():\n",
    "    if dtype in ['integer', 'floating']:\n",
    "        dtypes[col] = 'string'\n",
    "\n",
    "# Lecture du fichier complet en utilisant les types de données corrigés\n",
    "df_title_principals = pd.read_csv(title_principals_path, sep='\\t', dtype=dtypes)\n",
    "\n",
    "# Remplacement des valeurs '\\N' par NaN dans les colonnes spécifiées\n",
    "columns_to_replace = ['tconst', 'nconst', 'category', 'characters', 'job']\n",
    "for col in columns_to_replace:\n",
    "    df_title_principals[col] = df_title_principals[col].replace('\\\\N', pd.NA)\n",
    "\n",
    "# Suppression des lignes avec des valeurs manquantes dans les colonnes spécifiées\n",
    "df_title_principals_clear = df_title_principals.dropna(subset=columns_to_replace)\n",
    "\n",
    "# Suppression des lignes avec des valeurs en double\n",
    "df_title_principals_clear = df_title_principals_clear.drop_duplicates(subset=columns_to_replace)\n",
    "\n",
    "# Suppression des colonnes inutiles\n",
    "columns_to_drop = ['ordering']\n",
    "df_tPrincipals = df_title_principals_clear.drop(columns=columns_to_drop)\n",
    "\n",
    "print(df_tPrincipals.head(10))\n",
    "\n"
   ]
  }
 ],
 "metadata": {
  "kernelspec": {
   "display_name": "Python 3",
   "language": "python",
   "name": "python3"
  },
  "language_info": {
   "codemirror_mode": {
    "name": "ipython",
    "version": 3
   },
   "file_extension": ".py",
   "mimetype": "text/x-python",
   "name": "python",
   "nbconvert_exporter": "python",
   "pygments_lexer": "ipython3",
   "version": "3.12.2"
  }
 },
 "nbformat": 4,
 "nbformat_minor": 2
}
