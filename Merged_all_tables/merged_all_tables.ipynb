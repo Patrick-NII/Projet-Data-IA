{
 "cells": [
  {
   "cell_type": "code",
   "execution_count": 194,
   "metadata": {},
   "outputs": [],
   "source": [
    "import pandas as pd\n",
    "import numpy as np\n",
    "import matplotlib.pyplot as plt\n",
    "import seaborn as sns\n",
    "from matplotlib.ticker import FuncFormatter\n",
    "import plotly_express as px\n",
    "from sklearn.preprocessing import StandardScaler\n",
    "from sklearn.cluster import KMeans\n",
    "from sklearn.metrics import silhouette_score\n",
    "from mpl_toolkits.mplot3d import Axes3D\n",
    "import plotly.graph_objects as go"
   ]
  },
  {
   "cell_type": "code",
   "execution_count": 115,
   "metadata": {},
   "outputs": [],
   "source": [
    "plt.style.use('ggplot')\n",
    "plt.rcParams['figure.figsize'] = (12, 8)\n",
    "plt.rcParams['font.size'] = 12"
   ]
  },
  {
   "cell_type": "code",
   "execution_count": 116,
   "metadata": {},
   "outputs": [],
   "source": [
    "df_merged = pd.read_csv('D:\\\\Projo\\\\Projet-Data-IA\\\\Merged_all_tables\\\\merged_final.csv', sep=',')"
   ]
  },
  {
   "cell_type": "code",
   "execution_count": 117,
   "metadata": {},
   "outputs": [
    {
     "data": {
      "text/html": [
       "<div>\n",
       "<style scoped>\n",
       "    .dataframe tbody tr th:only-of-type {\n",
       "        vertical-align: middle;\n",
       "    }\n",
       "\n",
       "    .dataframe tbody tr th {\n",
       "        vertical-align: top;\n",
       "    }\n",
       "\n",
       "    .dataframe thead th {\n",
       "        text-align: right;\n",
       "    }\n",
       "</style>\n",
       "<table border=\"1\" class=\"dataframe\">\n",
       "  <thead>\n",
       "    <tr style=\"text-align: right;\">\n",
       "      <th></th>\n",
       "      <th>titleId</th>\n",
       "      <th>title</th>\n",
       "      <th>averageRating</th>\n",
       "      <th>numVotes</th>\n",
       "      <th>startYear</th>\n",
       "      <th>runtimeMinutes</th>\n",
       "      <th>genre1</th>\n",
       "      <th>genre2</th>\n",
       "      <th>popularity</th>\n",
       "      <th>production_companies_name</th>\n",
       "      <th>Director_name</th>\n",
       "      <th>Actors_Actresses</th>\n",
       "    </tr>\n",
       "  </thead>\n",
       "  <tbody>\n",
       "    <tr>\n",
       "      <th>0</th>\n",
       "      <td>tt0035423</td>\n",
       "      <td>Kate et Léopold</td>\n",
       "      <td>6.4</td>\n",
       "      <td>88939.0</td>\n",
       "      <td>2001.0</td>\n",
       "      <td>118.0</td>\n",
       "      <td>Comedy</td>\n",
       "      <td>Fantasy</td>\n",
       "      <td>15.770</td>\n",
       "      <td>Miramax, Konrad Pictures</td>\n",
       "      <td>James Mangold</td>\n",
       "      <td>Bradley Whitford, Paxton Whitehead, Matthew Su...</td>\n",
       "    </tr>\n",
       "    <tr>\n",
       "      <th>1</th>\n",
       "      <td>tt0054632</td>\n",
       "      <td>L'année dernière à Marienbad</td>\n",
       "      <td>7.7</td>\n",
       "      <td>24793.0</td>\n",
       "      <td>1961.0</td>\n",
       "      <td>94.0</td>\n",
       "      <td>Drama</td>\n",
       "      <td>Mystery</td>\n",
       "      <td>11.284</td>\n",
       "      <td>Argos Films, Cineriz, Silver Films, Terra Film...</td>\n",
       "      <td>Alain Resnais</td>\n",
       "      <td>Pierre Barbaud, Delphine Seyrig, Françoise Ber...</td>\n",
       "    </tr>\n",
       "    <tr>\n",
       "      <th>2</th>\n",
       "      <td>tt0054692</td>\n",
       "      <td>Sous le ciel bleu d'Hawaï</td>\n",
       "      <td>6.1</td>\n",
       "      <td>7478.0</td>\n",
       "      <td>1961.0</td>\n",
       "      <td>102.0</td>\n",
       "      <td>Comedy</td>\n",
       "      <td>Musical</td>\n",
       "      <td>10.444</td>\n",
       "      <td>Hal Wallis Productions, Paramount</td>\n",
       "      <td>Norman Taurog</td>\n",
       "      <td>Howard McNear, Joan Blackman, Elvis Presley, A...</td>\n",
       "    </tr>\n",
       "    <tr>\n",
       "      <th>3</th>\n",
       "      <td>tt0054698</td>\n",
       "      <td>Diamants sur canapé</td>\n",
       "      <td>7.6</td>\n",
       "      <td>191686.0</td>\n",
       "      <td>1961.0</td>\n",
       "      <td>115.0</td>\n",
       "      <td>Comedy</td>\n",
       "      <td>Drama</td>\n",
       "      <td>18.252</td>\n",
       "      <td>Jurow-Shepherd, Paramount</td>\n",
       "      <td>Blake Edwards</td>\n",
       "      <td>José Luis de Vilallonga, Dorothy Whitney, Mart...</td>\n",
       "    </tr>\n",
       "    <tr>\n",
       "      <th>4</th>\n",
       "      <td>tt0054847</td>\n",
       "      <td>Le Cid</td>\n",
       "      <td>7.2</td>\n",
       "      <td>15632.0</td>\n",
       "      <td>1961.0</td>\n",
       "      <td>182.0</td>\n",
       "      <td>Biography</td>\n",
       "      <td>Drama</td>\n",
       "      <td>13.196</td>\n",
       "      <td>Samuel Bronston Productions, Allied Artists Pi...</td>\n",
       "      <td>Anthony Mann</td>\n",
       "      <td>Frank Thring, Michael Hordern, Gary Raymond, G...</td>\n",
       "    </tr>\n",
       "    <tr>\n",
       "      <th>5</th>\n",
       "      <td>tt0054953</td>\n",
       "      <td>Les Canons de Navarone</td>\n",
       "      <td>7.5</td>\n",
       "      <td>55225.0</td>\n",
       "      <td>1961.0</td>\n",
       "      <td>158.0</td>\n",
       "      <td>Action</td>\n",
       "      <td>Adventure</td>\n",
       "      <td>15.708</td>\n",
       "      <td>Columbia Pictures, Highroad Productions</td>\n",
       "      <td>J. Lee Thompson</td>\n",
       "      <td>David Niven, Anthony Quinn, Stanley Baker, Ant...</td>\n",
       "    </tr>\n",
       "    <tr>\n",
       "      <th>6</th>\n",
       "      <td>tt0054997</td>\n",
       "      <td>L'Arnaqueur</td>\n",
       "      <td>8.0</td>\n",
       "      <td>86655.0</td>\n",
       "      <td>1961.0</td>\n",
       "      <td>134.0</td>\n",
       "      <td>Drama</td>\n",
       "      <td>Sport</td>\n",
       "      <td>12.066</td>\n",
       "      <td>Rossen Films, 20th Century Fox</td>\n",
       "      <td>Robert Rossen</td>\n",
       "      <td>Jackie Gleason, Michael Constantine, Paul Newm...</td>\n",
       "    </tr>\n",
       "    <tr>\n",
       "      <th>7</th>\n",
       "      <td>tt0055031</td>\n",
       "      <td>Jugement à Nuremberg</td>\n",
       "      <td>8.3</td>\n",
       "      <td>85083.0</td>\n",
       "      <td>1961.0</td>\n",
       "      <td>179.0</td>\n",
       "      <td>Drama</td>\n",
       "      <td>War</td>\n",
       "      <td>13.877</td>\n",
       "      <td>United Artists, Roxlom Films</td>\n",
       "      <td>Stanley Kramer</td>\n",
       "      <td>Maximilian Schell, Montgomery Clift, Spencer T...</td>\n",
       "    </tr>\n",
       "    <tr>\n",
       "      <th>8</th>\n",
       "      <td>tt0055047</td>\n",
       "      <td>Le roi des rois</td>\n",
       "      <td>7.0</td>\n",
       "      <td>8974.0</td>\n",
       "      <td>1961.0</td>\n",
       "      <td>168.0</td>\n",
       "      <td>Biography</td>\n",
       "      <td>Drama</td>\n",
       "      <td>12.283</td>\n",
       "      <td>Samuel Bronston Productions, Metro-Goldwyn-Mayer</td>\n",
       "      <td>Nicholas Ray</td>\n",
       "      <td>Siobhan McKenna, Viveca Lindfors, Hurd Hatfiel...</td>\n",
       "    </tr>\n",
       "    <tr>\n",
       "      <th>9</th>\n",
       "      <td>tt0055184</td>\n",
       "      <td>Les désaxés</td>\n",
       "      <td>7.2</td>\n",
       "      <td>23321.0</td>\n",
       "      <td>1961.0</td>\n",
       "      <td>125.0</td>\n",
       "      <td>Drama</td>\n",
       "      <td>Romance</td>\n",
       "      <td>13.136</td>\n",
       "      <td>Metro-Goldwyn-Mayer, United Artists, Seven Art...</td>\n",
       "      <td>John Huston</td>\n",
       "      <td>Eli Wallach, Montgomery Clift, Rex Bell, Kevin...</td>\n",
       "    </tr>\n",
       "  </tbody>\n",
       "</table>\n",
       "</div>"
      ],
      "text/plain": [
       "     titleId                         title  averageRating  numVotes  \\\n",
       "0  tt0035423               Kate et Léopold            6.4   88939.0   \n",
       "1  tt0054632  L'année dernière à Marienbad            7.7   24793.0   \n",
       "2  tt0054692     Sous le ciel bleu d'Hawaï            6.1    7478.0   \n",
       "3  tt0054698           Diamants sur canapé            7.6  191686.0   \n",
       "4  tt0054847                        Le Cid            7.2   15632.0   \n",
       "5  tt0054953        Les Canons de Navarone            7.5   55225.0   \n",
       "6  tt0054997                   L'Arnaqueur            8.0   86655.0   \n",
       "7  tt0055031          Jugement à Nuremberg            8.3   85083.0   \n",
       "8  tt0055047               Le roi des rois            7.0    8974.0   \n",
       "9  tt0055184                   Les désaxés            7.2   23321.0   \n",
       "\n",
       "   startYear  runtimeMinutes     genre1     genre2  popularity  \\\n",
       "0     2001.0           118.0     Comedy    Fantasy      15.770   \n",
       "1     1961.0            94.0      Drama    Mystery      11.284   \n",
       "2     1961.0           102.0     Comedy    Musical      10.444   \n",
       "3     1961.0           115.0     Comedy      Drama      18.252   \n",
       "4     1961.0           182.0  Biography      Drama      13.196   \n",
       "5     1961.0           158.0     Action  Adventure      15.708   \n",
       "6     1961.0           134.0      Drama      Sport      12.066   \n",
       "7     1961.0           179.0      Drama        War      13.877   \n",
       "8     1961.0           168.0  Biography      Drama      12.283   \n",
       "9     1961.0           125.0      Drama    Romance      13.136   \n",
       "\n",
       "                           production_companies_name    Director_name  \\\n",
       "0                           Miramax, Konrad Pictures    James Mangold   \n",
       "1  Argos Films, Cineriz, Silver Films, Terra Film...    Alain Resnais   \n",
       "2                  Hal Wallis Productions, Paramount    Norman Taurog   \n",
       "3                          Jurow-Shepherd, Paramount    Blake Edwards   \n",
       "4  Samuel Bronston Productions, Allied Artists Pi...     Anthony Mann   \n",
       "5            Columbia Pictures, Highroad Productions  J. Lee Thompson   \n",
       "6                     Rossen Films, 20th Century Fox    Robert Rossen   \n",
       "7                       United Artists, Roxlom Films   Stanley Kramer   \n",
       "8   Samuel Bronston Productions, Metro-Goldwyn-Mayer     Nicholas Ray   \n",
       "9  Metro-Goldwyn-Mayer, United Artists, Seven Art...      John Huston   \n",
       "\n",
       "                                    Actors_Actresses  \n",
       "0  Bradley Whitford, Paxton Whitehead, Matthew Su...  \n",
       "1  Pierre Barbaud, Delphine Seyrig, Françoise Ber...  \n",
       "2  Howard McNear, Joan Blackman, Elvis Presley, A...  \n",
       "3  José Luis de Vilallonga, Dorothy Whitney, Mart...  \n",
       "4  Frank Thring, Michael Hordern, Gary Raymond, G...  \n",
       "5  David Niven, Anthony Quinn, Stanley Baker, Ant...  \n",
       "6  Jackie Gleason, Michael Constantine, Paul Newm...  \n",
       "7  Maximilian Schell, Montgomery Clift, Spencer T...  \n",
       "8  Siobhan McKenna, Viveca Lindfors, Hurd Hatfiel...  \n",
       "9  Eli Wallach, Montgomery Clift, Rex Bell, Kevin...  "
      ]
     },
     "execution_count": 117,
     "metadata": {},
     "output_type": "execute_result"
    }
   ],
   "source": [
    "# def clean_actors_list(actors_list):\n",
    "#     # Convertir la liste en un ensemble pour supprimer les doublons, puis trier\n",
    "#     unique_actors = sorted(set(actors_list))\n",
    "#     # Convertir l'ensemble trié en une chaîne de caractères séparée par des virgules\n",
    "#     cleaned_list = ', '.join(unique_actors)\n",
    "#     return cleaned_list\n",
    "\n",
    "# # Appliquer la fonction à chaque élément de la colonne \"Actors_Actresses\"\n",
    "# df_merged['Actors_Actresses'] = df_merged['Actors_Actresses'].apply(eval).apply(clean_actors_list)\n",
    "# df_merged['production_companies_name'] = df_merged['production_companies_name'].apply(eval).apply(clean_actors_list)\n",
    "\n",
    "# Suppression des colonnes inutiles pour l'analyse\n",
    "df_merged.drop(columns=['overview', 'poster_path', 'backdrop_path', 'nconst_director'], inplace=True)\n",
    "df_merged.dropna(inplace=True)\n",
    "\n",
    "df_merged.head(10)"
   ]
  },
  {
   "cell_type": "code",
   "execution_count": 118,
   "metadata": {},
   "outputs": [
    {
     "data": {
      "text/plain": [
       "genre1\n",
       "Action         1450\n",
       "Drama          1130\n",
       "Comedy         1027\n",
       "Crime           441\n",
       "Biography       417\n",
       "Adventure       400\n",
       "Horror          179\n",
       "Animation        37\n",
       "Mystery          20\n",
       "Fantasy          19\n",
       "Thriller          7\n",
       "Documentary       7\n",
       "Western           4\n",
       "Family            3\n",
       "Sci-Fi            2\n",
       "Romance           1\n",
       "Music             1\n",
       "History           1\n",
       "Name: count, dtype: int64"
      ]
     },
     "execution_count": 118,
     "metadata": {},
     "output_type": "execute_result"
    }
   ],
   "source": [
    "df_merged['genre1'].value_counts()"
   ]
  },
  {
   "cell_type": "code",
   "execution_count": 119,
   "metadata": {},
   "outputs": [
    {
     "data": {
      "text/plain": [
       "titleId                       object\n",
       "title                         object\n",
       "averageRating                float64\n",
       "numVotes                     float64\n",
       "startYear                    float64\n",
       "runtimeMinutes               float64\n",
       "genre1                        object\n",
       "genre2                        object\n",
       "popularity                   float64\n",
       "production_companies_name     object\n",
       "Director_name                 object\n",
       "Actors_Actresses              object\n",
       "dtype: object"
      ]
     },
     "execution_count": 119,
     "metadata": {},
     "output_type": "execute_result"
    }
   ],
   "source": [
    "df_merged.dtypes\n"
   ]
  },
  {
   "cell_type": "code",
   "execution_count": 120,
   "metadata": {},
   "outputs": [
    {
     "data": {
      "text/html": [
       "<div>\n",
       "<style scoped>\n",
       "    .dataframe tbody tr th:only-of-type {\n",
       "        vertical-align: middle;\n",
       "    }\n",
       "\n",
       "    .dataframe tbody tr th {\n",
       "        vertical-align: top;\n",
       "    }\n",
       "\n",
       "    .dataframe thead th {\n",
       "        text-align: right;\n",
       "    }\n",
       "</style>\n",
       "<table border=\"1\" class=\"dataframe\">\n",
       "  <thead>\n",
       "    <tr style=\"text-align: right;\">\n",
       "      <th></th>\n",
       "      <th>averageRating</th>\n",
       "      <th>numVotes</th>\n",
       "      <th>startYear</th>\n",
       "      <th>runtimeMinutes</th>\n",
       "      <th>popularity</th>\n",
       "    </tr>\n",
       "  </thead>\n",
       "  <tbody>\n",
       "    <tr>\n",
       "      <th>count</th>\n",
       "      <td>5146.000000</td>\n",
       "      <td>5.146000e+03</td>\n",
       "      <td>5146.000000</td>\n",
       "      <td>5146.000000</td>\n",
       "      <td>5146.000000</td>\n",
       "    </tr>\n",
       "    <tr>\n",
       "      <th>mean</th>\n",
       "      <td>6.911757</td>\n",
       "      <td>1.352459e+05</td>\n",
       "      <td>2004.119705</td>\n",
       "      <td>114.215896</td>\n",
       "      <td>28.589045</td>\n",
       "    </tr>\n",
       "    <tr>\n",
       "      <th>std</th>\n",
       "      <td>0.601120</td>\n",
       "      <td>2.188546e+05</td>\n",
       "      <td>15.000591</td>\n",
       "      <td>19.565688</td>\n",
       "      <td>121.237880</td>\n",
       "    </tr>\n",
       "    <tr>\n",
       "      <th>min</th>\n",
       "      <td>6.000000</td>\n",
       "      <td>5.026000e+03</td>\n",
       "      <td>1961.000000</td>\n",
       "      <td>85.000000</td>\n",
       "      <td>10.000000</td>\n",
       "    </tr>\n",
       "    <tr>\n",
       "      <th>25%</th>\n",
       "      <td>6.400000</td>\n",
       "      <td>2.272500e+04</td>\n",
       "      <td>1995.000000</td>\n",
       "      <td>100.000000</td>\n",
       "      <td>12.165750</td>\n",
       "    </tr>\n",
       "    <tr>\n",
       "      <th>50%</th>\n",
       "      <td>6.800000</td>\n",
       "      <td>5.994200e+04</td>\n",
       "      <td>2008.000000</td>\n",
       "      <td>111.000000</td>\n",
       "      <td>15.754500</td>\n",
       "    </tr>\n",
       "    <tr>\n",
       "      <th>75%</th>\n",
       "      <td>7.300000</td>\n",
       "      <td>1.537830e+05</td>\n",
       "      <td>2016.000000</td>\n",
       "      <td>124.000000</td>\n",
       "      <td>24.043000</td>\n",
       "    </tr>\n",
       "    <tr>\n",
       "      <th>max</th>\n",
       "      <td>9.300000</td>\n",
       "      <td>2.878611e+06</td>\n",
       "      <td>2024.000000</td>\n",
       "      <td>238.000000</td>\n",
       "      <td>5089.969000</td>\n",
       "    </tr>\n",
       "  </tbody>\n",
       "</table>\n",
       "</div>"
      ],
      "text/plain": [
       "       averageRating      numVotes    startYear  runtimeMinutes   popularity\n",
       "count    5146.000000  5.146000e+03  5146.000000     5146.000000  5146.000000\n",
       "mean        6.911757  1.352459e+05  2004.119705      114.215896    28.589045\n",
       "std         0.601120  2.188546e+05    15.000591       19.565688   121.237880\n",
       "min         6.000000  5.026000e+03  1961.000000       85.000000    10.000000\n",
       "25%         6.400000  2.272500e+04  1995.000000      100.000000    12.165750\n",
       "50%         6.800000  5.994200e+04  2008.000000      111.000000    15.754500\n",
       "75%         7.300000  1.537830e+05  2016.000000      124.000000    24.043000\n",
       "max         9.300000  2.878611e+06  2024.000000      238.000000  5089.969000"
      ]
     },
     "execution_count": 120,
     "metadata": {},
     "output_type": "execute_result"
    }
   ],
   "source": [
    "df_merged.describe()"
   ]
  },
  {
   "cell_type": "code",
   "execution_count": 121,
   "metadata": {},
   "outputs": [
    {
     "data": {
      "text/html": [
       "<div>\n",
       "<style scoped>\n",
       "    .dataframe tbody tr th:only-of-type {\n",
       "        vertical-align: middle;\n",
       "    }\n",
       "\n",
       "    .dataframe tbody tr th {\n",
       "        vertical-align: top;\n",
       "    }\n",
       "\n",
       "    .dataframe thead th {\n",
       "        text-align: right;\n",
       "    }\n",
       "</style>\n",
       "<table border=\"1\" class=\"dataframe\">\n",
       "  <thead>\n",
       "    <tr style=\"text-align: right;\">\n",
       "      <th></th>\n",
       "      <th>titleId</th>\n",
       "      <th>title</th>\n",
       "      <th>averageRating</th>\n",
       "      <th>numVotes</th>\n",
       "      <th>startYear</th>\n",
       "      <th>runtimeMinutes</th>\n",
       "      <th>genre1</th>\n",
       "      <th>genre2</th>\n",
       "      <th>popularity</th>\n",
       "      <th>production_companies_name</th>\n",
       "      <th>Director_name</th>\n",
       "      <th>Actors_Actresses</th>\n",
       "    </tr>\n",
       "  </thead>\n",
       "  <tbody>\n",
       "    <tr>\n",
       "      <th>1225</th>\n",
       "      <td>tt0111161</td>\n",
       "      <td>Les évadés</td>\n",
       "      <td>9.3</td>\n",
       "      <td>2878611.0</td>\n",
       "      <td>1994.0</td>\n",
       "      <td>142.0</td>\n",
       "      <td>Drama</td>\n",
       "      <td>Drama</td>\n",
       "      <td>84.139</td>\n",
       "      <td>Castle Rock Entertainment</td>\n",
       "      <td>Frank Darabont</td>\n",
       "      <td>Mark Rolston, James Whitmore, Larry Brandenbur...</td>\n",
       "    </tr>\n",
       "    <tr>\n",
       "      <th>233</th>\n",
       "      <td>tt0068646</td>\n",
       "      <td>Le Parrain</td>\n",
       "      <td>9.2</td>\n",
       "      <td>2004826.0</td>\n",
       "      <td>1972.0</td>\n",
       "      <td>175.0</td>\n",
       "      <td>Crime</td>\n",
       "      <td>Drama</td>\n",
       "      <td>113.216</td>\n",
       "      <td>Alfran Productions, Paramount</td>\n",
       "      <td>Francis Ford Coppola</td>\n",
       "      <td>Robert Duvall, Richard Conte, Al Pacino, James...</td>\n",
       "    </tr>\n",
       "    <tr>\n",
       "      <th>2475</th>\n",
       "      <td>tt0468569</td>\n",
       "      <td>The Dark Knight : Le Chevalier noir</td>\n",
       "      <td>9.0</td>\n",
       "      <td>2861067.0</td>\n",
       "      <td>2008.0</td>\n",
       "      <td>152.0</td>\n",
       "      <td>Action</td>\n",
       "      <td>Crime</td>\n",
       "      <td>81.582</td>\n",
       "      <td>DC Comics, Isobel Griffiths, Syncopy, Warner B...</td>\n",
       "      <td>Christopher Nolan</td>\n",
       "      <td>Cillian Murphy, Morgan Freeman, Gary Oldman, M...</td>\n",
       "    </tr>\n",
       "    <tr>\n",
       "      <th>1667</th>\n",
       "      <td>tt0167260</td>\n",
       "      <td>Le Seigneur des anneaux : Le Retour du roi</td>\n",
       "      <td>9.0</td>\n",
       "      <td>1972573.0</td>\n",
       "      <td>2003.0</td>\n",
       "      <td>201.0</td>\n",
       "      <td>Action</td>\n",
       "      <td>Adventure</td>\n",
       "      <td>65.571</td>\n",
       "      <td>New Line Cinema, WingNut Films, The Saul Zaent...</td>\n",
       "      <td>Peter Jackson</td>\n",
       "      <td>Ian McKellen, Sean Astin, Ali Astin, Elijah Wo...</td>\n",
       "    </tr>\n",
       "    <tr>\n",
       "      <th>284</th>\n",
       "      <td>tt0071562</td>\n",
       "      <td>Le Parrain, 2ᵉ partie</td>\n",
       "      <td>9.0</td>\n",
       "      <td>1359986.0</td>\n",
       "      <td>1974.0</td>\n",
       "      <td>202.0</td>\n",
       "      <td>Crime</td>\n",
       "      <td>Drama</td>\n",
       "      <td>55.942</td>\n",
       "      <td>The Coppola Company, Paramount</td>\n",
       "      <td>Francis Ford Coppola</td>\n",
       "      <td>Robert Duvall, Talia Shire, Michael V. Gazzo, ...</td>\n",
       "    </tr>\n",
       "  </tbody>\n",
       "</table>\n",
       "</div>"
      ],
      "text/plain": [
       "        titleId                                       title  averageRating  \\\n",
       "1225  tt0111161                                  Les évadés            9.3   \n",
       "233   tt0068646                                  Le Parrain            9.2   \n",
       "2475  tt0468569         The Dark Knight : Le Chevalier noir            9.0   \n",
       "1667  tt0167260  Le Seigneur des anneaux : Le Retour du roi            9.0   \n",
       "284   tt0071562                       Le Parrain, 2ᵉ partie            9.0   \n",
       "\n",
       "       numVotes  startYear  runtimeMinutes  genre1     genre2  popularity  \\\n",
       "1225  2878611.0     1994.0           142.0   Drama      Drama      84.139   \n",
       "233   2004826.0     1972.0           175.0   Crime      Drama     113.216   \n",
       "2475  2861067.0     2008.0           152.0  Action      Crime      81.582   \n",
       "1667  1972573.0     2003.0           201.0  Action  Adventure      65.571   \n",
       "284   1359986.0     1974.0           202.0   Crime      Drama      55.942   \n",
       "\n",
       "                              production_companies_name         Director_name  \\\n",
       "1225                          Castle Rock Entertainment        Frank Darabont   \n",
       "233                       Alfran Productions, Paramount  Francis Ford Coppola   \n",
       "2475  DC Comics, Isobel Griffiths, Syncopy, Warner B...     Christopher Nolan   \n",
       "1667  New Line Cinema, WingNut Films, The Saul Zaent...         Peter Jackson   \n",
       "284                      The Coppola Company, Paramount  Francis Ford Coppola   \n",
       "\n",
       "                                       Actors_Actresses  \n",
       "1225  Mark Rolston, James Whitmore, Larry Brandenbur...  \n",
       "233   Robert Duvall, Richard Conte, Al Pacino, James...  \n",
       "2475  Cillian Murphy, Morgan Freeman, Gary Oldman, M...  \n",
       "1667  Ian McKellen, Sean Astin, Ali Astin, Elijah Wo...  \n",
       "284   Robert Duvall, Talia Shire, Michael V. Gazzo, ...  "
      ]
     },
     "execution_count": 121,
     "metadata": {},
     "output_type": "execute_result"
    }
   ],
   "source": [
    "# Les 20 films les mieux notés de 1980 à 2024\n",
    "\n",
    "df_sorted_avg =  df_merged.sort_values(by='averageRating', ascending=False)\n",
    "df_sorted_avg.head()"
   ]
  },
  {
   "cell_type": "code",
   "execution_count": 183,
   "metadata": {},
   "outputs": [
    {
     "data": {
      "text/plain": [
       "161.0"
      ]
     },
     "execution_count": 183,
     "metadata": {},
     "output_type": "execute_result"
    }
   ],
   "source": [
    "# Moyenne durée des 20 films les mieux notés\n",
    "df_mean_avg = df_sorted_avg['runtimeMinutes'].head(20).mean()\n",
    "df_mean_avg = df_mean_avg.round()\n",
    "df_mean_avg"
   ]
  },
  {
   "cell_type": "code",
   "execution_count": 200,
   "metadata": {},
   "outputs": [
    {
     "data": {
      "image/png": "[encoded data removed]",
      "text/plain": [
       "<Figure size 1200x600 with 1 Axes>"
      ]
     },
     "metadata": {},
     "output_type": "display_data"
    }
   ],
   "source": [
    "# Top 10 des films les plus votés\n",
    "df_sorted_numVotes = df_merged.sort_values(by='numVotes', ascending=False).head(10)\n",
    "\n",
    "# Fonction de formatage des ticks\n",
    "def thousands_formatter(x, pos):\n",
    "    return f'{int(x/1000000)}M'\n",
    "\n",
    "# Création du graphique\n",
    "plt.figure(figsize=(12, 6))\n",
    "plt.bar(df_sorted_numVotes['title'], df_sorted_numVotes['numVotes'], color='skyblue')\n",
    "plt.xlabel('Film')\n",
    "plt.ylabel('Nombre de votes')\n",
    "plt.title('Top 10 des films les plus votés')\n",
    "plt.xticks(rotation=45, ha='right')\n",
    "plt.gca().yaxis.set_major_formatter(FuncFormatter(thousands_formatter))\n",
    "plt.tight_layout()\n",
    "plt.show()"
   ]
  },
  {
   "cell_type": "code",
   "execution_count": 174,
   "metadata": {},
   "outputs": [
    {
     "data": {
      "image/png": "[encoded data removed]",
      "text/plain": [
       "<Figure size 1200x600 with 1 Axes>"
      ]
     },
     "metadata": {},
     "output_type": "display_data"
    }
   ],
   "source": [
    "# 1. Note moyenne par genre\n",
    "avg_rating_by_genre = df_merged.groupby('genre1')['averageRating'].mean().reset_index()\n",
    "avg_rating_by_genre = avg_rating_by_genre.sort_values(by='averageRating', ascending=False)\n",
    "\n",
    "plt.figure(figsize=(12, 6))\n",
    "sns.barplot(x='genre1', y='averageRating', data=avg_rating_by_genre)\n",
    "plt.title('Note moyenne par genre')\n",
    "plt.xlabel('Genre')\n",
    "plt.ylabel('Note moyenne')\n",
    "plt.xticks(rotation=45)\n",
    "plt.show()"
   ]
  },
  {
   "cell_type": "code",
   "execution_count": 177,
   "metadata": {},
   "outputs": [
    {
     "data": {
      "image/png": "[encoded data removed]",
      "text/plain": [
       "<Figure size 1200x600 with 1 Axes>"
      ]
     },
     "metadata": {},
     "output_type": "display_data"
    }
   ],
   "source": [
    "# 3. Temps de visionnage moyen par production\n",
    "runtime_by_production = df_merged.groupby('genre1')['runtimeMinutes'].mean().reset_index()\n",
    "runtime_by_production = runtime_by_production.sort_values(by='runtimeMinutes', ascending=False)\n",
    "\n",
    "plt.figure(figsize=(12, 6))\n",
    "sns.barplot(x='runtimeMinutes', y='genre1', data=runtime_by_production)\n",
    "plt.title('Durée moyenne des films par genre')\n",
    "plt.xlabel('Durée moyenne (minutes)')\n",
    "plt.ylabel('Categorie de film')\n",
    "plt.show()"
   ]
  },
  {
   "cell_type": "code",
   "execution_count": 178,
   "metadata": {},
   "outputs": [
    {
     "data": {
      "image/png": "[encoded data removed]",
      "text/plain": [
       "<Figure size 1200x600 with 1 Axes>"
      ]
     },
     "metadata": {},
     "output_type": "display_data"
    }
   ],
   "source": [
    "# 4. Votes moyens par année de sortie\n",
    "votes_by_year = df_merged.groupby('startYear')['numVotes'].mean().reset_index()\n",
    "votes_by_year = votes_by_year.sort_values(by='startYear')\n",
    "\n",
    "plt.figure(figsize=(12, 6))\n",
    "sns.lineplot(x='startYear', y='numVotes', data=votes_by_year, marker='o')\n",
    "plt.title('Nombre moyen de votes par année de sortie')\n",
    "plt.xlabel('Année de sortie')\n",
    "plt.ylabel('Nombre moyen de votes')\n",
    "plt.show()"
   ]
  },
  {
   "cell_type": "code",
   "execution_count": 179,
   "metadata": {},
   "outputs": [
    {
     "data": {
      "image/png": "[encoded data removed]",
      "text/plain": [
       "<Figure size 1200x600 with 1 Axes>"
      ]
     },
     "metadata": {},
     "output_type": "display_data"
    }
   ],
   "source": [
    "# 5. Popularité moyenne par acteur/actrice\n",
    "popularity_by_actor = df_merged.explode('Actors_Actresses').groupby('Actors_Actresses')['popularity'].mean().reset_index()\n",
    "popularity_by_actor = popularity_by_actor.sort_values(by='popularity', ascending=False).head(20)  # Afficher les 20 acteurs les plus populaires\n",
    "\n",
    "plt.figure(figsize=(12, 6))\n",
    "sns.barplot(x='popularity', y='Actors_Actresses', data=popularity_by_actor)\n",
    "plt.title('Popularité moyenne par acteur/actrice')\n",
    "plt.xlabel('Popularité moyenne')\n",
    "plt.ylabel('Acteur/Actrice')\n",
    "plt.show()\n"
   ]
  },
  {
   "cell_type": "code",
   "execution_count": 125,
   "metadata": {},
   "outputs": [
    {
     "data": {
      "image/png": "[encoded data removed]",
      "text/plain": [
       "<Figure size 1000x600 with 1 Axes>"
      ]
     },
     "metadata": {},
     "output_type": "display_data"
    }
   ],
   "source": [
    "# Ajouter les années et leur genre de predilection dominant top 5\n",
    "# faire un graphique des meilleures réalisateurs par films a succés\n",
    "top_directors = df_merged['Director_name'].value_counts().head(10)\n",
    "plt.figure(figsize=(10, 6))\n",
    "plt.pie(top_directors, labels=top_directors.index, autopct='%1.1f%%', startangle=140)\n",
    "plt.title('Répartition des réalisateurs les plus prolifiques')\n",
    "plt.show()"
   ]
  },
  {
   "cell_type": "code",
   "execution_count": 126,
   "metadata": {},
   "outputs": [
    {
     "data": {
      "text/plain": [
       "Actors_Actresses\n",
       "Robert De Niro       52\n",
       "Samuel L. Jackson    46\n",
       "Morgan Freeman       40\n",
       "Liam Neeson          39\n",
       "Meryl Streep         39\n",
       "Willem Dafoe         39\n",
       "Brad Pitt            39\n",
       "Tom Cruise           38\n",
       "Mark Wahlberg        38\n",
       "Nicolas Cage         38\n",
       "Name: count, dtype: int64"
      ]
     },
     "execution_count": 126,
     "metadata": {},
     "output_type": "execute_result"
    }
   ],
   "source": [
    "# Les acteurs et actrices les plus sollicités\n",
    "\n",
    "# Diviser les noms des acteurs et actrices dans une liste\n",
    "df_merged['Actors_Actresses'] = df_merged['Actors_Actresses'].str.split(',')\n",
    "\n",
    "# Utiliser explode pour transformer la liste en une série avec une entrée pour chaque nom\n",
    "df_actors = df_merged.explode('Actors_Actresses')\n",
    "\n",
    "# Compter le nombre d'occurrences de chaque acteur/actrice\n",
    "count_actors = df_actors['Actors_Actresses'].value_counts()\n",
    "\n",
    "count_actors.head(10)\n"
   ]
  },
  {
   "cell_type": "code",
   "execution_count": 127,
   "metadata": {},
   "outputs": [
    {
     "data": {
      "image/png": "[encoded data removed]",
      "text/plain": [
       "<Figure size 1200x600 with 1 Axes>"
      ]
     },
     "metadata": {},
     "output_type": "display_data"
    }
   ],
   "source": [
    "# Diagramme en barres pour les acteurs les plus sollicités\n",
    "plt.figure(figsize=(12, 6))\n",
    "sns.barplot(x=count_actors.head(20).values, y=count_actors.head(20).index)\n",
    "plt.title('Acteurs et actrices les plus sollicités')\n",
    "plt.xlabel('Nombre de films')\n",
    "plt.ylabel('Acteur/Actrice')\n",
    "plt.tick_params(axis='y', labelsize=7)\n",
    "plt.show()\n",
    "\n",
    "\n",
    "# TRIER LES ACTEURS PAR NOMBRE DE FILMS LES PLUS SOLICITES ET LES ANNÉES \n",
    "\n"
   ]
  },
  {
   "cell_type": "code",
   "execution_count": 128,
   "metadata": {},
   "outputs": [
    {
     "data": {
      "image/png": "[encoded data removed]",
      "text/plain": [
       "<Figure size 1000x600 with 1 Axes>"
      ]
     },
     "metadata": {},
     "output_type": "display_data"
    }
   ],
   "source": [
    "# Compagnies de production les plus populaires\n",
    "# les réalisateurs les plus sollicités\n",
    "# Ajouter les années\n",
    "# faire un graphique des meilleures réalisateurs par films a succés\n",
    "top_directors = df_merged['production_companies_name'].value_counts().head(10)\n",
    "plt.figure(figsize=(10, 6))\n",
    "plt.pie(top_directors, labels=top_directors.index, autopct='%1.1f%%', startangle=140)\n",
    "plt.title('Répartition des maisons de production ')\n",
    "plt.show()\n"
   ]
  },
  {
   "cell_type": "code",
   "execution_count": 129,
   "metadata": {},
   "outputs": [
    {
     "data": {
      "image/png": "[encoded data removed]",
      "text/plain": [
       "<Figure size 1200x800 with 1 Axes>"
      ]
     },
     "metadata": {},
     "output_type": "display_data"
    }
   ],
   "source": [
    "genero1_counts = df_merged['genre1'].value_counts()\n",
    "genero2_counts = df_merged['genre2'].value_counts()\n",
    "\n",
    "#Combinando os índices de ambas as séries para garantir que todos os gêneros estejam presentes\n",
    "index = genero1_counts.index.union(genero2_counts.index)\n",
    "\n",
    "#Preenchendo os valores ausentes com 0\n",
    "genero1_counts = genero1_counts.reindex(index, fill_value=0)\n",
    "genero2_counts = genero2_counts.reindex(index, fill_value=0)\n",
    "\n",
    "#Plotando o gráfico de barras\n",
    "fig, ax = plt.subplots()\n",
    "\n",
    "#Configurando a largura das barras\n",
    "bar_width = 0.5\n",
    "\n",
    "#Calculando a posição das barras\n",
    "x = range(len(index))\n",
    "\n",
    "#Plotando as barras para Genero1\n",
    "bars1 = ax.bar(x, genero1_counts.values, bar_width, label='Genre Principal')\n",
    "\n",
    "#Plotando as barras para Genero2 com um deslocamento de bar_width\n",
    "bars2 = ax.bar([i + bar_width for i in x], genero2_counts.values, bar_width, label='Genre secondaire')\n",
    "\n",
    "#Configurando os rótulos e ticks do eixo x\n",
    "ax.set_xticks([i + bar_width / 2 for i in x])\n",
    "ax.set_xticklabels(index, rotation=45, ha='right')\n",
    "\n",
    "#Adicionando legendas e rótulos de eixo\n",
    "ax.legend()\n",
    "ax.set_xlabel('Genre 1')\n",
    "ax.set_ylabel('Quantité')\n",
    "ax.set_title('Quantité de Filmes pour chaque Genres')\n",
    "\n",
    "plt.show()"
   ]
  },
  {
   "cell_type": "code",
   "execution_count": 172,
   "metadata": {},
   "outputs": [
    {
     "name": "stderr",
     "output_type": "stream",
     "text": [
      "C:\\Users\\pnii\\AppData\\Local\\Temp\\ipykernel_15620\\3363441023.py:9: SettingWithCopyWarning:\n",
      "\n",
      "\n",
      "A value is trying to be set on a copy of a slice from a DataFrame.\n",
      "Try using .loc[row_indexer,col_indexer] = value instead\n",
      "\n",
      "See the caveats in the documentation: https://pandas.pydata.org/pandas-docs/stable/user_guide/indexing.html#returning-a-view-versus-a-copy\n",
      "\n"
     ]
    },
    {
     "data": {
      "application/vnd.plotly.v1+json": {
       "config": {
        "plotlyServerURL": "https://plot.ly"
       },
       "data": [
        {
         "alignmentgroup": "True",
         "hovertemplate": "genre1=%{x}<br>decade=1960<br>total_genre=%{y}<extra></extra>",
         "legendgroup": "Action",
         "marker": {
          "color": "#636efa",
          "pattern": {
           "shape": ""
          }
         },
         "name": "Action",
         "offsetgroup": "Action",
         "orientation": "v",
         "showlegend": true,
         "textposition": "auto",
         "type": "bar",
         "x": [
          "Action"
         ],
         "xaxis": "x",
         "y": [
          34
         ],
         "yaxis": "y"
        },
        {
         "alignmentgroup": "True",
         "hovertemplate": "genre1=%{x}<br>decade=1960<br>total_genre=%{y}<extra></extra>",
         "legendgroup": "Adventure",
         "marker": {
          "color": "#EF553B",
          "pattern": {
           "shape": ""
          }
         },
         "name": "Adventure",
         "offsetgroup": "Adventure",
         "orientation": "v",
         "showlegend": true,
         "textposition": "auto",
         "type": "bar",
         "x": [
          "Adventure"
         ],
         "xaxis": "x",
         "y": [
          26
         ],
         "yaxis": "y"
        },
        {
         "alignmentgroup": "True",
         "hovertemplate": "genre1=%{x}<br>decade=1960<br>total_genre=%{y}<extra></extra>",
         "legendgroup": "Biography",
         "marker": {
          "color": "#00cc96",
          "pattern": {
           "shape": ""
          }
         },
         "name": "Biography",
         "offsetgroup": "Biography",
         "orientation": "v",
         "showlegend": true,
         "textposition": "auto",
         "type": "bar",
         "x": [
          "Biography"
         ],
         "xaxis": "x",
         "y": [
          13
         ],
         "yaxis": "y"
        },
        {
         "alignmentgroup": "True",
         "hovertemplate": "genre1=%{x}<br>decade=1960<br>total_genre=%{y}<extra></extra>",
         "legendgroup": "Comedy",
         "marker": {
          "color": "#ab63fa",
          "pattern": {
           "shape": ""
          }
         },
         "name": "Comedy",
         "offsetgroup": "Comedy",
         "orientation": "v",
         "showlegend": true,
         "textposition": "auto",
         "type": "bar",
         "x": [
          "Comedy"
         ],
         "xaxis": "x",
         "y": [
          31
         ],
         "yaxis": "y"
        },
        {
         "alignmentgroup": "True",
         "hovertemplate": "genre1=%{x}<br>decade=1960<br>total_genre=%{y}<extra></extra>",
         "legendgroup": "Crime",
         "marker": {
          "color": "#FFA15A",
          "pattern": {
           "shape": ""
          }
         },
         "name": "Crime",
         "offsetgroup": "Crime",
         "orientation": "v",
         "showlegend": true,
         "textposition": "auto",
         "type": "bar",
         "x": [
          "Crime"
         ],
         "xaxis": "x",
         "y": [
          15
         ],
         "yaxis": "y"
        },
        {
         "alignmentgroup": "True",
         "hovertemplate": "genre1=%{x}<br>decade=1960<br>total_genre=%{y}<extra></extra>",
         "legendgroup": "Drama",
         "marker": {
          "color": "#19d3f3",
          "pattern": {
           "shape": ""
          }
         },
         "name": "Drama",
         "offsetgroup": "Drama",
         "orientation": "v",
         "showlegend": true,
         "textposition": "auto",
         "type": "bar",
         "x": [
          "Drama"
         ],
         "xaxis": "x",
         "y": [
          59
         ],
         "yaxis": "y"
        },
        {
         "alignmentgroup": "True",
         "hovertemplate": "genre1=%{x}<br>decade=1960<br>total_genre=%{y}<extra></extra>",
         "legendgroup": "Horror",
         "marker": {
          "color": "#FF6692",
          "pattern": {
           "shape": ""
          }
         },
         "name": "Horror",
         "offsetgroup": "Horror",
         "orientation": "v",
         "showlegend": true,
         "textposition": "auto",
         "type": "bar",
         "x": [
          "Horror"
         ],
         "xaxis": "x",
         "y": [
          2
         ],
         "yaxis": "y"
        },
        {
         "alignmentgroup": "True",
         "hovertemplate": "genre1=%{x}<br>decade=1960<br>total_genre=%{y}<extra></extra>",
         "legendgroup": "Thriller",
         "marker": {
          "color": "#B6E880",
          "pattern": {
           "shape": ""
          }
         },
         "name": "Thriller",
         "offsetgroup": "Thriller",
         "orientation": "v",
         "showlegend": true,
         "textposition": "auto",
         "type": "bar",
         "x": [
          "Thriller"
         ],
         "xaxis": "x",
         "y": [
          1
         ],
         "yaxis": "y"
        },
        {
         "alignmentgroup": "True",
         "hovertemplate": "genre1=%{x}<br>decade=1960<br>total_genre=%{y}<extra></extra>",
         "legendgroup": "Western",
         "marker": {
          "color": "#FF97FF",
          "pattern": {
           "shape": ""
          }
         },
         "name": "Western",
         "offsetgroup": "Western",
         "orientation": "v",
         "showlegend": true,
         "textposition": "auto",
         "type": "bar",
         "x": [
          "Western"
         ],
         "xaxis": "x",
         "y": [
          3
         ],
         "yaxis": "y"
        }
       ],
       "frames": [
        {
         "data": [
          {
           "alignmentgroup": "True",
           "hovertemplate": "genre1=%{x}<br>decade=1960<br>total_genre=%{y}<extra></extra>",
           "legendgroup": "Action",
           "marker": {
            "color": "#636efa",
            "pattern": {
             "shape": ""
            }
           },
           "name": "Action",
           "offsetgroup": "Action",
           "orientation": "v",
           "showlegend": true,
           "textposition": "auto",
           "type": "bar",
           "x": [
            "Action"
           ],
           "xaxis": "x",
           "y": [
            34
           ],
           "yaxis": "y"
          },
          {
           "alignmentgroup": "True",
           "hovertemplate": "genre1=%{x}<br>decade=1960<br>total_genre=%{y}<extra></extra>",
           "legendgroup": "Adventure",
           "marker": {
            "color": "#EF553B",
            "pattern": {
             "shape": ""
            }
           },
           "name": "Adventure",
           "offsetgroup": "Adventure",
           "orientation": "v",
           "showlegend": true,
           "textposition": "auto",
           "type": "bar",
           "x": [
            "Adventure"
           ],
           "xaxis": "x",
           "y": [
            26
           ],
           "yaxis": "y"
          },
          {
           "alignmentgroup": "True",
           "hovertemplate": "genre1=%{x}<br>decade=1960<br>total_genre=%{y}<extra></extra>",
           "legendgroup": "Biography",
           "marker": {
            "color": "#00cc96",
            "pattern": {
             "shape": ""
            }
           },
           "name": "Biography",
           "offsetgroup": "Biography",
           "orientation": "v",
           "showlegend": true,
           "textposition": "auto",
           "type": "bar",
           "x": [
            "Biography"
           ],
           "xaxis": "x",
           "y": [
            13
           ],
           "yaxis": "y"
          },
          {
           "alignmentgroup": "True",
           "hovertemplate": "genre1=%{x}<br>decade=1960<br>total_genre=%{y}<extra></extra>",
           "legendgroup": "Comedy",
           "marker": {
            "color": "#ab63fa",
            "pattern": {
             "shape": ""
            }
           },
           "name": "Comedy",
           "offsetgroup": "Comedy",
           "orientation": "v",
           "showlegend": true,
           "textposition": "auto",
           "type": "bar",
           "x": [
            "Comedy"
           ],
           "xaxis": "x",
           "y": [
            31
           ],
           "yaxis": "y"
          },
          {
           "alignmentgroup": "True",
           "hovertemplate": "genre1=%{x}<br>decade=1960<br>total_genre=%{y}<extra></extra>",
           "legendgroup": "Crime",
           "marker": {
            "color": "#FFA15A",
            "pattern": {
             "shape": ""
            }
           },
           "name": "Crime",
           "offsetgroup": "Crime",
           "orientation": "v",
           "showlegend": true,
           "textposition": "auto",
           "type": "bar",
           "x": [
            "Crime"
           ],
           "xaxis": "x",
           "y": [
            15
           ],
           "yaxis": "y"
          },
          {
           "alignmentgroup": "True",
           "hovertemplate": "genre1=%{x}<br>decade=1960<br>total_genre=%{y}<extra></extra>",
           "legendgroup": "Drama",
           "marker": {
            "color": "#19d3f3",
            "pattern": {
             "shape": ""
            }
           },
           "name": "Drama",
           "offsetgroup": "Drama",
           "orientation": "v",
           "showlegend": true,
           "textposition": "auto",
           "type": "bar",
           "x": [
            "Drama"
           ],
           "xaxis": "x",
           "y": [
            59
           ],
           "yaxis": "y"
          },
          {
           "alignmentgroup": "True",
           "hovertemplate": "genre1=%{x}<br>decade=1960<br>total_genre=%{y}<extra></extra>",
           "legendgroup": "Horror",
           "marker": {
            "color": "#FF6692",
            "pattern": {
             "shape": ""
            }
           },
           "name": "Horror",
           "offsetgroup": "Horror",
           "orientation": "v",
           "showlegend": true,
           "textposition": "auto",
           "type": "bar",
           "x": [
            "Horror"
           ],
           "xaxis": "x",
           "y": [
            2
           ],
           "yaxis": "y"
          },
          {
           "alignmentgroup": "True",
           "hovertemplate": "genre1=%{x}<br>decade=1960<br>total_genre=%{y}<extra></extra>",
           "legendgroup": "Thriller",
           "marker": {
            "color": "#B6E880",
            "pattern": {
             "shape": ""
            }
           },
           "name": "Thriller",
           "offsetgroup": "Thriller",
           "orientation": "v",
           "showlegend": true,
           "textposition": "auto",
           "type": "bar",
           "x": [
            "Thriller"
           ],
           "xaxis": "x",
           "y": [
            1
           ],
           "yaxis": "y"
          },
          {
           "alignmentgroup": "True",
           "hovertemplate": "genre1=%{x}<br>decade=1960<br>total_genre=%{y}<extra></extra>",
           "legendgroup": "Western",
           "marker": {
            "color": "#FF97FF",
            "pattern": {
             "shape": ""
            }
           },
           "name": "Western",
           "offsetgroup": "Western",
           "orientation": "v",
           "showlegend": true,
           "textposition": "auto",
           "type": "bar",
           "x": [
            "Western"
           ],
           "xaxis": "x",
           "y": [
            3
           ],
           "yaxis": "y"
          }
         ],
         "name": "1960"
        },
        {
         "data": [
          {
           "alignmentgroup": "True",
           "hovertemplate": "genre1=%{x}<br>decade=1970<br>total_genre=%{y}<extra></extra>",
           "legendgroup": "Action",
           "marker": {
            "color": "#636efa",
            "pattern": {
             "shape": ""
            }
           },
           "name": "Action",
           "offsetgroup": "Action",
           "orientation": "v",
           "showlegend": true,
           "textposition": "auto",
           "type": "bar",
           "x": [
            "Action"
           ],
           "xaxis": "x",
           "y": [
            61
           ],
           "yaxis": "y"
          },
          {
           "alignmentgroup": "True",
           "hovertemplate": "genre1=%{x}<br>decade=1970<br>total_genre=%{y}<extra></extra>",
           "legendgroup": "Adventure",
           "marker": {
            "color": "#EF553B",
            "pattern": {
             "shape": ""
            }
           },
           "name": "Adventure",
           "offsetgroup": "Adventure",
           "orientation": "v",
           "showlegend": true,
           "textposition": "auto",
           "type": "bar",
           "x": [
            "Adventure"
           ],
           "xaxis": "x",
           "y": [
            25
           ],
           "yaxis": "y"
          },
          {
           "alignmentgroup": "True",
           "hovertemplate": "genre1=%{x}<br>decade=1970<br>total_genre=%{y}<extra></extra>",
           "legendgroup": "Biography",
           "marker": {
            "color": "#00cc96",
            "pattern": {
             "shape": ""
            }
           },
           "name": "Biography",
           "offsetgroup": "Biography",
           "orientation": "v",
           "showlegend": true,
           "textposition": "auto",
           "type": "bar",
           "x": [
            "Biography"
           ],
           "xaxis": "x",
           "y": [
            8
           ],
           "yaxis": "y"
          },
          {
           "alignmentgroup": "True",
           "hovertemplate": "genre1=%{x}<br>decade=1970<br>total_genre=%{y}<extra></extra>",
           "legendgroup": "Comedy",
           "marker": {
            "color": "#ab63fa",
            "pattern": {
             "shape": ""
            }
           },
           "name": "Comedy",
           "offsetgroup": "Comedy",
           "orientation": "v",
           "showlegend": true,
           "textposition": "auto",
           "type": "bar",
           "x": [
            "Comedy"
           ],
           "xaxis": "x",
           "y": [
            44
           ],
           "yaxis": "y"
          },
          {
           "alignmentgroup": "True",
           "hovertemplate": "genre1=%{x}<br>decade=1970<br>total_genre=%{y}<extra></extra>",
           "legendgroup": "Crime",
           "marker": {
            "color": "#FFA15A",
            "pattern": {
             "shape": ""
            }
           },
           "name": "Crime",
           "offsetgroup": "Crime",
           "orientation": "v",
           "showlegend": true,
           "textposition": "auto",
           "type": "bar",
           "x": [
            "Crime"
           ],
           "xaxis": "x",
           "y": [
            18
           ],
           "yaxis": "y"
          },
          {
           "alignmentgroup": "True",
           "hovertemplate": "genre1=%{x}<br>decade=1970<br>total_genre=%{y}<extra></extra>",
           "legendgroup": "Drama",
           "marker": {
            "color": "#19d3f3",
            "pattern": {
             "shape": ""
            }
           },
           "name": "Drama",
           "offsetgroup": "Drama",
           "orientation": "v",
           "showlegend": true,
           "textposition": "auto",
           "type": "bar",
           "x": [
            "Drama"
           ],
           "xaxis": "x",
           "y": [
            68
           ],
           "yaxis": "y"
          },
          {
           "alignmentgroup": "True",
           "hovertemplate": "genre1=%{x}<br>decade=1970<br>total_genre=%{y}<extra></extra>",
           "legendgroup": "Horror",
           "marker": {
            "color": "#FF6692",
            "pattern": {
             "shape": ""
            }
           },
           "name": "Horror",
           "offsetgroup": "Horror",
           "orientation": "v",
           "showlegend": true,
           "textposition": "auto",
           "type": "bar",
           "x": [
            "Horror"
           ],
           "xaxis": "x",
           "y": [
            18
           ],
           "yaxis": "y"
          },
          {
           "alignmentgroup": "True",
           "hovertemplate": "genre1=%{x}<br>decade=1970<br>total_genre=%{y}<extra></extra>",
           "legendgroup": "Thriller",
           "marker": {
            "color": "#B6E880",
            "pattern": {
             "shape": ""
            }
           },
           "name": "Thriller",
           "offsetgroup": "Thriller",
           "orientation": "v",
           "showlegend": true,
           "textposition": "auto",
           "type": "bar",
           "x": [
            "Thriller"
           ],
           "xaxis": "x",
           "y": [
            1
           ],
           "yaxis": "y"
          },
          {
           "alignmentgroup": "True",
           "hovertemplate": "genre1=%{x}<br>decade=1970<br>total_genre=%{y}<extra></extra>",
           "legendgroup": "Western",
           "marker": {
            "color": "#FF97FF",
            "pattern": {
             "shape": ""
            }
           },
           "name": "Western",
           "offsetgroup": "Western",
           "orientation": "v",
           "showlegend": true,
           "textposition": "auto",
           "type": "bar",
           "x": [
            "Western"
           ],
           "xaxis": "x",
           "y": [
            1
           ],
           "yaxis": "y"
          },
          {
           "alignmentgroup": "True",
           "hovertemplate": "genre1=%{x}<br>decade=1970<br>total_genre=%{y}<extra></extra>",
           "legendgroup": "Animation",
           "marker": {
            "color": "#FECB52",
            "pattern": {
             "shape": ""
            }
           },
           "name": "Animation",
           "offsetgroup": "Animation",
           "orientation": "v",
           "showlegend": true,
           "textposition": "auto",
           "type": "bar",
           "x": [
            "Animation"
           ],
           "xaxis": "x",
           "y": [
            1
           ],
           "yaxis": "y"
          },
          {
           "alignmentgroup": "True",
           "hovertemplate": "genre1=%{x}<br>decade=1970<br>total_genre=%{y}<extra></extra>",
           "legendgroup": "Family",
           "marker": {
            "color": "#636efa",
            "pattern": {
             "shape": ""
            }
           },
           "name": "Family",
           "offsetgroup": "Family",
           "orientation": "v",
           "showlegend": true,
           "textposition": "auto",
           "type": "bar",
           "x": [
            "Family"
           ],
           "xaxis": "x",
           "y": [
            1
           ],
           "yaxis": "y"
          },
          {
           "alignmentgroup": "True",
           "hovertemplate": "genre1=%{x}<br>decade=1970<br>total_genre=%{y}<extra></extra>",
           "legendgroup": "Fantasy",
           "marker": {
            "color": "#EF553B",
            "pattern": {
             "shape": ""
            }
           },
           "name": "Fantasy",
           "offsetgroup": "Fantasy",
           "orientation": "v",
           "showlegend": true,
           "textposition": "auto",
           "type": "bar",
           "x": [
            "Fantasy"
           ],
           "xaxis": "x",
           "y": [
            1
           ],
           "yaxis": "y"
          },
          {
           "alignmentgroup": "True",
           "hovertemplate": "genre1=%{x}<br>decade=1970<br>total_genre=%{y}<extra></extra>",
           "legendgroup": "Mystery",
           "marker": {
            "color": "#00cc96",
            "pattern": {
             "shape": ""
            }
           },
           "name": "Mystery",
           "offsetgroup": "Mystery",
           "orientation": "v",
           "showlegend": true,
           "textposition": "auto",
           "type": "bar",
           "x": [
            "Mystery"
           ],
           "xaxis": "x",
           "y": [
            1
           ],
           "yaxis": "y"
          }
         ],
         "name": "1970"
        },
        {
         "data": [
          {
           "alignmentgroup": "True",
           "hovertemplate": "genre1=%{x}<br>decade=1980<br>total_genre=%{y}<extra></extra>",
           "legendgroup": "Action",
           "marker": {
            "color": "#636efa",
            "pattern": {
             "shape": ""
            }
           },
           "name": "Action",
           "offsetgroup": "Action",
           "orientation": "v",
           "showlegend": true,
           "textposition": "auto",
           "type": "bar",
           "x": [
            "Action"
           ],
           "xaxis": "x",
           "y": [
            125
           ],
           "yaxis": "y"
          },
          {
           "alignmentgroup": "True",
           "hovertemplate": "genre1=%{x}<br>decade=1980<br>total_genre=%{y}<extra></extra>",
           "legendgroup": "Adventure",
           "marker": {
            "color": "#EF553B",
            "pattern": {
             "shape": ""
            }
           },
           "name": "Adventure",
           "offsetgroup": "Adventure",
           "orientation": "v",
           "showlegend": true,
           "textposition": "auto",
           "type": "bar",
           "x": [
            "Adventure"
           ],
           "xaxis": "x",
           "y": [
            50
           ],
           "yaxis": "y"
          },
          {
           "alignmentgroup": "True",
           "hovertemplate": "genre1=%{x}<br>decade=1980<br>total_genre=%{y}<extra></extra>",
           "legendgroup": "Biography",
           "marker": {
            "color": "#00cc96",
            "pattern": {
             "shape": ""
            }
           },
           "name": "Biography",
           "offsetgroup": "Biography",
           "orientation": "v",
           "showlegend": true,
           "textposition": "auto",
           "type": "bar",
           "x": [
            "Biography"
           ],
           "xaxis": "x",
           "y": [
            24
           ],
           "yaxis": "y"
          },
          {
           "alignmentgroup": "True",
           "hovertemplate": "genre1=%{x}<br>decade=1980<br>total_genre=%{y}<extra></extra>",
           "legendgroup": "Comedy",
           "marker": {
            "color": "#ab63fa",
            "pattern": {
             "shape": ""
            }
           },
           "name": "Comedy",
           "offsetgroup": "Comedy",
           "orientation": "v",
           "showlegend": true,
           "textposition": "auto",
           "type": "bar",
           "x": [
            "Comedy"
           ],
           "xaxis": "x",
           "y": [
            121
           ],
           "yaxis": "y"
          },
          {
           "alignmentgroup": "True",
           "hovertemplate": "genre1=%{x}<br>decade=1980<br>total_genre=%{y}<extra></extra>",
           "legendgroup": "Crime",
           "marker": {
            "color": "#FFA15A",
            "pattern": {
             "shape": ""
            }
           },
           "name": "Crime",
           "offsetgroup": "Crime",
           "orientation": "v",
           "showlegend": true,
           "textposition": "auto",
           "type": "bar",
           "x": [
            "Crime"
           ],
           "xaxis": "x",
           "y": [
            33
           ],
           "yaxis": "y"
          },
          {
           "alignmentgroup": "True",
           "hovertemplate": "genre1=%{x}<br>decade=1980<br>total_genre=%{y}<extra></extra>",
           "legendgroup": "Drama",
           "marker": {
            "color": "#19d3f3",
            "pattern": {
             "shape": ""
            }
           },
           "name": "Drama",
           "offsetgroup": "Drama",
           "orientation": "v",
           "showlegend": true,
           "textposition": "auto",
           "type": "bar",
           "x": [
            "Drama"
           ],
           "xaxis": "x",
           "y": [
            79
           ],
           "yaxis": "y"
          },
          {
           "alignmentgroup": "True",
           "hovertemplate": "genre1=%{x}<br>decade=1980<br>total_genre=%{y}<extra></extra>",
           "legendgroup": "Horror",
           "marker": {
            "color": "#FF6692",
            "pattern": {
             "shape": ""
            }
           },
           "name": "Horror",
           "offsetgroup": "Horror",
           "orientation": "v",
           "showlegend": true,
           "textposition": "auto",
           "type": "bar",
           "x": [
            "Horror"
           ],
           "xaxis": "x",
           "y": [
            38
           ],
           "yaxis": "y"
          },
          {
           "alignmentgroup": "True",
           "hovertemplate": "genre1=%{x}<br>decade=1980<br>total_genre=%{y}<extra></extra>",
           "legendgroup": "Animation",
           "marker": {
            "color": "#FECB52",
            "pattern": {
             "shape": ""
            }
           },
           "name": "Animation",
           "offsetgroup": "Animation",
           "orientation": "v",
           "showlegend": true,
           "textposition": "auto",
           "type": "bar",
           "x": [
            "Animation"
           ],
           "xaxis": "x",
           "y": [
            3
           ],
           "yaxis": "y"
          },
          {
           "alignmentgroup": "True",
           "hovertemplate": "genre1=%{x}<br>decade=1980<br>total_genre=%{y}<extra></extra>",
           "legendgroup": "Family",
           "marker": {
            "color": "#636efa",
            "pattern": {
             "shape": ""
            }
           },
           "name": "Family",
           "offsetgroup": "Family",
           "orientation": "v",
           "showlegend": true,
           "textposition": "auto",
           "type": "bar",
           "x": [
            "Family"
           ],
           "xaxis": "x",
           "y": [
            1
           ],
           "yaxis": "y"
          },
          {
           "alignmentgroup": "True",
           "hovertemplate": "genre1=%{x}<br>decade=1980<br>total_genre=%{y}<extra></extra>",
           "legendgroup": "Fantasy",
           "marker": {
            "color": "#EF553B",
            "pattern": {
             "shape": ""
            }
           },
           "name": "Fantasy",
           "offsetgroup": "Fantasy",
           "orientation": "v",
           "showlegend": true,
           "textposition": "auto",
           "type": "bar",
           "x": [
            "Fantasy"
           ],
           "xaxis": "x",
           "y": [
            5
           ],
           "yaxis": "y"
          },
          {
           "alignmentgroup": "True",
           "hovertemplate": "genre1=%{x}<br>decade=1980<br>total_genre=%{y}<extra></extra>",
           "legendgroup": "Mystery",
           "marker": {
            "color": "#00cc96",
            "pattern": {
             "shape": ""
            }
           },
           "name": "Mystery",
           "offsetgroup": "Mystery",
           "orientation": "v",
           "showlegend": true,
           "textposition": "auto",
           "type": "bar",
           "x": [
            "Mystery"
           ],
           "xaxis": "x",
           "y": [
            1
           ],
           "yaxis": "y"
          },
          {
           "alignmentgroup": "True",
           "hovertemplate": "genre1=%{x}<br>decade=1980<br>total_genre=%{y}<extra></extra>",
           "legendgroup": "Romance",
           "marker": {
            "color": "#ab63fa",
            "pattern": {
             "shape": ""
            }
           },
           "name": "Romance",
           "offsetgroup": "Romance",
           "orientation": "v",
           "showlegend": true,
           "textposition": "auto",
           "type": "bar",
           "x": [
            "Romance"
           ],
           "xaxis": "x",
           "y": [
            1
           ],
           "yaxis": "y"
          }
         ],
         "name": "1980"
        },
        {
         "data": [
          {
           "alignmentgroup": "True",
           "hovertemplate": "genre1=%{x}<br>decade=1990<br>total_genre=%{y}<extra></extra>",
           "legendgroup": "Action",
           "marker": {
            "color": "#636efa",
            "pattern": {
             "shape": ""
            }
           },
           "name": "Action",
           "offsetgroup": "Action",
           "orientation": "v",
           "showlegend": true,
           "textposition": "auto",
           "type": "bar",
           "x": [
            "Action"
           ],
           "xaxis": "x",
           "y": [
            196
           ],
           "yaxis": "y"
          },
          {
           "alignmentgroup": "True",
           "hovertemplate": "genre1=%{x}<br>decade=1990<br>total_genre=%{y}<extra></extra>",
           "legendgroup": "Adventure",
           "marker": {
            "color": "#EF553B",
            "pattern": {
             "shape": ""
            }
           },
           "name": "Adventure",
           "offsetgroup": "Adventure",
           "orientation": "v",
           "showlegend": true,
           "textposition": "auto",
           "type": "bar",
           "x": [
            "Adventure"
           ],
           "xaxis": "x",
           "y": [
            45
           ],
           "yaxis": "y"
          },
          {
           "alignmentgroup": "True",
           "hovertemplate": "genre1=%{x}<br>decade=1990<br>total_genre=%{y}<extra></extra>",
           "legendgroup": "Biography",
           "marker": {
            "color": "#00cc96",
            "pattern": {
             "shape": ""
            }
           },
           "name": "Biography",
           "offsetgroup": "Biography",
           "orientation": "v",
           "showlegend": true,
           "textposition": "auto",
           "type": "bar",
           "x": [
            "Biography"
           ],
           "xaxis": "x",
           "y": [
            43
           ],
           "yaxis": "y"
          },
          {
           "alignmentgroup": "True",
           "hovertemplate": "genre1=%{x}<br>decade=1990<br>total_genre=%{y}<extra></extra>",
           "legendgroup": "Comedy",
           "marker": {
            "color": "#ab63fa",
            "pattern": {
             "shape": ""
            }
           },
           "name": "Comedy",
           "offsetgroup": "Comedy",
           "orientation": "v",
           "showlegend": true,
           "textposition": "auto",
           "type": "bar",
           "x": [
            "Comedy"
           ],
           "xaxis": "x",
           "y": [
            178
           ],
           "yaxis": "y"
          },
          {
           "alignmentgroup": "True",
           "hovertemplate": "genre1=%{x}<br>decade=1990<br>total_genre=%{y}<extra></extra>",
           "legendgroup": "Crime",
           "marker": {
            "color": "#FFA15A",
            "pattern": {
             "shape": ""
            }
           },
           "name": "Crime",
           "offsetgroup": "Crime",
           "orientation": "v",
           "showlegend": true,
           "textposition": "auto",
           "type": "bar",
           "x": [
            "Crime"
           ],
           "xaxis": "x",
           "y": [
            87
           ],
           "yaxis": "y"
          },
          {
           "alignmentgroup": "True",
           "hovertemplate": "genre1=%{x}<br>decade=1990<br>total_genre=%{y}<extra></extra>",
           "legendgroup": "Drama",
           "marker": {
            "color": "#19d3f3",
            "pattern": {
             "shape": ""
            }
           },
           "name": "Drama",
           "offsetgroup": "Drama",
           "orientation": "v",
           "showlegend": true,
           "textposition": "auto",
           "type": "bar",
           "x": [
            "Drama"
           ],
           "xaxis": "x",
           "y": [
            163
           ],
           "yaxis": "y"
          },
          {
           "alignmentgroup": "True",
           "hovertemplate": "genre1=%{x}<br>decade=1990<br>total_genre=%{y}<extra></extra>",
           "legendgroup": "Horror",
           "marker": {
            "color": "#FF6692",
            "pattern": {
             "shape": ""
            }
           },
           "name": "Horror",
           "offsetgroup": "Horror",
           "orientation": "v",
           "showlegend": true,
           "textposition": "auto",
           "type": "bar",
           "x": [
            "Horror"
           ],
           "xaxis": "x",
           "y": [
            14
           ],
           "yaxis": "y"
          },
          {
           "alignmentgroup": "True",
           "hovertemplate": "genre1=%{x}<br>decade=1990<br>total_genre=%{y}<extra></extra>",
           "legendgroup": "Thriller",
           "marker": {
            "color": "#B6E880",
            "pattern": {
             "shape": ""
            }
           },
           "name": "Thriller",
           "offsetgroup": "Thriller",
           "orientation": "v",
           "showlegend": true,
           "textposition": "auto",
           "type": "bar",
           "x": [
            "Thriller"
           ],
           "xaxis": "x",
           "y": [
            1
           ],
           "yaxis": "y"
          },
          {
           "alignmentgroup": "True",
           "hovertemplate": "genre1=%{x}<br>decade=1990<br>total_genre=%{y}<extra></extra>",
           "legendgroup": "Animation",
           "marker": {
            "color": "#FECB52",
            "pattern": {
             "shape": ""
            }
           },
           "name": "Animation",
           "offsetgroup": "Animation",
           "orientation": "v",
           "showlegend": true,
           "textposition": "auto",
           "type": "bar",
           "x": [
            "Animation"
           ],
           "xaxis": "x",
           "y": [
            4
           ],
           "yaxis": "y"
          },
          {
           "alignmentgroup": "True",
           "hovertemplate": "genre1=%{x}<br>decade=1990<br>total_genre=%{y}<extra></extra>",
           "legendgroup": "Fantasy",
           "marker": {
            "color": "#EF553B",
            "pattern": {
             "shape": ""
            }
           },
           "name": "Fantasy",
           "offsetgroup": "Fantasy",
           "orientation": "v",
           "showlegend": true,
           "textposition": "auto",
           "type": "bar",
           "x": [
            "Fantasy"
           ],
           "xaxis": "x",
           "y": [
            3
           ],
           "yaxis": "y"
          },
          {
           "alignmentgroup": "True",
           "hovertemplate": "genre1=%{x}<br>decade=1990<br>total_genre=%{y}<extra></extra>",
           "legendgroup": "Mystery",
           "marker": {
            "color": "#00cc96",
            "pattern": {
             "shape": ""
            }
           },
           "name": "Mystery",
           "offsetgroup": "Mystery",
           "orientation": "v",
           "showlegend": true,
           "textposition": "auto",
           "type": "bar",
           "x": [
            "Mystery"
           ],
           "xaxis": "x",
           "y": [
            5
           ],
           "yaxis": "y"
          },
          {
           "alignmentgroup": "True",
           "hovertemplate": "genre1=%{x}<br>decade=1990<br>total_genre=%{y}<extra></extra>",
           "legendgroup": "Documentary",
           "marker": {
            "color": "#FFA15A",
            "pattern": {
             "shape": ""
            }
           },
           "name": "Documentary",
           "offsetgroup": "Documentary",
           "orientation": "v",
           "showlegend": true,
           "textposition": "auto",
           "type": "bar",
           "x": [
            "Documentary"
           ],
           "xaxis": "x",
           "y": [
            1
           ],
           "yaxis": "y"
          }
         ],
         "name": "1990"
        },
        {
         "data": [
          {
           "alignmentgroup": "True",
           "hovertemplate": "genre1=%{x}<br>decade=2000<br>total_genre=%{y}<extra></extra>",
           "legendgroup": "Action",
           "marker": {
            "color": "#636efa",
            "pattern": {
             "shape": ""
            }
           },
           "name": "Action",
           "offsetgroup": "Action",
           "orientation": "v",
           "showlegend": true,
           "textposition": "auto",
           "type": "bar",
           "x": [
            "Action"
           ],
           "xaxis": "x",
           "y": [
            316
           ],
           "yaxis": "y"
          },
          {
           "alignmentgroup": "True",
           "hovertemplate": "genre1=%{x}<br>decade=2000<br>total_genre=%{y}<extra></extra>",
           "legendgroup": "Adventure",
           "marker": {
            "color": "#EF553B",
            "pattern": {
             "shape": ""
            }
           },
           "name": "Adventure",
           "offsetgroup": "Adventure",
           "orientation": "v",
           "showlegend": true,
           "textposition": "auto",
           "type": "bar",
           "x": [
            "Adventure"
           ],
           "xaxis": "x",
           "y": [
            75
           ],
           "yaxis": "y"
          },
          {
           "alignmentgroup": "True",
           "hovertemplate": "genre1=%{x}<br>decade=2000<br>total_genre=%{y}<extra></extra>",
           "legendgroup": "Biography",
           "marker": {
            "color": "#00cc96",
            "pattern": {
             "shape": ""
            }
           },
           "name": "Biography",
           "offsetgroup": "Biography",
           "orientation": "v",
           "showlegend": true,
           "textposition": "auto",
           "type": "bar",
           "x": [
            "Biography"
           ],
           "xaxis": "x",
           "y": [
            88
           ],
           "yaxis": "y"
          },
          {
           "alignmentgroup": "True",
           "hovertemplate": "genre1=%{x}<br>decade=2000<br>total_genre=%{y}<extra></extra>",
           "legendgroup": "Comedy",
           "marker": {
            "color": "#ab63fa",
            "pattern": {
             "shape": ""
            }
           },
           "name": "Comedy",
           "offsetgroup": "Comedy",
           "orientation": "v",
           "showlegend": true,
           "textposition": "auto",
           "type": "bar",
           "x": [
            "Comedy"
           ],
           "xaxis": "x",
           "y": [
            236
           ],
           "yaxis": "y"
          },
          {
           "alignmentgroup": "True",
           "hovertemplate": "genre1=%{x}<br>decade=2000<br>total_genre=%{y}<extra></extra>",
           "legendgroup": "Crime",
           "marker": {
            "color": "#FFA15A",
            "pattern": {
             "shape": ""
            }
           },
           "name": "Crime",
           "offsetgroup": "Crime",
           "orientation": "v",
           "showlegend": true,
           "textposition": "auto",
           "type": "bar",
           "x": [
            "Crime"
           ],
           "xaxis": "x",
           "y": [
            113
           ],
           "yaxis": "y"
          },
          {
           "alignmentgroup": "True",
           "hovertemplate": "genre1=%{x}<br>decade=2000<br>total_genre=%{y}<extra></extra>",
           "legendgroup": "Drama",
           "marker": {
            "color": "#19d3f3",
            "pattern": {
             "shape": ""
            }
           },
           "name": "Drama",
           "offsetgroup": "Drama",
           "orientation": "v",
           "showlegend": true,
           "textposition": "auto",
           "type": "bar",
           "x": [
            "Drama"
           ],
           "xaxis": "x",
           "y": [
            234
           ],
           "yaxis": "y"
          },
          {
           "alignmentgroup": "True",
           "hovertemplate": "genre1=%{x}<br>decade=2000<br>total_genre=%{y}<extra></extra>",
           "legendgroup": "Horror",
           "marker": {
            "color": "#FF6692",
            "pattern": {
             "shape": ""
            }
           },
           "name": "Horror",
           "offsetgroup": "Horror",
           "orientation": "v",
           "showlegend": true,
           "textposition": "auto",
           "type": "bar",
           "x": [
            "Horror"
           ],
           "xaxis": "x",
           "y": [
            42
           ],
           "yaxis": "y"
          },
          {
           "alignmentgroup": "True",
           "hovertemplate": "genre1=%{x}<br>decade=2000<br>total_genre=%{y}<extra></extra>",
           "legendgroup": "Thriller",
           "marker": {
            "color": "#B6E880",
            "pattern": {
             "shape": ""
            }
           },
           "name": "Thriller",
           "offsetgroup": "Thriller",
           "orientation": "v",
           "showlegend": true,
           "textposition": "auto",
           "type": "bar",
           "x": [
            "Thriller"
           ],
           "xaxis": "x",
           "y": [
            1
           ],
           "yaxis": "y"
          },
          {
           "alignmentgroup": "True",
           "hovertemplate": "genre1=%{x}<br>decade=2000<br>total_genre=%{y}<extra></extra>",
           "legendgroup": "Animation",
           "marker": {
            "color": "#FECB52",
            "pattern": {
             "shape": ""
            }
           },
           "name": "Animation",
           "offsetgroup": "Animation",
           "orientation": "v",
           "showlegend": true,
           "textposition": "auto",
           "type": "bar",
           "x": [
            "Animation"
           ],
           "xaxis": "x",
           "y": [
            8
           ],
           "yaxis": "y"
          },
          {
           "alignmentgroup": "True",
           "hovertemplate": "genre1=%{x}<br>decade=2000<br>total_genre=%{y}<extra></extra>",
           "legendgroup": "Fantasy",
           "marker": {
            "color": "#EF553B",
            "pattern": {
             "shape": ""
            }
           },
           "name": "Fantasy",
           "offsetgroup": "Fantasy",
           "orientation": "v",
           "showlegend": true,
           "textposition": "auto",
           "type": "bar",
           "x": [
            "Fantasy"
           ],
           "xaxis": "x",
           "y": [
            3
           ],
           "yaxis": "y"
          },
          {
           "alignmentgroup": "True",
           "hovertemplate": "genre1=%{x}<br>decade=2000<br>total_genre=%{y}<extra></extra>",
           "legendgroup": "Mystery",
           "marker": {
            "color": "#00cc96",
            "pattern": {
             "shape": ""
            }
           },
           "name": "Mystery",
           "offsetgroup": "Mystery",
           "orientation": "v",
           "showlegend": true,
           "textposition": "auto",
           "type": "bar",
           "x": [
            "Mystery"
           ],
           "xaxis": "x",
           "y": [
            5
           ],
           "yaxis": "y"
          },
          {
           "alignmentgroup": "True",
           "hovertemplate": "genre1=%{x}<br>decade=2000<br>total_genre=%{y}<extra></extra>",
           "legendgroup": "Documentary",
           "marker": {
            "color": "#FFA15A",
            "pattern": {
             "shape": ""
            }
           },
           "name": "Documentary",
           "offsetgroup": "Documentary",
           "orientation": "v",
           "showlegend": true,
           "textposition": "auto",
           "type": "bar",
           "x": [
            "Documentary"
           ],
           "xaxis": "x",
           "y": [
            2
           ],
           "yaxis": "y"
          },
          {
           "alignmentgroup": "True",
           "hovertemplate": "genre1=%{x}<br>decade=2000<br>total_genre=%{y}<extra></extra>",
           "legendgroup": "Sci-Fi",
           "marker": {
            "color": "#19d3f3",
            "pattern": {
             "shape": ""
            }
           },
           "name": "Sci-Fi",
           "offsetgroup": "Sci-Fi",
           "orientation": "v",
           "showlegend": true,
           "textposition": "auto",
           "type": "bar",
           "x": [
            "Sci-Fi"
           ],
           "xaxis": "x",
           "y": [
            1
           ],
           "yaxis": "y"
          }
         ],
         "name": "2000"
        },
        {
         "data": [
          {
           "alignmentgroup": "True",
           "hovertemplate": "genre1=%{x}<br>decade=2010<br>total_genre=%{y}<extra></extra>",
           "legendgroup": "Action",
           "marker": {
            "color": "#636efa",
            "pattern": {
             "shape": ""
            }
           },
           "name": "Action",
           "offsetgroup": "Action",
           "orientation": "v",
           "showlegend": true,
           "textposition": "auto",
           "type": "bar",
           "x": [
            "Action"
           ],
           "xaxis": "x",
           "y": [
            563
           ],
           "yaxis": "y"
          },
          {
           "alignmentgroup": "True",
           "hovertemplate": "genre1=%{x}<br>decade=2010<br>total_genre=%{y}<extra></extra>",
           "legendgroup": "Adventure",
           "marker": {
            "color": "#EF553B",
            "pattern": {
             "shape": ""
            }
           },
           "name": "Adventure",
           "offsetgroup": "Adventure",
           "orientation": "v",
           "showlegend": true,
           "textposition": "auto",
           "type": "bar",
           "x": [
            "Adventure"
           ],
           "xaxis": "x",
           "y": [
            134
           ],
           "yaxis": "y"
          },
          {
           "alignmentgroup": "True",
           "hovertemplate": "genre1=%{x}<br>decade=2010<br>total_genre=%{y}<extra></extra>",
           "legendgroup": "Biography",
           "marker": {
            "color": "#00cc96",
            "pattern": {
             "shape": ""
            }
           },
           "name": "Biography",
           "offsetgroup": "Biography",
           "orientation": "v",
           "showlegend": true,
           "textposition": "auto",
           "type": "bar",
           "x": [
            "Biography"
           ],
           "xaxis": "x",
           "y": [
            184
           ],
           "yaxis": "y"
          },
          {
           "alignmentgroup": "True",
           "hovertemplate": "genre1=%{x}<br>decade=2010<br>total_genre=%{y}<extra></extra>",
           "legendgroup": "Comedy",
           "marker": {
            "color": "#ab63fa",
            "pattern": {
             "shape": ""
            }
           },
           "name": "Comedy",
           "offsetgroup": "Comedy",
           "orientation": "v",
           "showlegend": true,
           "textposition": "auto",
           "type": "bar",
           "x": [
            "Comedy"
           ],
           "xaxis": "x",
           "y": [
            295
           ],
           "yaxis": "y"
          },
          {
           "alignmentgroup": "True",
           "hovertemplate": "genre1=%{x}<br>decade=2010<br>total_genre=%{y}<extra></extra>",
           "legendgroup": "Crime",
           "marker": {
            "color": "#FFA15A",
            "pattern": {
             "shape": ""
            }
           },
           "name": "Crime",
           "offsetgroup": "Crime",
           "orientation": "v",
           "showlegend": true,
           "textposition": "auto",
           "type": "bar",
           "x": [
            "Crime"
           ],
           "xaxis": "x",
           "y": [
            123
           ],
           "yaxis": "y"
          },
          {
           "alignmentgroup": "True",
           "hovertemplate": "genre1=%{x}<br>decade=2010<br>total_genre=%{y}<extra></extra>",
           "legendgroup": "Drama",
           "marker": {
            "color": "#19d3f3",
            "pattern": {
             "shape": ""
            }
           },
           "name": "Drama",
           "offsetgroup": "Drama",
           "orientation": "v",
           "showlegend": true,
           "textposition": "auto",
           "type": "bar",
           "x": [
            "Drama"
           ],
           "xaxis": "x",
           "y": [
            380
           ],
           "yaxis": "y"
          },
          {
           "alignmentgroup": "True",
           "hovertemplate": "genre1=%{x}<br>decade=2010<br>total_genre=%{y}<extra></extra>",
           "legendgroup": "Horror",
           "marker": {
            "color": "#FF6692",
            "pattern": {
             "shape": ""
            }
           },
           "name": "Horror",
           "offsetgroup": "Horror",
           "orientation": "v",
           "showlegend": true,
           "textposition": "auto",
           "type": "bar",
           "x": [
            "Horror"
           ],
           "xaxis": "x",
           "y": [
            41
           ],
           "yaxis": "y"
          },
          {
           "alignmentgroup": "True",
           "hovertemplate": "genre1=%{x}<br>decade=2010<br>total_genre=%{y}<extra></extra>",
           "legendgroup": "Thriller",
           "marker": {
            "color": "#B6E880",
            "pattern": {
             "shape": ""
            }
           },
           "name": "Thriller",
           "offsetgroup": "Thriller",
           "orientation": "v",
           "showlegend": true,
           "textposition": "auto",
           "type": "bar",
           "x": [
            "Thriller"
           ],
           "xaxis": "x",
           "y": [
            1
           ],
           "yaxis": "y"
          },
          {
           "alignmentgroup": "True",
           "hovertemplate": "genre1=%{x}<br>decade=2010<br>total_genre=%{y}<extra></extra>",
           "legendgroup": "Animation",
           "marker": {
            "color": "#FECB52",
            "pattern": {
             "shape": ""
            }
           },
           "name": "Animation",
           "offsetgroup": "Animation",
           "orientation": "v",
           "showlegend": true,
           "textposition": "auto",
           "type": "bar",
           "x": [
            "Animation"
           ],
           "xaxis": "x",
           "y": [
            14
           ],
           "yaxis": "y"
          },
          {
           "alignmentgroup": "True",
           "hovertemplate": "genre1=%{x}<br>decade=2010<br>total_genre=%{y}<extra></extra>",
           "legendgroup": "Fantasy",
           "marker": {
            "color": "#EF553B",
            "pattern": {
             "shape": ""
            }
           },
           "name": "Fantasy",
           "offsetgroup": "Fantasy",
           "orientation": "v",
           "showlegend": true,
           "textposition": "auto",
           "type": "bar",
           "x": [
            "Fantasy"
           ],
           "xaxis": "x",
           "y": [
            5
           ],
           "yaxis": "y"
          },
          {
           "alignmentgroup": "True",
           "hovertemplate": "genre1=%{x}<br>decade=2010<br>total_genre=%{y}<extra></extra>",
           "legendgroup": "Mystery",
           "marker": {
            "color": "#00cc96",
            "pattern": {
             "shape": ""
            }
           },
           "name": "Mystery",
           "offsetgroup": "Mystery",
           "orientation": "v",
           "showlegend": true,
           "textposition": "auto",
           "type": "bar",
           "x": [
            "Mystery"
           ],
           "xaxis": "x",
           "y": [
            5
           ],
           "yaxis": "y"
          },
          {
           "alignmentgroup": "True",
           "hovertemplate": "genre1=%{x}<br>decade=2010<br>total_genre=%{y}<extra></extra>",
           "legendgroup": "Documentary",
           "marker": {
            "color": "#FFA15A",
            "pattern": {
             "shape": ""
            }
           },
           "name": "Documentary",
           "offsetgroup": "Documentary",
           "orientation": "v",
           "showlegend": true,
           "textposition": "auto",
           "type": "bar",
           "x": [
            "Documentary"
           ],
           "xaxis": "x",
           "y": [
            3
           ],
           "yaxis": "y"
          },
          {
           "alignmentgroup": "True",
           "hovertemplate": "genre1=%{x}<br>decade=2010<br>total_genre=%{y}<extra></extra>",
           "legendgroup": "Sci-Fi",
           "marker": {
            "color": "#19d3f3",
            "pattern": {
             "shape": ""
            }
           },
           "name": "Sci-Fi",
           "offsetgroup": "Sci-Fi",
           "orientation": "v",
           "showlegend": true,
           "textposition": "auto",
           "type": "bar",
           "x": [
            "Sci-Fi"
           ],
           "xaxis": "x",
           "y": [
            1
           ],
           "yaxis": "y"
          },
          {
           "alignmentgroup": "True",
           "hovertemplate": "genre1=%{x}<br>decade=2010<br>total_genre=%{y}<extra></extra>",
           "legendgroup": "Music",
           "marker": {
            "color": "#FF6692",
            "pattern": {
             "shape": ""
            }
           },
           "name": "Music",
           "offsetgroup": "Music",
           "orientation": "v",
           "showlegend": true,
           "textposition": "auto",
           "type": "bar",
           "x": [
            "Music"
           ],
           "xaxis": "x",
           "y": [
            1
           ],
           "yaxis": "y"
          }
         ],
         "name": "2010"
        },
        {
         "data": [
          {
           "alignmentgroup": "True",
           "hovertemplate": "genre1=%{x}<br>decade=2020<br>total_genre=%{y}<extra></extra>",
           "legendgroup": "Action",
           "marker": {
            "color": "#636efa",
            "pattern": {
             "shape": ""
            }
           },
           "name": "Action",
           "offsetgroup": "Action",
           "orientation": "v",
           "showlegend": true,
           "textposition": "auto",
           "type": "bar",
           "x": [
            "Action"
           ],
           "xaxis": "x",
           "y": [
            154
           ],
           "yaxis": "y"
          },
          {
           "alignmentgroup": "True",
           "hovertemplate": "genre1=%{x}<br>decade=2020<br>total_genre=%{y}<extra></extra>",
           "legendgroup": "Adventure",
           "marker": {
            "color": "#EF553B",
            "pattern": {
             "shape": ""
            }
           },
           "name": "Adventure",
           "offsetgroup": "Adventure",
           "orientation": "v",
           "showlegend": true,
           "textposition": "auto",
           "type": "bar",
           "x": [
            "Adventure"
           ],
           "xaxis": "x",
           "y": [
            45
           ],
           "yaxis": "y"
          },
          {
           "alignmentgroup": "True",
           "hovertemplate": "genre1=%{x}<br>decade=2020<br>total_genre=%{y}<extra></extra>",
           "legendgroup": "Biography",
           "marker": {
            "color": "#00cc96",
            "pattern": {
             "shape": ""
            }
           },
           "name": "Biography",
           "offsetgroup": "Biography",
           "orientation": "v",
           "showlegend": true,
           "textposition": "auto",
           "type": "bar",
           "x": [
            "Biography"
           ],
           "xaxis": "x",
           "y": [
            57
           ],
           "yaxis": "y"
          },
          {
           "alignmentgroup": "True",
           "hovertemplate": "genre1=%{x}<br>decade=2020<br>total_genre=%{y}<extra></extra>",
           "legendgroup": "Comedy",
           "marker": {
            "color": "#ab63fa",
            "pattern": {
             "shape": ""
            }
           },
           "name": "Comedy",
           "offsetgroup": "Comedy",
           "orientation": "v",
           "showlegend": true,
           "textposition": "auto",
           "type": "bar",
           "x": [
            "Comedy"
           ],
           "xaxis": "x",
           "y": [
            122
           ],
           "yaxis": "y"
          },
          {
           "alignmentgroup": "True",
           "hovertemplate": "genre1=%{x}<br>decade=2020<br>total_genre=%{y}<extra></extra>",
           "legendgroup": "Crime",
           "marker": {
            "color": "#FFA15A",
            "pattern": {
             "shape": ""
            }
           },
           "name": "Crime",
           "offsetgroup": "Crime",
           "orientation": "v",
           "showlegend": true,
           "textposition": "auto",
           "type": "bar",
           "x": [
            "Crime"
           ],
           "xaxis": "x",
           "y": [
            52
           ],
           "yaxis": "y"
          },
          {
           "alignmentgroup": "True",
           "hovertemplate": "genre1=%{x}<br>decade=2020<br>total_genre=%{y}<extra></extra>",
           "legendgroup": "Drama",
           "marker": {
            "color": "#19d3f3",
            "pattern": {
             "shape": ""
            }
           },
           "name": "Drama",
           "offsetgroup": "Drama",
           "orientation": "v",
           "showlegend": true,
           "textposition": "auto",
           "type": "bar",
           "x": [
            "Drama"
           ],
           "xaxis": "x",
           "y": [
            147
           ],
           "yaxis": "y"
          },
          {
           "alignmentgroup": "True",
           "hovertemplate": "genre1=%{x}<br>decade=2020<br>total_genre=%{y}<extra></extra>",
           "legendgroup": "Horror",
           "marker": {
            "color": "#FF6692",
            "pattern": {
             "shape": ""
            }
           },
           "name": "Horror",
           "offsetgroup": "Horror",
           "orientation": "v",
           "showlegend": true,
           "textposition": "auto",
           "type": "bar",
           "x": [
            "Horror"
           ],
           "xaxis": "x",
           "y": [
            24
           ],
           "yaxis": "y"
          },
          {
           "alignmentgroup": "True",
           "hovertemplate": "genre1=%{x}<br>decade=2020<br>total_genre=%{y}<extra></extra>",
           "legendgroup": "Thriller",
           "marker": {
            "color": "#B6E880",
            "pattern": {
             "shape": ""
            }
           },
           "name": "Thriller",
           "offsetgroup": "Thriller",
           "orientation": "v",
           "showlegend": true,
           "textposition": "auto",
           "type": "bar",
           "x": [
            "Thriller"
           ],
           "xaxis": "x",
           "y": [
            2
           ],
           "yaxis": "y"
          },
          {
           "alignmentgroup": "True",
           "hovertemplate": "genre1=%{x}<br>decade=2020<br>total_genre=%{y}<extra></extra>",
           "legendgroup": "Animation",
           "marker": {
            "color": "#FECB52",
            "pattern": {
             "shape": ""
            }
           },
           "name": "Animation",
           "offsetgroup": "Animation",
           "orientation": "v",
           "showlegend": true,
           "textposition": "auto",
           "type": "bar",
           "x": [
            "Animation"
           ],
           "xaxis": "x",
           "y": [
            7
           ],
           "yaxis": "y"
          },
          {
           "alignmentgroup": "True",
           "hovertemplate": "genre1=%{x}<br>decade=2020<br>total_genre=%{y}<extra></extra>",
           "legendgroup": "Family",
           "marker": {
            "color": "#636efa",
            "pattern": {
             "shape": ""
            }
           },
           "name": "Family",
           "offsetgroup": "Family",
           "orientation": "v",
           "showlegend": true,
           "textposition": "auto",
           "type": "bar",
           "x": [
            "Family"
           ],
           "xaxis": "x",
           "y": [
            1
           ],
           "yaxis": "y"
          },
          {
           "alignmentgroup": "True",
           "hovertemplate": "genre1=%{x}<br>decade=2020<br>total_genre=%{y}<extra></extra>",
           "legendgroup": "Fantasy",
           "marker": {
            "color": "#EF553B",
            "pattern": {
             "shape": ""
            }
           },
           "name": "Fantasy",
           "offsetgroup": "Fantasy",
           "orientation": "v",
           "showlegend": true,
           "textposition": "auto",
           "type": "bar",
           "x": [
            "Fantasy"
           ],
           "xaxis": "x",
           "y": [
            2
           ],
           "yaxis": "y"
          },
          {
           "alignmentgroup": "True",
           "hovertemplate": "genre1=%{x}<br>decade=2020<br>total_genre=%{y}<extra></extra>",
           "legendgroup": "Mystery",
           "marker": {
            "color": "#00cc96",
            "pattern": {
             "shape": ""
            }
           },
           "name": "Mystery",
           "offsetgroup": "Mystery",
           "orientation": "v",
           "showlegend": true,
           "textposition": "auto",
           "type": "bar",
           "x": [
            "Mystery"
           ],
           "xaxis": "x",
           "y": [
            3
           ],
           "yaxis": "y"
          },
          {
           "alignmentgroup": "True",
           "hovertemplate": "genre1=%{x}<br>decade=2020<br>total_genre=%{y}<extra></extra>",
           "legendgroup": "Documentary",
           "marker": {
            "color": "#FFA15A",
            "pattern": {
             "shape": ""
            }
           },
           "name": "Documentary",
           "offsetgroup": "Documentary",
           "orientation": "v",
           "showlegend": true,
           "textposition": "auto",
           "type": "bar",
           "x": [
            "Documentary"
           ],
           "xaxis": "x",
           "y": [
            1
           ],
           "yaxis": "y"
          },
          {
           "alignmentgroup": "True",
           "hovertemplate": "genre1=%{x}<br>decade=2020<br>total_genre=%{y}<extra></extra>",
           "legendgroup": "History",
           "marker": {
            "color": "#B6E880",
            "pattern": {
             "shape": ""
            }
           },
           "name": "History",
           "offsetgroup": "History",
           "orientation": "v",
           "showlegend": true,
           "textposition": "auto",
           "type": "bar",
           "x": [
            "History"
           ],
           "xaxis": "x",
           "y": [
            1
           ],
           "yaxis": "y"
          }
         ],
         "name": "2020"
        }
       ],
       "layout": {
        "barmode": "relative",
        "legend": {
         "title": {
          "text": "genre1"
         },
         "tracegroupgap": 0
        },
        "sliders": [
         {
          "active": 0,
          "currentvalue": {
           "prefix": "decade="
          },
          "len": 0.9,
          "pad": {
           "b": 10,
           "t": 60
          },
          "steps": [
           {
            "args": [
             [
              "1960"
             ],
             {
              "frame": {
               "duration": 0,
               "redraw": true
              },
              "fromcurrent": true,
              "mode": "immediate",
              "transition": {
               "duration": 0,
               "easing": "linear"
              }
             }
            ],
            "label": "1960",
            "method": "animate"
           },
           {
            "args": [
             [
              "1970"
             ],
             {
              "frame": {
               "duration": 0,
               "redraw": true
              },
              "fromcurrent": true,
              "mode": "immediate",
              "transition": {
               "duration": 0,
               "easing": "linear"
              }
             }
            ],
            "label": "1970",
            "method": "animate"
           },
           {
            "args": [
             [
              "1980"
             ],
             {
              "frame": {
               "duration": 0,
               "redraw": true
              },
              "fromcurrent": true,
              "mode": "immediate",
              "transition": {
               "duration": 0,
               "easing": "linear"
              }
             }
            ],
            "label": "1980",
            "method": "animate"
           },
           {
            "args": [
             [
              "1990"
             ],
             {
              "frame": {
               "duration": 0,
               "redraw": true
              },
              "fromcurrent": true,
              "mode": "immediate",
              "transition": {
               "duration": 0,
               "easing": "linear"
              }
             }
            ],
            "label": "1990",
            "method": "animate"
           },
           {
            "args": [
             [
              "2000"
             ],
             {
              "frame": {
               "duration": 0,
               "redraw": true
              },
              "fromcurrent": true,
              "mode": "immediate",
              "transition": {
               "duration": 0,
               "easing": "linear"
              }
             }
            ],
            "label": "2000",
            "method": "animate"
           },
           {
            "args": [
             [
              "2010"
             ],
             {
              "frame": {
               "duration": 0,
               "redraw": true
              },
              "fromcurrent": true,
              "mode": "immediate",
              "transition": {
               "duration": 0,
               "easing": "linear"
              }
             }
            ],
            "label": "2010",
            "method": "animate"
           },
           {
            "args": [
             [
              "2020"
             ],
             {
              "frame": {
               "duration": 0,
               "redraw": true
              },
              "fromcurrent": true,
              "mode": "immediate",
              "transition": {
               "duration": 0,
               "easing": "linear"
              }
             }
            ],
            "label": "2020",
            "method": "animate"
           }
          ],
          "x": 0.1,
          "xanchor": "left",
          "y": 0,
          "yanchor": "top"
         }
        ],
        "template": {
         "data": {
          "bar": [
           {
            "error_x": {
             "color": "#2a3f5f"
            },
            "error_y": {
             "color": "#2a3f5f"
            },
            "marker": {
             "line": {
              "color": "#E5ECF6",
              "width": 0.5
             },
             "pattern": {
              "fillmode": "overlay",
              "size": 10,
              "solidity": 0.2
             }
            },
            "type": "bar"
           }
          ],
          "barpolar": [
           {
            "marker": {
             "line": {
              "color": "#E5ECF6",
              "width": 0.5
             },
             "pattern": {
              "fillmode": "overlay",
              "size": 10,
              "solidity": 0.2
             }
            },
            "type": "barpolar"
           }
          ],
          "carpet": [
           {
            "aaxis": {
             "endlinecolor": "#2a3f5f",
             "gridcolor": "white",
             "linecolor": "white",
             "minorgridcolor": "white",
             "startlinecolor": "#2a3f5f"
            },
            "baxis": {
             "endlinecolor": "#2a3f5f",
             "gridcolor": "white",
             "linecolor": "white",
             "minorgridcolor": "white",
             "startlinecolor": "#2a3f5f"
            },
            "type": "carpet"
           }
          ],
          "choropleth": [
           {
            "colorbar": {
             "outlinewidth": 0,
             "ticks": ""
            },
            "type": "choropleth"
           }
          ],
          "contour": [
           {
            "colorbar": {
             "outlinewidth": 0,
             "ticks": ""
            },
            "colorscale": [
             [
              0,
              "#0d0887"
             ],
             [
              0.1111111111111111,
              "#46039f"
             ],
             [
              0.2222222222222222,
              "#7201a8"
             ],
             [
              0.3333333333333333,
              "#9c179e"
             ],
             [
              0.4444444444444444,
              "#bd3786"
             ],
             [
              0.5555555555555556,
              "#d8576b"
             ],
             [
              0.6666666666666666,
              "#ed7953"
             ],
             [
              0.7777777777777778,
              "#fb9f3a"
             ],
             [
              0.8888888888888888,
              "#fdca26"
             ],
             [
              1,
              "#f0f921"
             ]
            ],
            "type": "contour"
           }
          ],
          "contourcarpet": [
           {
            "colorbar": {
             "outlinewidth": 0,
             "ticks": ""
            },
            "type": "contourcarpet"
           }
          ],
          "heatmap": [
           {
            "colorbar": {
             "outlinewidth": 0,
             "ticks": ""
            },
            "colorscale": [
             [
              0,
              "#0d0887"
             ],
             [
              0.1111111111111111,
              "#46039f"
             ],
             [
              0.2222222222222222,
              "#7201a8"
             ],
             [
              0.3333333333333333,
              "#9c179e"
             ],
             [
              0.4444444444444444,
              "#bd3786"
             ],
             [
              0.5555555555555556,
              "#d8576b"
             ],
             [
              0.6666666666666666,
              "#ed7953"
             ],
             [
              0.7777777777777778,
              "#fb9f3a"
             ],
             [
              0.8888888888888888,
              "#fdca26"
             ],
             [
              1,
              "#f0f921"
             ]
            ],
            "type": "heatmap"
           }
          ],
          "heatmapgl": [
           {
            "colorbar": {
             "outlinewidth": 0,
             "ticks": ""
            },
            "colorscale": [
             [
              0,
              "#0d0887"
             ],
             [
              0.1111111111111111,
              "#46039f"
             ],
             [
              0.2222222222222222,
              "#7201a8"
             ],
             [
              0.3333333333333333,
              "#9c179e"
             ],
             [
              0.4444444444444444,
              "#bd3786"
             ],
             [
              0.5555555555555556,
              "#d8576b"
             ],
             [
              0.6666666666666666,
              "#ed7953"
             ],
             [
              0.7777777777777778,
              "#fb9f3a"
             ],
             [
              0.8888888888888888,
              "#fdca26"
             ],
             [
              1,
              "#f0f921"
             ]
            ],
            "type": "heatmapgl"
           }
          ],
          "histogram": [
           {
            "marker": {
             "pattern": {
              "fillmode": "overlay",
              "size": 10,
              "solidity": 0.2
             }
            },
            "type": "histogram"
           }
          ],
          "histogram2d": [
           {
            "colorbar": {
             "outlinewidth": 0,
             "ticks": ""
            },
            "colorscale": [
             [
              0,
              "#0d0887"
             ],
             [
              0.1111111111111111,
              "#46039f"
             ],
             [
              0.2222222222222222,
              "#7201a8"
             ],
             [
              0.3333333333333333,
              "#9c179e"
             ],
             [
              0.4444444444444444,
              "#bd3786"
             ],
             [
              0.5555555555555556,
              "#d8576b"
             ],
             [
              0.6666666666666666,
              "#ed7953"
             ],
             [
              0.7777777777777778,
              "#fb9f3a"
             ],
             [
              0.8888888888888888,
              "#fdca26"
             ],
             [
              1,
              "#f0f921"
             ]
            ],
            "type": "histogram2d"
           }
          ],
          "histogram2dcontour": [
           {
            "colorbar": {
             "outlinewidth": 0,
             "ticks": ""
            },
            "colorscale": [
             [
              0,
              "#0d0887"
             ],
             [
              0.1111111111111111,
              "#46039f"
             ],
             [
              0.2222222222222222,
              "#7201a8"
             ],
             [
              0.3333333333333333,
              "#9c179e"
             ],
             [
              0.4444444444444444,
              "#bd3786"
             ],
             [
              0.5555555555555556,
              "#d8576b"
             ],
             [
              0.6666666666666666,
              "#ed7953"
             ],
             [
              0.7777777777777778,
              "#fb9f3a"
             ],
             [
              0.8888888888888888,
              "#fdca26"
             ],
             [
              1,
              "#f0f921"
             ]
            ],
            "type": "histogram2dcontour"
           }
          ],
          "mesh3d": [
           {
            "colorbar": {
             "outlinewidth": 0,
             "ticks": ""
            },
            "type": "mesh3d"
           }
          ],
          "parcoords": [
           {
            "line": {
             "colorbar": {
              "outlinewidth": 0,
              "ticks": ""
             }
            },
            "type": "parcoords"
           }
          ],
          "pie": [
           {
            "automargin": true,
            "type": "pie"
           }
          ],
          "scatter": [
           {
            "fillpattern": {
             "fillmode": "overlay",
             "size": 10,
             "solidity": 0.2
            },
            "type": "scatter"
           }
          ],
          "scatter3d": [
           {
            "line": {
             "colorbar": {
              "outlinewidth": 0,
              "ticks": ""
             }
            },
            "marker": {
             "colorbar": {
              "outlinewidth": 0,
              "ticks": ""
             }
            },
            "type": "scatter3d"
           }
          ],
          "scattercarpet": [
           {
            "marker": {
             "colorbar": {
              "outlinewidth": 0,
              "ticks": ""
             }
            },
            "type": "scattercarpet"
           }
          ],
          "scattergeo": [
           {
            "marker": {
             "colorbar": {
              "outlinewidth": 0,
              "ticks": ""
             }
            },
            "type": "scattergeo"
           }
          ],
          "scattergl": [
           {
            "marker": {
             "colorbar": {
              "outlinewidth": 0,
              "ticks": ""
             }
            },
            "type": "scattergl"
           }
          ],
          "scattermapbox": [
           {
            "marker": {
             "colorbar": {
              "outlinewidth": 0,
              "ticks": ""
             }
            },
            "type": "scattermapbox"
           }
          ],
          "scatterpolar": [
           {
            "marker": {
             "colorbar": {
              "outlinewidth": 0,
              "ticks": ""
             }
            },
            "type": "scatterpolar"
           }
          ],
          "scatterpolargl": [
           {
            "marker": {
             "colorbar": {
              "outlinewidth": 0,
              "ticks": ""
             }
            },
            "type": "scatterpolargl"
           }
          ],
          "scatterternary": [
           {
            "marker": {
             "colorbar": {
              "outlinewidth": 0,
              "ticks": ""
             }
            },
            "type": "scatterternary"
           }
          ],
          "surface": [
           {
            "colorbar": {
             "outlinewidth": 0,
             "ticks": ""
            },
            "colorscale": [
             [
              0,
              "#0d0887"
             ],
             [
              0.1111111111111111,
              "#46039f"
             ],
             [
              0.2222222222222222,
              "#7201a8"
             ],
             [
              0.3333333333333333,
              "#9c179e"
             ],
             [
              0.4444444444444444,
              "#bd3786"
             ],
             [
              0.5555555555555556,
              "#d8576b"
             ],
             [
              0.6666666666666666,
              "#ed7953"
             ],
             [
              0.7777777777777778,
              "#fb9f3a"
             ],
             [
              0.8888888888888888,
              "#fdca26"
             ],
             [
              1,
              "#f0f921"
             ]
            ],
            "type": "surface"
           }
          ],
          "table": [
           {
            "cells": {
             "fill": {
              "color": "#EBF0F8"
             },
             "line": {
              "color": "white"
             }
            },
            "header": {
             "fill": {
              "color": "#C8D4E3"
             },
             "line": {
              "color": "white"
             }
            },
            "type": "table"
           }
          ]
         },
         "layout": {
          "annotationdefaults": {
           "arrowcolor": "#2a3f5f",
           "arrowhead": 0,
           "arrowwidth": 1
          },
          "autotypenumbers": "strict",
          "coloraxis": {
           "colorbar": {
            "outlinewidth": 0,
            "ticks": ""
           }
          },
          "colorscale": {
           "diverging": [
            [
             0,
             "#8e0152"
            ],
            [
             0.1,
             "#c51b7d"
            ],
            [
             0.2,
             "#de77ae"
            ],
            [
             0.3,
             "#f1b6da"
            ],
            [
             0.4,
             "#fde0ef"
            ],
            [
             0.5,
             "#f7f7f7"
            ],
            [
             0.6,
             "#e6f5d0"
            ],
            [
             0.7,
             "#b8e186"
            ],
            [
             0.8,
             "#7fbc41"
            ],
            [
             0.9,
             "#4d9221"
            ],
            [
             1,
             "#276419"
            ]
           ],
           "sequential": [
            [
             0,
             "#0d0887"
            ],
            [
             0.1111111111111111,
             "#46039f"
            ],
            [
             0.2222222222222222,
             "#7201a8"
            ],
            [
             0.3333333333333333,
             "#9c179e"
            ],
            [
             0.4444444444444444,
             "#bd3786"
            ],
            [
             0.5555555555555556,
             "#d8576b"
            ],
            [
             0.6666666666666666,
             "#ed7953"
            ],
            [
             0.7777777777777778,
             "#fb9f3a"
            ],
            [
             0.8888888888888888,
             "#fdca26"
            ],
            [
             1,
             "#f0f921"
            ]
           ],
           "sequentialminus": [
            [
             0,
             "#0d0887"
            ],
            [
             0.1111111111111111,
             "#46039f"
            ],
            [
             0.2222222222222222,
             "#7201a8"
            ],
            [
             0.3333333333333333,
             "#9c179e"
            ],
            [
             0.4444444444444444,
             "#bd3786"
            ],
            [
             0.5555555555555556,
             "#d8576b"
            ],
            [
             0.6666666666666666,
             "#ed7953"
            ],
            [
             0.7777777777777778,
             "#fb9f3a"
            ],
            [
             0.8888888888888888,
             "#fdca26"
            ],
            [
             1,
             "#f0f921"
            ]
           ]
          },
          "colorway": [
           "#636efa",
           "#EF553B",
           "#00cc96",
           "#ab63fa",
           "#FFA15A",
           "#19d3f3",
           "#FF6692",
           "#B6E880",
           "#FF97FF",
           "#FECB52"
          ],
          "font": {
           "color": "#2a3f5f"
          },
          "geo": {
           "bgcolor": "white",
           "lakecolor": "white",
           "landcolor": "#E5ECF6",
           "showlakes": true,
           "showland": true,
           "subunitcolor": "white"
          },
          "hoverlabel": {
           "align": "left"
          },
          "hovermode": "closest",
          "mapbox": {
           "style": "light"
          },
          "paper_bgcolor": "white",
          "plot_bgcolor": "#E5ECF6",
          "polar": {
           "angularaxis": {
            "gridcolor": "white",
            "linecolor": "white",
            "ticks": ""
           },
           "bgcolor": "#E5ECF6",
           "radialaxis": {
            "gridcolor": "white",
            "linecolor": "white",
            "ticks": ""
           }
          },
          "scene": {
           "xaxis": {
            "backgroundcolor": "#E5ECF6",
            "gridcolor": "white",
            "gridwidth": 2,
            "linecolor": "white",
            "showbackground": true,
            "ticks": "",
            "zerolinecolor": "white"
           },
           "yaxis": {
            "backgroundcolor": "#E5ECF6",
            "gridcolor": "white",
            "gridwidth": 2,
            "linecolor": "white",
            "showbackground": true,
            "ticks": "",
            "zerolinecolor": "white"
           },
           "zaxis": {
            "backgroundcolor": "#E5ECF6",
            "gridcolor": "white",
            "gridwidth": 2,
            "linecolor": "white",
            "showbackground": true,
            "ticks": "",
            "zerolinecolor": "white"
           }
          },
          "shapedefaults": {
           "line": {
            "color": "#2a3f5f"
           }
          },
          "ternary": {
           "aaxis": {
            "gridcolor": "white",
            "linecolor": "white",
            "ticks": ""
           },
           "baxis": {
            "gridcolor": "white",
            "linecolor": "white",
            "ticks": ""
           },
           "bgcolor": "#E5ECF6",
           "caxis": {
            "gridcolor": "white",
            "linecolor": "white",
            "ticks": ""
           }
          },
          "title": {
           "x": 0.05
          },
          "xaxis": {
           "automargin": true,
           "gridcolor": "white",
           "linecolor": "white",
           "ticks": "",
           "title": {
            "standoff": 15
           },
           "zerolinecolor": "white",
           "zerolinewidth": 2
          },
          "yaxis": {
           "automargin": true,
           "gridcolor": "white",
           "linecolor": "white",
           "ticks": "",
           "title": {
            "standoff": 15
           },
           "zerolinecolor": "white",
           "zerolinewidth": 2
          }
         }
        },
        "title": {
         "text": "Evolution des genres de film par décennie"
        },
        "updatemenus": [
         {
          "buttons": [
           {
            "args": [
             null,
             {
              "frame": {
               "duration": 500,
               "redraw": true
              },
              "fromcurrent": true,
              "mode": "immediate",
              "transition": {
               "duration": 500,
               "easing": "linear"
              }
             }
            ],
            "label": "&#9654;",
            "method": "animate"
           },
           {
            "args": [
             [
              null
             ],
             {
              "frame": {
               "duration": 0,
               "redraw": true
              },
              "fromcurrent": true,
              "mode": "immediate",
              "transition": {
               "duration": 0,
               "easing": "linear"
              }
             }
            ],
            "label": "&#9724;",
            "method": "animate"
           }
          ],
          "direction": "left",
          "pad": {
           "r": 10,
           "t": 70
          },
          "showactive": false,
          "type": "buttons",
          "x": 0.1,
          "xanchor": "right",
          "y": 0,
          "yanchor": "top"
         }
        ],
        "xaxis": {
         "anchor": "y",
         "categoryarray": [
          "Action",
          "Adventure",
          "Biography",
          "Comedy",
          "Crime",
          "Drama",
          "Horror",
          "Thriller",
          "Western",
          "Animation",
          "Family",
          "Fantasy",
          "Mystery",
          "Romance",
          "Documentary",
          "Sci-Fi",
          "Music",
          "History"
         ],
         "categoryorder": "array",
         "domain": [
          0,
          1
         ],
         "title": {
          "text": "genre1"
         }
        },
        "yaxis": {
         "anchor": "x",
         "domain": [
          0,
          1
         ],
         "range": [
          0,
          619.3000000000001
         ],
         "title": {
          "text": "total_genre"
         }
        }
       }
      }
     },
     "metadata": {},
     "output_type": "display_data"
    }
   ],
   "source": [
    "# Evolution des genres de film par décennie\n",
    "\n",
    "df_merged['startYear'] = df_merged['startYear'].astype(int)\n",
    "\n",
    "# Filtrer les données pour les années en décennies jusqu'en 2023\n",
    "df_filtered = df_merged[df_merged['startYear'] <= 2023]\n",
    "\n",
    "# Ajouter une colonne pour les décennies\n",
    "df_filtered['decade'] = (df_filtered['startYear'] // 10) * 10\n",
    "\n",
    "# Calculer le total par genre pour chaque décennie\n",
    "df_genre_count = df_filtered.groupby(['decade', 'genre1']).size().reset_index(name='total_genre')\n",
    "\n",
    "# Créer un bar chart avec animation par décennie\n",
    "fig = px.bar(df_genre_count, \n",
    "             x='genre1', \n",
    "             y='total_genre', \n",
    "             color='genre1', \n",
    "             animation_frame='decade', \n",
    "             title='Evolution des genres de film par décennie',\n",
    "             category_orders={'decade': list(range(df_genre_count['decade'].min(), 2024, 10))})\n",
    "\n",
    "# Ajuster les limites de l'axe Y\n",
    "fig.update_layout(yaxis_range=[0, df_genre_count['total_genre'].max() * 1.1])\n",
    "\n",
    "# Réduire la vitesse de l'animation\n",
    "animation_settings = {\n",
    "    \"frame\": {\"duration\": 2000, \"redraw\": True}, # Durée de chaque frame en millisecondes\n",
    "    \"fromcurrent\": True, \n",
    "    \"transition\": {\"duration\": 500, \"easing\": \"quadratic-in-out\"}, # Durée de la transition entre frames\n",
    "}\n",
    "\n",
    "fig.show()"
   ]
  },
  {
   "cell_type": "code",
   "execution_count": 180,
   "metadata": {},
   "outputs": [
    {
     "data": {
      "application/vnd.plotly.v1+json": {
       "config": {
        "plotlyServerURL": "https://plot.ly"
       },
       "data": [
        {
         "alignmentgroup": "True",
         "hovertemplate": "Acteur/Actrice=%{x}<br>decade=1960<br>Nombre de films=%{y}<extra></extra>",
         "legendgroup": " George Kennedy",
         "marker": {
          "color": "#636efa",
          "pattern": {
           "shape": ""
          }
         },
         "name": " George Kennedy",
         "offsetgroup": " George Kennedy",
         "orientation": "v",
         "showlegend": true,
         "textposition": "auto",
         "type": "bar",
         "x": [
          " George Kennedy"
         ],
         "xaxis": "x",
         "y": [
          8
         ],
         "yaxis": "y"
        },
        {
         "alignmentgroup": "True",
         "hovertemplate": "Acteur/Actrice=%{x}<br>decade=1960<br>Nombre de films=%{y}<extra></extra>",
         "legendgroup": " John Wayne",
         "marker": {
          "color": "#EF553B",
          "pattern": {
           "shape": ""
          }
         },
         "name": " John Wayne",
         "offsetgroup": " John Wayne",
         "orientation": "v",
         "showlegend": true,
         "textposition": "auto",
         "type": "bar",
         "x": [
          " John Wayne"
         ],
         "xaxis": "x",
         "y": [
          7
         ],
         "yaxis": "y"
        },
        {
         "alignmentgroup": "True",
         "hovertemplate": "Acteur/Actrice=%{x}<br>decade=1960<br>Nombre de films=%{y}<extra></extra>",
         "legendgroup": " Alain Delon",
         "marker": {
          "color": "#00cc96",
          "pattern": {
           "shape": ""
          }
         },
         "name": " Alain Delon",
         "offsetgroup": " Alain Delon",
         "orientation": "v",
         "showlegend": true,
         "textposition": "auto",
         "type": "bar",
         "x": [
          " Alain Delon"
         ],
         "xaxis": "x",
         "y": [
          6
         ],
         "yaxis": "y"
        },
        {
         "alignmentgroup": "True",
         "hovertemplate": "Acteur/Actrice=%{x}<br>decade=1960<br>Nombre de films=%{y}<extra></extra>",
         "legendgroup": " Bernard Lee",
         "marker": {
          "color": "#ab63fa",
          "pattern": {
           "shape": ""
          }
         },
         "name": " Bernard Lee",
         "offsetgroup": " Bernard Lee",
         "orientation": "v",
         "showlegend": true,
         "textposition": "auto",
         "type": "bar",
         "x": [
          " Bernard Lee"
         ],
         "xaxis": "x",
         "y": [
          6
         ],
         "yaxis": "y"
        },
        {
         "alignmentgroup": "True",
         "hovertemplate": "Acteur/Actrice=%{x}<br>decade=1960<br>Nombre de films=%{y}<extra></extra>",
         "legendgroup": " Clint Eastwood",
         "marker": {
          "color": "#FFA15A",
          "pattern": {
           "shape": ""
          }
         },
         "name": " Clint Eastwood",
         "offsetgroup": " Clint Eastwood",
         "orientation": "v",
         "showlegend": true,
         "textposition": "auto",
         "type": "bar",
         "x": [
          " Clint Eastwood"
         ],
         "xaxis": "x",
         "y": [
          6
         ],
         "yaxis": "y"
        }
       ],
       "frames": [
        {
         "data": [
          {
           "alignmentgroup": "True",
           "hovertemplate": "Acteur/Actrice=%{x}<br>decade=1960<br>Nombre de films=%{y}<extra></extra>",
           "legendgroup": " George Kennedy",
           "marker": {
            "color": "#636efa",
            "pattern": {
             "shape": ""
            }
           },
           "name": " George Kennedy",
           "offsetgroup": " George Kennedy",
           "orientation": "v",
           "showlegend": true,
           "textposition": "auto",
           "type": "bar",
           "x": [
            " George Kennedy"
           ],
           "xaxis": "x",
           "y": [
            8
           ],
           "yaxis": "y"
          },
          {
           "alignmentgroup": "True",
           "hovertemplate": "Acteur/Actrice=%{x}<br>decade=1960<br>Nombre de films=%{y}<extra></extra>",
           "legendgroup": " John Wayne",
           "marker": {
            "color": "#EF553B",
            "pattern": {
             "shape": ""
            }
           },
           "name": " John Wayne",
           "offsetgroup": " John Wayne",
           "orientation": "v",
           "showlegend": true,
           "textposition": "auto",
           "type": "bar",
           "x": [
            " John Wayne"
           ],
           "xaxis": "x",
           "y": [
            7
           ],
           "yaxis": "y"
          },
          {
           "alignmentgroup": "True",
           "hovertemplate": "Acteur/Actrice=%{x}<br>decade=1960<br>Nombre de films=%{y}<extra></extra>",
           "legendgroup": " Alain Delon",
           "marker": {
            "color": "#00cc96",
            "pattern": {
             "shape": ""
            }
           },
           "name": " Alain Delon",
           "offsetgroup": " Alain Delon",
           "orientation": "v",
           "showlegend": true,
           "textposition": "auto",
           "type": "bar",
           "x": [
            " Alain Delon"
           ],
           "xaxis": "x",
           "y": [
            6
           ],
           "yaxis": "y"
          },
          {
           "alignmentgroup": "True",
           "hovertemplate": "Acteur/Actrice=%{x}<br>decade=1960<br>Nombre de films=%{y}<extra></extra>",
           "legendgroup": " Bernard Lee",
           "marker": {
            "color": "#ab63fa",
            "pattern": {
             "shape": ""
            }
           },
           "name": " Bernard Lee",
           "offsetgroup": " Bernard Lee",
           "orientation": "v",
           "showlegend": true,
           "textposition": "auto",
           "type": "bar",
           "x": [
            " Bernard Lee"
           ],
           "xaxis": "x",
           "y": [
            6
           ],
           "yaxis": "y"
          },
          {
           "alignmentgroup": "True",
           "hovertemplate": "Acteur/Actrice=%{x}<br>decade=1960<br>Nombre de films=%{y}<extra></extra>",
           "legendgroup": " Clint Eastwood",
           "marker": {
            "color": "#FFA15A",
            "pattern": {
             "shape": ""
            }
           },
           "name": " Clint Eastwood",
           "offsetgroup": " Clint Eastwood",
           "orientation": "v",
           "showlegend": true,
           "textposition": "auto",
           "type": "bar",
           "x": [
            " Clint Eastwood"
           ],
           "xaxis": "x",
           "y": [
            6
           ],
           "yaxis": "y"
          }
         ],
         "name": "1960"
        },
        {
         "data": [
          {
           "alignmentgroup": "True",
           "hovertemplate": "Acteur/Actrice=%{x}<br>decade=1970<br>Nombre de films=%{y}<extra></extra>",
           "legendgroup": " Clint Eastwood",
           "marker": {
            "color": "#FFA15A",
            "pattern": {
             "shape": ""
            }
           },
           "name": " Clint Eastwood",
           "offsetgroup": " Clint Eastwood",
           "orientation": "v",
           "showlegend": true,
           "textposition": "auto",
           "type": "bar",
           "x": [
            " Clint Eastwood"
           ],
           "xaxis": "x",
           "y": [
            14
           ],
           "yaxis": "y"
          },
          {
           "alignmentgroup": "True",
           "hovertemplate": "Acteur/Actrice=%{x}<br>decade=1970<br>Nombre de films=%{y}<extra></extra>",
           "legendgroup": " Donald Sutherland",
           "marker": {
            "color": "#19d3f3",
            "pattern": {
             "shape": ""
            }
           },
           "name": " Donald Sutherland",
           "offsetgroup": " Donald Sutherland",
           "orientation": "v",
           "showlegend": true,
           "textposition": "auto",
           "type": "bar",
           "x": [
            " Donald Sutherland"
           ],
           "xaxis": "x",
           "y": [
            7
           ],
           "yaxis": "y"
          },
          {
           "alignmentgroup": "True",
           "hovertemplate": "Acteur/Actrice=%{x}<br>decade=1970<br>Nombre de films=%{y}<extra></extra>",
           "legendgroup": " Terence Hill",
           "marker": {
            "color": "#FF6692",
            "pattern": {
             "shape": ""
            }
           },
           "name": " Terence Hill",
           "offsetgroup": " Terence Hill",
           "orientation": "v",
           "showlegend": true,
           "textposition": "auto",
           "type": "bar",
           "x": [
            " Terence Hill"
           ],
           "xaxis": "x",
           "y": [
            7
           ],
           "yaxis": "y"
          },
          {
           "alignmentgroup": "True",
           "hovertemplate": "Acteur/Actrice=%{x}<br>decade=1970<br>Nombre de films=%{y}<extra></extra>",
           "legendgroup": " Al Pacino",
           "marker": {
            "color": "#B6E880",
            "pattern": {
             "shape": ""
            }
           },
           "name": " Al Pacino",
           "offsetgroup": " Al Pacino",
           "orientation": "v",
           "showlegend": true,
           "textposition": "auto",
           "type": "bar",
           "x": [
            " Al Pacino"
           ],
           "xaxis": "x",
           "y": [
            6
           ],
           "yaxis": "y"
          },
          {
           "alignmentgroup": "True",
           "hovertemplate": "Acteur/Actrice=%{x}<br>decade=1970<br>Nombre de films=%{y}<extra></extra>",
           "legendgroup": " Bud Spencer",
           "marker": {
            "color": "#FF97FF",
            "pattern": {
             "shape": ""
            }
           },
           "name": " Bud Spencer",
           "offsetgroup": " Bud Spencer",
           "orientation": "v",
           "showlegend": true,
           "textposition": "auto",
           "type": "bar",
           "x": [
            " Bud Spencer"
           ],
           "xaxis": "x",
           "y": [
            6
           ],
           "yaxis": "y"
          }
         ],
         "name": "1970"
        },
        {
         "data": [
          {
           "alignmentgroup": "True",
           "hovertemplate": "Acteur/Actrice=%{x}<br>decade=1980<br>Nombre de films=%{y}<extra></extra>",
           "legendgroup": " Harrison Ford",
           "marker": {
            "color": "#FECB52",
            "pattern": {
             "shape": ""
            }
           },
           "name": " Harrison Ford",
           "offsetgroup": " Harrison Ford",
           "orientation": "v",
           "showlegend": true,
           "textposition": "auto",
           "type": "bar",
           "x": [
            " Harrison Ford"
           ],
           "xaxis": "x",
           "y": [
            9
           ],
           "yaxis": "y"
          },
          {
           "alignmentgroup": "True",
           "hovertemplate": "Acteur/Actrice=%{x}<br>decade=1980<br>Nombre de films=%{y}<extra></extra>",
           "legendgroup": " John Candy",
           "marker": {
            "color": "#636efa",
            "pattern": {
             "shape": ""
            }
           },
           "name": " John Candy",
           "offsetgroup": " John Candy",
           "orientation": "v",
           "showlegend": true,
           "textposition": "auto",
           "type": "bar",
           "x": [
            " John Candy"
           ],
           "xaxis": "x",
           "y": [
            9
           ],
           "yaxis": "y"
          },
          {
           "alignmentgroup": "True",
           "hovertemplate": "Acteur/Actrice=%{x}<br>decade=1980<br>Nombre de films=%{y}<extra></extra>",
           "legendgroup": " Robert De Niro",
           "marker": {
            "color": "#EF553B",
            "pattern": {
             "shape": ""
            }
           },
           "name": " Robert De Niro",
           "offsetgroup": " Robert De Niro",
           "orientation": "v",
           "showlegend": true,
           "textposition": "auto",
           "type": "bar",
           "x": [
            " Robert De Niro"
           ],
           "xaxis": "x",
           "y": [
            9
           ],
           "yaxis": "y"
          },
          {
           "alignmentgroup": "True",
           "hovertemplate": "Acteur/Actrice=%{x}<br>decade=1980<br>Nombre de films=%{y}<extra></extra>",
           "legendgroup": " Tom Cruise",
           "marker": {
            "color": "#00cc96",
            "pattern": {
             "shape": ""
            }
           },
           "name": " Tom Cruise",
           "offsetgroup": " Tom Cruise",
           "orientation": "v",
           "showlegend": true,
           "textposition": "auto",
           "type": "bar",
           "x": [
            " Tom Cruise"
           ],
           "xaxis": "x",
           "y": [
            9
           ],
           "yaxis": "y"
          },
          {
           "alignmentgroup": "True",
           "hovertemplate": "Acteur/Actrice=%{x}<br>decade=1980<br>Nombre de films=%{y}<extra></extra>",
           "legendgroup": " Jackie Chan",
           "marker": {
            "color": "#ab63fa",
            "pattern": {
             "shape": ""
            }
           },
           "name": " Jackie Chan",
           "offsetgroup": " Jackie Chan",
           "orientation": "v",
           "showlegend": true,
           "textposition": "auto",
           "type": "bar",
           "x": [
            " Jackie Chan"
           ],
           "xaxis": "x",
           "y": [
            8
           ],
           "yaxis": "y"
          }
         ],
         "name": "1980"
        },
        {
         "data": [
          {
           "alignmentgroup": "True",
           "hovertemplate": "Acteur/Actrice=%{x}<br>decade=1990<br>Nombre de films=%{y}<extra></extra>",
           "legendgroup": " Robert De Niro",
           "marker": {
            "color": "#EF553B",
            "pattern": {
             "shape": ""
            }
           },
           "name": " Robert De Niro",
           "offsetgroup": " Robert De Niro",
           "orientation": "v",
           "showlegend": true,
           "textposition": "auto",
           "type": "bar",
           "x": [
            " Robert De Niro"
           ],
           "xaxis": "x",
           "y": [
            18
           ],
           "yaxis": "y"
          },
          {
           "alignmentgroup": "True",
           "hovertemplate": "Acteur/Actrice=%{x}<br>decade=1990<br>Nombre de films=%{y}<extra></extra>",
           "legendgroup": " Samuel L. Jackson",
           "marker": {
            "color": "#FFA15A",
            "pattern": {
             "shape": ""
            }
           },
           "name": " Samuel L. Jackson",
           "offsetgroup": " Samuel L. Jackson",
           "orientation": "v",
           "showlegend": true,
           "textposition": "auto",
           "type": "bar",
           "x": [
            " Samuel L. Jackson"
           ],
           "xaxis": "x",
           "y": [
            15
           ],
           "yaxis": "y"
          },
          {
           "alignmentgroup": "True",
           "hovertemplate": "Acteur/Actrice=%{x}<br>decade=1990<br>Nombre de films=%{y}<extra></extra>",
           "legendgroup": " Brad Pitt",
           "marker": {
            "color": "#19d3f3",
            "pattern": {
             "shape": ""
            }
           },
           "name": " Brad Pitt",
           "offsetgroup": " Brad Pitt",
           "orientation": "v",
           "showlegend": true,
           "textposition": "auto",
           "type": "bar",
           "x": [
            " Brad Pitt"
           ],
           "xaxis": "x",
           "y": [
            13
           ],
           "yaxis": "y"
          },
          {
           "alignmentgroup": "True",
           "hovertemplate": "Acteur/Actrice=%{x}<br>decade=1990<br>Nombre de films=%{y}<extra></extra>",
           "legendgroup": " Denzel Washington",
           "marker": {
            "color": "#FF6692",
            "pattern": {
             "shape": ""
            }
           },
           "name": " Denzel Washington",
           "offsetgroup": " Denzel Washington",
           "orientation": "v",
           "showlegend": true,
           "textposition": "auto",
           "type": "bar",
           "x": [
            " Denzel Washington"
           ],
           "xaxis": "x",
           "y": [
            13
           ],
           "yaxis": "y"
          },
          {
           "alignmentgroup": "True",
           "hovertemplate": "Acteur/Actrice=%{x}<br>decade=1990<br>Nombre de films=%{y}<extra></extra>",
           "legendgroup": " Bruce Willis",
           "marker": {
            "color": "#B6E880",
            "pattern": {
             "shape": ""
            }
           },
           "name": " Bruce Willis",
           "offsetgroup": " Bruce Willis",
           "orientation": "v",
           "showlegend": true,
           "textposition": "auto",
           "type": "bar",
           "x": [
            " Bruce Willis"
           ],
           "xaxis": "x",
           "y": [
            12
           ],
           "yaxis": "y"
          }
         ],
         "name": "1990"
        },
        {
         "data": [
          {
           "alignmentgroup": "True",
           "hovertemplate": "Acteur/Actrice=%{x}<br>decade=2000<br>Nombre de films=%{y}<extra></extra>",
           "legendgroup": " Morgan Freeman",
           "marker": {
            "color": "#FF97FF",
            "pattern": {
             "shape": ""
            }
           },
           "name": " Morgan Freeman",
           "offsetgroup": " Morgan Freeman",
           "orientation": "v",
           "showlegend": true,
           "textposition": "auto",
           "type": "bar",
           "x": [
            " Morgan Freeman"
           ],
           "xaxis": "x",
           "y": [
            16
           ],
           "yaxis": "y"
          },
          {
           "alignmentgroup": "True",
           "hovertemplate": "Acteur/Actrice=%{x}<br>decade=2000<br>Nombre de films=%{y}<extra></extra>",
           "legendgroup": " Cate Blanchett",
           "marker": {
            "color": "#FECB52",
            "pattern": {
             "shape": ""
            }
           },
           "name": " Cate Blanchett",
           "offsetgroup": " Cate Blanchett",
           "orientation": "v",
           "showlegend": true,
           "textposition": "auto",
           "type": "bar",
           "x": [
            " Cate Blanchett"
           ],
           "xaxis": "x",
           "y": [
            15
           ],
           "yaxis": "y"
          },
          {
           "alignmentgroup": "True",
           "hovertemplate": "Acteur/Actrice=%{x}<br>decade=2000<br>Nombre de films=%{y}<extra></extra>",
           "legendgroup": " Christian Bale",
           "marker": {
            "color": "#636efa",
            "pattern": {
             "shape": ""
            }
           },
           "name": " Christian Bale",
           "offsetgroup": " Christian Bale",
           "orientation": "v",
           "showlegend": true,
           "textposition": "auto",
           "type": "bar",
           "x": [
            " Christian Bale"
           ],
           "xaxis": "x",
           "y": [
            15
           ],
           "yaxis": "y"
          },
          {
           "alignmentgroup": "True",
           "hovertemplate": "Acteur/Actrice=%{x}<br>decade=2000<br>Nombre de films=%{y}<extra></extra>",
           "legendgroup": " Charlize Theron",
           "marker": {
            "color": "#EF553B",
            "pattern": {
             "shape": ""
            }
           },
           "name": " Charlize Theron",
           "offsetgroup": " Charlize Theron",
           "orientation": "v",
           "showlegend": true,
           "textposition": "auto",
           "type": "bar",
           "x": [
            " Charlize Theron"
           ],
           "xaxis": "x",
           "y": [
            14
           ],
           "yaxis": "y"
          },
          {
           "alignmentgroup": "True",
           "hovertemplate": "Acteur/Actrice=%{x}<br>decade=2000<br>Nombre de films=%{y}<extra></extra>",
           "legendgroup": " George Clooney",
           "marker": {
            "color": "#00cc96",
            "pattern": {
             "shape": ""
            }
           },
           "name": " George Clooney",
           "offsetgroup": " George Clooney",
           "orientation": "v",
           "showlegend": true,
           "textposition": "auto",
           "type": "bar",
           "x": [
            " George Clooney"
           ],
           "xaxis": "x",
           "y": [
            14
           ],
           "yaxis": "y"
          }
         ],
         "name": "2000"
        },
        {
         "data": [
          {
           "alignmentgroup": "True",
           "hovertemplate": "Acteur/Actrice=%{x}<br>decade=2010<br>Nombre de films=%{y}<extra></extra>",
           "legendgroup": " Samuel L. Jackson",
           "marker": {
            "color": "#FFA15A",
            "pattern": {
             "shape": ""
            }
           },
           "name": " Samuel L. Jackson",
           "offsetgroup": " Samuel L. Jackson",
           "orientation": "v",
           "showlegend": true,
           "textposition": "auto",
           "type": "bar",
           "x": [
            " Samuel L. Jackson"
           ],
           "xaxis": "x",
           "y": [
            17
           ],
           "yaxis": "y"
          },
          {
           "alignmentgroup": "True",
           "hovertemplate": "Acteur/Actrice=%{x}<br>decade=2010<br>Nombre de films=%{y}<extra></extra>",
           "legendgroup": " Mark Strong",
           "marker": {
            "color": "#ab63fa",
            "pattern": {
             "shape": ""
            }
           },
           "name": " Mark Strong",
           "offsetgroup": " Mark Strong",
           "orientation": "v",
           "showlegend": true,
           "textposition": "auto",
           "type": "bar",
           "x": [
            " Mark Strong"
           ],
           "xaxis": "x",
           "y": [
            18
           ],
           "yaxis": "y"
          },
          {
           "alignmentgroup": "True",
           "hovertemplate": "Acteur/Actrice=%{x}<br>decade=2010<br>Nombre de films=%{y}<extra></extra>",
           "legendgroup": " Mark Wahlberg",
           "marker": {
            "color": "#FFA15A",
            "pattern": {
             "shape": ""
            }
           },
           "name": " Mark Wahlberg",
           "offsetgroup": " Mark Wahlberg",
           "orientation": "v",
           "showlegend": true,
           "textposition": "auto",
           "type": "bar",
           "x": [
            " Mark Wahlberg"
           ],
           "xaxis": "x",
           "y": [
            18
           ],
           "yaxis": "y"
          },
          {
           "alignmentgroup": "True",
           "hovertemplate": "Acteur/Actrice=%{x}<br>decade=2010<br>Nombre de films=%{y}<extra></extra>",
           "legendgroup": " Woody Harrelson",
           "marker": {
            "color": "#19d3f3",
            "pattern": {
             "shape": ""
            }
           },
           "name": " Woody Harrelson",
           "offsetgroup": " Woody Harrelson",
           "orientation": "v",
           "showlegend": true,
           "textposition": "auto",
           "type": "bar",
           "x": [
            " Woody Harrelson"
           ],
           "xaxis": "x",
           "y": [
            18
           ],
           "yaxis": "y"
          },
          {
           "alignmentgroup": "True",
           "hovertemplate": "Acteur/Actrice=%{x}<br>decade=2010<br>Nombre de films=%{y}<extra></extra>",
           "legendgroup": " Colin Farrell",
           "marker": {
            "color": "#FF6692",
            "pattern": {
             "shape": ""
            }
           },
           "name": " Colin Farrell",
           "offsetgroup": " Colin Farrell",
           "orientation": "v",
           "showlegend": true,
           "textposition": "auto",
           "type": "bar",
           "x": [
            " Colin Farrell"
           ],
           "xaxis": "x",
           "y": [
            16
           ],
           "yaxis": "y"
          }
         ],
         "name": "2010"
        },
        {
         "data": [
          {
           "alignmentgroup": "True",
           "hovertemplate": "Acteur/Actrice=%{x}<br>decade=2020<br>Nombre de films=%{y}<extra></extra>",
           "legendgroup": " Timothée Chalamet",
           "marker": {
            "color": "#B6E880",
            "pattern": {
             "shape": ""
            }
           },
           "name": " Timothée Chalamet",
           "offsetgroup": " Timothée Chalamet",
           "orientation": "v",
           "showlegend": true,
           "textposition": "auto",
           "type": "bar",
           "x": [
            " Timothée Chalamet"
           ],
           "xaxis": "x",
           "y": [
            7
           ],
           "yaxis": "y"
          },
          {
           "alignmentgroup": "True",
           "hovertemplate": "Acteur/Actrice=%{x}<br>decade=2020<br>Nombre de films=%{y}<extra></extra>",
           "legendgroup": " Christopher Abbott",
           "marker": {
            "color": "#FF97FF",
            "pattern": {
             "shape": ""
            }
           },
           "name": " Christopher Abbott",
           "offsetgroup": " Christopher Abbott",
           "orientation": "v",
           "showlegend": true,
           "textposition": "auto",
           "type": "bar",
           "x": [
            " Christopher Abbott"
           ],
           "xaxis": "x",
           "y": [
            6
           ],
           "yaxis": "y"
          },
          {
           "alignmentgroup": "True",
           "hovertemplate": "Acteur/Actrice=%{x}<br>decade=2020<br>Nombre de films=%{y}<extra></extra>",
           "legendgroup": " Dave Bautista",
           "marker": {
            "color": "#FECB52",
            "pattern": {
             "shape": ""
            }
           },
           "name": " Dave Bautista",
           "offsetgroup": " Dave Bautista",
           "orientation": "v",
           "showlegend": true,
           "textposition": "auto",
           "type": "bar",
           "x": [
            " Dave Bautista"
           ],
           "xaxis": "x",
           "y": [
            6
           ],
           "yaxis": "y"
          },
          {
           "alignmentgroup": "True",
           "hovertemplate": "Acteur/Actrice=%{x}<br>decade=2020<br>Nombre de films=%{y}<extra></extra>",
           "legendgroup": " Jessie Buckley",
           "marker": {
            "color": "#636efa",
            "pattern": {
             "shape": ""
            }
           },
           "name": " Jessie Buckley",
           "offsetgroup": " Jessie Buckley",
           "orientation": "v",
           "showlegend": true,
           "textposition": "auto",
           "type": "bar",
           "x": [
            " Jessie Buckley"
           ],
           "xaxis": "x",
           "y": [
            6
           ],
           "yaxis": "y"
          },
          {
           "alignmentgroup": "True",
           "hovertemplate": "Acteur/Actrice=%{x}<br>decade=2020<br>Nombre de films=%{y}<extra></extra>",
           "legendgroup": " Lil Rel Howery",
           "marker": {
            "color": "#EF553B",
            "pattern": {
             "shape": ""
            }
           },
           "name": " Lil Rel Howery",
           "offsetgroup": " Lil Rel Howery",
           "orientation": "v",
           "showlegend": true,
           "textposition": "auto",
           "type": "bar",
           "x": [
            " Lil Rel Howery"
           ],
           "xaxis": "x",
           "y": [
            6
           ],
           "yaxis": "y"
          }
         ],
         "name": "2020"
        }
       ],
       "layout": {
        "barmode": "relative",
        "height": 600,
        "legend": {
         "title": {
          "text": "Acteur/Actrice"
         },
         "tracegroupgap": 0
        },
        "showlegend": false,
        "sliders": [
         {
          "active": 0,
          "currentvalue": {
           "prefix": "decade="
          },
          "len": 0.9,
          "pad": {
           "b": 10,
           "t": 60
          },
          "steps": [
           {
            "args": [
             [
              "1960"
             ],
             {
              "frame": {
               "duration": 0,
               "redraw": true
              },
              "fromcurrent": true,
              "mode": "immediate",
              "transition": {
               "duration": 0,
               "easing": "linear"
              }
             }
            ],
            "label": "1960",
            "method": "animate"
           },
           {
            "args": [
             [
              "1970"
             ],
             {
              "frame": {
               "duration": 0,
               "redraw": true
              },
              "fromcurrent": true,
              "mode": "immediate",
              "transition": {
               "duration": 0,
               "easing": "linear"
              }
             }
            ],
            "label": "1970",
            "method": "animate"
           },
           {
            "args": [
             [
              "1980"
             ],
             {
              "frame": {
               "duration": 0,
               "redraw": true
              },
              "fromcurrent": true,
              "mode": "immediate",
              "transition": {
               "duration": 0,
               "easing": "linear"
              }
             }
            ],
            "label": "1980",
            "method": "animate"
           },
           {
            "args": [
             [
              "1990"
             ],
             {
              "frame": {
               "duration": 0,
               "redraw": true
              },
              "fromcurrent": true,
              "mode": "immediate",
              "transition": {
               "duration": 0,
               "easing": "linear"
              }
             }
            ],
            "label": "1990",
            "method": "animate"
           },
           {
            "args": [
             [
              "2000"
             ],
             {
              "frame": {
               "duration": 0,
               "redraw": true
              },
              "fromcurrent": true,
              "mode": "immediate",
              "transition": {
               "duration": 0,
               "easing": "linear"
              }
             }
            ],
            "label": "2000",
            "method": "animate"
           },
           {
            "args": [
             [
              "2010"
             ],
             {
              "frame": {
               "duration": 0,
               "redraw": true
              },
              "fromcurrent": true,
              "mode": "immediate",
              "transition": {
               "duration": 0,
               "easing": "linear"
              }
             }
            ],
            "label": "2010",
            "method": "animate"
           },
           {
            "args": [
             [
              "2020"
             ],
             {
              "frame": {
               "duration": 0,
               "redraw": true
              },
              "fromcurrent": true,
              "mode": "immediate",
              "transition": {
               "duration": 0,
               "easing": "linear"
              }
             }
            ],
            "label": "2020",
            "method": "animate"
           }
          ],
          "x": 0.1,
          "xanchor": "left",
          "y": 0,
          "yanchor": "top"
         }
        ],
        "template": {
         "data": {
          "bar": [
           {
            "error_x": {
             "color": "#2a3f5f"
            },
            "error_y": {
             "color": "#2a3f5f"
            },
            "marker": {
             "line": {
              "color": "#E5ECF6",
              "width": 0.5
             },
             "pattern": {
              "fillmode": "overlay",
              "size": 10,
              "solidity": 0.2
             }
            },
            "type": "bar"
           }
          ],
          "barpolar": [
           {
            "marker": {
             "line": {
              "color": "#E5ECF6",
              "width": 0.5
             },
             "pattern": {
              "fillmode": "overlay",
              "size": 10,
              "solidity": 0.2
             }
            },
            "type": "barpolar"
           }
          ],
          "carpet": [
           {
            "aaxis": {
             "endlinecolor": "#2a3f5f",
             "gridcolor": "white",
             "linecolor": "white",
             "minorgridcolor": "white",
             "startlinecolor": "#2a3f5f"
            },
            "baxis": {
             "endlinecolor": "#2a3f5f",
             "gridcolor": "white",
             "linecolor": "white",
             "minorgridcolor": "white",
             "startlinecolor": "#2a3f5f"
            },
            "type": "carpet"
           }
          ],
          "choropleth": [
           {
            "colorbar": {
             "outlinewidth": 0,
             "ticks": ""
            },
            "type": "choropleth"
           }
          ],
          "contour": [
           {
            "colorbar": {
             "outlinewidth": 0,
             "ticks": ""
            },
            "colorscale": [
             [
              0,
              "#0d0887"
             ],
             [
              0.1111111111111111,
              "#46039f"
             ],
             [
              0.2222222222222222,
              "#7201a8"
             ],
             [
              0.3333333333333333,
              "#9c179e"
             ],
             [
              0.4444444444444444,
              "#bd3786"
             ],
             [
              0.5555555555555556,
              "#d8576b"
             ],
             [
              0.6666666666666666,
              "#ed7953"
             ],
             [
              0.7777777777777778,
              "#fb9f3a"
             ],
             [
              0.8888888888888888,
              "#fdca26"
             ],
             [
              1,
              "#f0f921"
             ]
            ],
            "type": "contour"
           }
          ],
          "contourcarpet": [
           {
            "colorbar": {
             "outlinewidth": 0,
             "ticks": ""
            },
            "type": "contourcarpet"
           }
          ],
          "heatmap": [
           {
            "colorbar": {
             "outlinewidth": 0,
             "ticks": ""
            },
            "colorscale": [
             [
              0,
              "#0d0887"
             ],
             [
              0.1111111111111111,
              "#46039f"
             ],
             [
              0.2222222222222222,
              "#7201a8"
             ],
             [
              0.3333333333333333,
              "#9c179e"
             ],
             [
              0.4444444444444444,
              "#bd3786"
             ],
             [
              0.5555555555555556,
              "#d8576b"
             ],
             [
              0.6666666666666666,
              "#ed7953"
             ],
             [
              0.7777777777777778,
              "#fb9f3a"
             ],
             [
              0.8888888888888888,
              "#fdca26"
             ],
             [
              1,
              "#f0f921"
             ]
            ],
            "type": "heatmap"
           }
          ],
          "heatmapgl": [
           {
            "colorbar": {
             "outlinewidth": 0,
             "ticks": ""
            },
            "colorscale": [
             [
              0,
              "#0d0887"
             ],
             [
              0.1111111111111111,
              "#46039f"
             ],
             [
              0.2222222222222222,
              "#7201a8"
             ],
             [
              0.3333333333333333,
              "#9c179e"
             ],
             [
              0.4444444444444444,
              "#bd3786"
             ],
             [
              0.5555555555555556,
              "#d8576b"
             ],
             [
              0.6666666666666666,
              "#ed7953"
             ],
             [
              0.7777777777777778,
              "#fb9f3a"
             ],
             [
              0.8888888888888888,
              "#fdca26"
             ],
             [
              1,
              "#f0f921"
             ]
            ],
            "type": "heatmapgl"
           }
          ],
          "histogram": [
           {
            "marker": {
             "pattern": {
              "fillmode": "overlay",
              "size": 10,
              "solidity": 0.2
             }
            },
            "type": "histogram"
           }
          ],
          "histogram2d": [
           {
            "colorbar": {
             "outlinewidth": 0,
             "ticks": ""
            },
            "colorscale": [
             [
              0,
              "#0d0887"
             ],
             [
              0.1111111111111111,
              "#46039f"
             ],
             [
              0.2222222222222222,
              "#7201a8"
             ],
             [
              0.3333333333333333,
              "#9c179e"
             ],
             [
              0.4444444444444444,
              "#bd3786"
             ],
             [
              0.5555555555555556,
              "#d8576b"
             ],
             [
              0.6666666666666666,
              "#ed7953"
             ],
             [
              0.7777777777777778,
              "#fb9f3a"
             ],
             [
              0.8888888888888888,
              "#fdca26"
             ],
             [
              1,
              "#f0f921"
             ]
            ],
            "type": "histogram2d"
           }
          ],
          "histogram2dcontour": [
           {
            "colorbar": {
             "outlinewidth": 0,
             "ticks": ""
            },
            "colorscale": [
             [
              0,
              "#0d0887"
             ],
             [
              0.1111111111111111,
              "#46039f"
             ],
             [
              0.2222222222222222,
              "#7201a8"
             ],
             [
              0.3333333333333333,
              "#9c179e"
             ],
             [
              0.4444444444444444,
              "#bd3786"
             ],
             [
              0.5555555555555556,
              "#d8576b"
             ],
             [
              0.6666666666666666,
              "#ed7953"
             ],
             [
              0.7777777777777778,
              "#fb9f3a"
             ],
             [
              0.8888888888888888,
              "#fdca26"
             ],
             [
              1,
              "#f0f921"
             ]
            ],
            "type": "histogram2dcontour"
           }
          ],
          "mesh3d": [
           {
            "colorbar": {
             "outlinewidth": 0,
             "ticks": ""
            },
            "type": "mesh3d"
           }
          ],
          "parcoords": [
           {
            "line": {
             "colorbar": {
              "outlinewidth": 0,
              "ticks": ""
             }
            },
            "type": "parcoords"
           }
          ],
          "pie": [
           {
            "automargin": true,
            "type": "pie"
           }
          ],
          "scatter": [
           {
            "fillpattern": {
             "fillmode": "overlay",
             "size": 10,
             "solidity": 0.2
            },
            "type": "scatter"
           }
          ],
          "scatter3d": [
           {
            "line": {
             "colorbar": {
              "outlinewidth": 0,
              "ticks": ""
             }
            },
            "marker": {
             "colorbar": {
              "outlinewidth": 0,
              "ticks": ""
             }
            },
            "type": "scatter3d"
           }
          ],
          "scattercarpet": [
           {
            "marker": {
             "colorbar": {
              "outlinewidth": 0,
              "ticks": ""
             }
            },
            "type": "scattercarpet"
           }
          ],
          "scattergeo": [
           {
            "marker": {
             "colorbar": {
              "outlinewidth": 0,
              "ticks": ""
             }
            },
            "type": "scattergeo"
           }
          ],
          "scattergl": [
           {
            "marker": {
             "colorbar": {
              "outlinewidth": 0,
              "ticks": ""
             }
            },
            "type": "scattergl"
           }
          ],
          "scattermapbox": [
           {
            "marker": {
             "colorbar": {
              "outlinewidth": 0,
              "ticks": ""
             }
            },
            "type": "scattermapbox"
           }
          ],
          "scatterpolar": [
           {
            "marker": {
             "colorbar": {
              "outlinewidth": 0,
              "ticks": ""
             }
            },
            "type": "scatterpolar"
           }
          ],
          "scatterpolargl": [
           {
            "marker": {
             "colorbar": {
              "outlinewidth": 0,
              "ticks": ""
             }
            },
            "type": "scatterpolargl"
           }
          ],
          "scatterternary": [
           {
            "marker": {
             "colorbar": {
              "outlinewidth": 0,
              "ticks": ""
             }
            },
            "type": "scatterternary"
           }
          ],
          "surface": [
           {
            "colorbar": {
             "outlinewidth": 0,
             "ticks": ""
            },
            "colorscale": [
             [
              0,
              "#0d0887"
             ],
             [
              0.1111111111111111,
              "#46039f"
             ],
             [
              0.2222222222222222,
              "#7201a8"
             ],
             [
              0.3333333333333333,
              "#9c179e"
             ],
             [
              0.4444444444444444,
              "#bd3786"
             ],
             [
              0.5555555555555556,
              "#d8576b"
             ],
             [
              0.6666666666666666,
              "#ed7953"
             ],
             [
              0.7777777777777778,
              "#fb9f3a"
             ],
             [
              0.8888888888888888,
              "#fdca26"
             ],
             [
              1,
              "#f0f921"
             ]
            ],
            "type": "surface"
           }
          ],
          "table": [
           {
            "cells": {
             "fill": {
              "color": "#EBF0F8"
             },
             "line": {
              "color": "white"
             }
            },
            "header": {
             "fill": {
              "color": "#C8D4E3"
             },
             "line": {
              "color": "white"
             }
            },
            "type": "table"
           }
          ]
         },
         "layout": {
          "annotationdefaults": {
           "arrowcolor": "#2a3f5f",
           "arrowhead": 0,
           "arrowwidth": 1
          },
          "autotypenumbers": "strict",
          "coloraxis": {
           "colorbar": {
            "outlinewidth": 0,
            "ticks": ""
           }
          },
          "colorscale": {
           "diverging": [
            [
             0,
             "#8e0152"
            ],
            [
             0.1,
             "#c51b7d"
            ],
            [
             0.2,
             "#de77ae"
            ],
            [
             0.3,
             "#f1b6da"
            ],
            [
             0.4,
             "#fde0ef"
            ],
            [
             0.5,
             "#f7f7f7"
            ],
            [
             0.6,
             "#e6f5d0"
            ],
            [
             0.7,
             "#b8e186"
            ],
            [
             0.8,
             "#7fbc41"
            ],
            [
             0.9,
             "#4d9221"
            ],
            [
             1,
             "#276419"
            ]
           ],
           "sequential": [
            [
             0,
             "#0d0887"
            ],
            [
             0.1111111111111111,
             "#46039f"
            ],
            [
             0.2222222222222222,
             "#7201a8"
            ],
            [
             0.3333333333333333,
             "#9c179e"
            ],
            [
             0.4444444444444444,
             "#bd3786"
            ],
            [
             0.5555555555555556,
             "#d8576b"
            ],
            [
             0.6666666666666666,
             "#ed7953"
            ],
            [
             0.7777777777777778,
             "#fb9f3a"
            ],
            [
             0.8888888888888888,
             "#fdca26"
            ],
            [
             1,
             "#f0f921"
            ]
           ],
           "sequentialminus": [
            [
             0,
             "#0d0887"
            ],
            [
             0.1111111111111111,
             "#46039f"
            ],
            [
             0.2222222222222222,
             "#7201a8"
            ],
            [
             0.3333333333333333,
             "#9c179e"
            ],
            [
             0.4444444444444444,
             "#bd3786"
            ],
            [
             0.5555555555555556,
             "#d8576b"
            ],
            [
             0.6666666666666666,
             "#ed7953"
            ],
            [
             0.7777777777777778,
             "#fb9f3a"
            ],
            [
             0.8888888888888888,
             "#fdca26"
            ],
            [
             1,
             "#f0f921"
            ]
           ]
          },
          "colorway": [
           "#636efa",
           "#EF553B",
           "#00cc96",
           "#ab63fa",
           "#FFA15A",
           "#19d3f3",
           "#FF6692",
           "#B6E880",
           "#FF97FF",
           "#FECB52"
          ],
          "font": {
           "color": "#2a3f5f"
          },
          "geo": {
           "bgcolor": "white",
           "lakecolor": "white",
           "landcolor": "#E5ECF6",
           "showlakes": true,
           "showland": true,
           "subunitcolor": "white"
          },
          "hoverlabel": {
           "align": "left"
          },
          "hovermode": "closest",
          "mapbox": {
           "style": "light"
          },
          "paper_bgcolor": "white",
          "plot_bgcolor": "#E5ECF6",
          "polar": {
           "angularaxis": {
            "gridcolor": "white",
            "linecolor": "white",
            "ticks": ""
           },
           "bgcolor": "#E5ECF6",
           "radialaxis": {
            "gridcolor": "white",
            "linecolor": "white",
            "ticks": ""
           }
          },
          "scene": {
           "xaxis": {
            "backgroundcolor": "#E5ECF6",
            "gridcolor": "white",
            "gridwidth": 2,
            "linecolor": "white",
            "showbackground": true,
            "ticks": "",
            "zerolinecolor": "white"
           },
           "yaxis": {
            "backgroundcolor": "#E5ECF6",
            "gridcolor": "white",
            "gridwidth": 2,
            "linecolor": "white",
            "showbackground": true,
            "ticks": "",
            "zerolinecolor": "white"
           },
           "zaxis": {
            "backgroundcolor": "#E5ECF6",
            "gridcolor": "white",
            "gridwidth": 2,
            "linecolor": "white",
            "showbackground": true,
            "ticks": "",
            "zerolinecolor": "white"
           }
          },
          "shapedefaults": {
           "line": {
            "color": "#2a3f5f"
           }
          },
          "ternary": {
           "aaxis": {
            "gridcolor": "white",
            "linecolor": "white",
            "ticks": ""
           },
           "baxis": {
            "gridcolor": "white",
            "linecolor": "white",
            "ticks": ""
           },
           "bgcolor": "#E5ECF6",
           "caxis": {
            "gridcolor": "white",
            "linecolor": "white",
            "ticks": ""
           }
          },
          "title": {
           "x": 0.05
          },
          "xaxis": {
           "automargin": true,
           "gridcolor": "white",
           "linecolor": "white",
           "ticks": "",
           "title": {
            "standoff": 15
           },
           "zerolinecolor": "white",
           "zerolinewidth": 2
          },
          "yaxis": {
           "automargin": true,
           "gridcolor": "white",
           "linecolor": "white",
           "ticks": "",
           "title": {
            "standoff": 15
           },
           "zerolinecolor": "white",
           "zerolinewidth": 2
          }
         }
        },
        "title": {
         "text": "Top 5 acteurs/actrices les plus prolifiques par décennie"
        },
        "updatemenus": [
         {
          "buttons": [
           {
            "args": [
             null,
             {
              "frame": {
               "duration": 500,
               "redraw": true
              },
              "fromcurrent": true,
              "mode": "immediate",
              "transition": {
               "duration": 500,
               "easing": "linear"
              }
             }
            ],
            "label": "&#9654;",
            "method": "animate"
           },
           {
            "args": [
             [
              null
             ],
             {
              "frame": {
               "duration": 0,
               "redraw": true
              },
              "fromcurrent": true,
              "mode": "immediate",
              "transition": {
               "duration": 0,
               "easing": "linear"
              }
             }
            ],
            "label": "&#9724;",
            "method": "animate"
           }
          ],
          "direction": "left",
          "pad": {
           "r": 10,
           "t": 70
          },
          "showactive": false,
          "type": "buttons",
          "x": 0.1,
          "xanchor": "right",
          "y": 0,
          "yanchor": "top"
         }
        ],
        "xaxis": {
         "anchor": "y",
         "categoryarray": [
          " George Kennedy",
          " John Wayne",
          " Alain Delon",
          " Bernard Lee",
          " Clint Eastwood",
          " Donald Sutherland",
          " Terence Hill",
          " Al Pacino",
          " Bud Spencer",
          " Harrison Ford",
          " John Candy",
          " Robert De Niro",
          " Tom Cruise",
          " Jackie Chan",
          " Samuel L. Jackson",
          " Brad Pitt",
          " Denzel Washington",
          " Bruce Willis",
          " Morgan Freeman",
          " Cate Blanchett",
          " Christian Bale",
          " Charlize Theron",
          " George Clooney",
          " Mark Strong",
          " Mark Wahlberg",
          " Woody Harrelson",
          " Colin Farrell",
          " Timothée Chalamet",
          " Christopher Abbott",
          " Dave Bautista",
          " Jessie Buckley",
          " Lil Rel Howery"
         ],
         "categoryorder": "total descending",
         "domain": [
          0,
          1
         ],
         "title": {
          "text": "Acteur/Actrice"
         }
        },
        "yaxis": {
         "anchor": "x",
         "domain": [
          0,
          1
         ],
         "range": [
          0,
          23
         ],
         "title": {
          "text": "Nombre de films"
         }
        }
       }
      }
     },
     "metadata": {},
     "output_type": "display_data"
    }
   ],
   "source": [
    "# 1. Extraire la décennie de l'année de sortie\n",
    "df_merged['decade'] = (df_merged['startYear'] // 10) * 10\n",
    "\n",
    "# 2. Exploser les acteurs/actrices dans des lignes séparées\n",
    "df_exploded = df_merged.explode('Actors_Actresses')\n",
    "\n",
    "# 3. Compter le nombre de films pour chaque acteur/actrice par décennie\n",
    "actor_counts_by_decade = df_exploded.groupby(['decade', 'Actors_Actresses']).size().reset_index(name='film_count')\n",
    "\n",
    "# 4. Identifier les 5 acteurs/actrices les plus prolifiques pour chaque décennie\n",
    "top_actors_by_decade = actor_counts_by_decade.sort_values(by=['decade', 'film_count'], ascending=[True, False])\n",
    "top_actors_by_decade = top_actors_by_decade.groupby('decade').head(5)\n",
    "\n",
    "# 5. Créer un graphique à barres animé\n",
    "fig = px.bar(top_actors_by_decade, \n",
    "             x='Actors_Actresses', \n",
    "             y='film_count', \n",
    "             color='Actors_Actresses', \n",
    "             animation_frame='decade', \n",
    "             range_y=[0, top_actors_by_decade['film_count'].max() + 5],\n",
    "             title='Top 5 acteurs/actrices les plus prolifiques par décennie',\n",
    "             labels={'film_count': 'Nombre de films', 'Actors_Actresses': 'Acteur/Actrice'},\n",
    "             height=600)\n",
    "\n",
    "fig.update_layout(xaxis={'categoryorder':'total descending'}, showlegend=False)\n",
    "fig.show()\n"
   ]
  }
 ],
 "metadata": {
  "kernelspec": {
   "display_name": "Python 3",
   "language": "python",
   "name": "python3"
  },
  "language_info": {
   "codemirror_mode": {
    "name": "ipython",
    "version": 3
   },
   "file_extension": ".py",
   "mimetype": "text/x-python",
   "name": "python",
   "nbconvert_exporter": "python",
   "pygments_lexer": "ipython3",
   "version": "3.12.2"
  }
 },
 "nbformat": 4,
 "nbformat_minor": 2
}
